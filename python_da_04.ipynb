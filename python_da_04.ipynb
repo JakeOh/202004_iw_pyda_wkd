{
  "nbformat": 4,
  "nbformat_minor": 0,
  "metadata": {
    "colab": {
      "name": "python_da_04.ipynb",
      "provenance": [],
      "collapsed_sections": [],
      "authorship_tag": "ABX9TyP499vCL0ACu+7oM7BjHmA7",
      "include_colab_link": true
    },
    "kernelspec": {
      "name": "python3",
      "display_name": "Python 3"
    }
  },
  "cells": [
    {
      "cell_type": "markdown",
      "metadata": {
        "id": "view-in-github",
        "colab_type": "text"
      },
      "source": [
        "<a href=\"https://colab.research.google.com/github/JakeOh/202004_iw_pyda_wkd/blob/master/python_da_04.ipynb\" target=\"_parent\"><img src=\"https://colab.research.google.com/assets/colab-badge.svg\" alt=\"Open In Colab\"/></a>"
      ]
    },
    {
      "cell_type": "markdown",
      "metadata": {
        "id": "Z4g_l-hoTQ85",
        "colab_type": "text"
      },
      "source": [
        "함수(function): 반복되는 기능들을 사용하기 위해서 작성한 코드 블록\n",
        "<br>\n",
        "함수는 정의(선언)하는 부분과 호출(call, invoke)하는 부분이 따로 있음.\n",
        "<br>\n",
        "argument: 함수를 호출할 때 함수에게 전달하는 값(데이터)\n",
        "<br>\n",
        "parameter: 함수를 정의하는 곳에서, 함수의 arguement를 저장하기 위해 선언하는 지역 변수"
      ]
    },
    {
      "cell_type": "code",
      "metadata": {
        "id": "vmiQ0ZTkTKiB",
        "colab_type": "code",
        "colab": {}
      },
      "source": [
        "\"\"\"\n",
        "def func_name(param1, param2, ...):\n",
        "    함수가 담당하는 기능을 작성\n",
        "    [return 값]\n",
        "\"\"\"\n",
        "\n",
        "# 함수 정의(선언)\n",
        "def add(x, y):\n",
        "    print(f'x = {x}, y = {y}')\n",
        "    return x + y"
      ],
      "execution_count": 0,
      "outputs": []
    },
    {
      "cell_type": "code",
      "metadata": {
        "id": "93DINlQPV0_o",
        "colab_type": "code",
        "outputId": "88b8cae6-3e08-42cf-9171-f1a7f8d7e541",
        "colab": {
          "base_uri": "https://localhost:8080/",
          "height": 51
        }
      },
      "source": [
        "# 함수는 호출해야만 실행됨\n",
        "result = add(1, 2)\n",
        "print(f'result = {result}')"
      ],
      "execution_count": 0,
      "outputs": [
        {
          "output_type": "stream",
          "text": [
            "x = 1, y = 2\n",
            "result = 3\n"
          ],
          "name": "stdout"
        }
      ]
    },
    {
      "cell_type": "code",
      "metadata": {
        "id": "qvXz5qMkozW2",
        "colab_type": "code",
        "outputId": "e4eba986-d032-437f-ad52-e3b114f6ae8e",
        "colab": {
          "base_uri": "https://localhost:8080/",
          "height": 34
        }
      },
      "source": [
        "# 파이썬의 함수는 2개 이상의 값을 반환(return)할 수 있음.\n",
        "def sum_and_product(x, y):\n",
        "    return x + y, x * y\n",
        "\n",
        "s, p = sum_and_product(10, 20)\n",
        "print(s, p)"
      ],
      "execution_count": 0,
      "outputs": [
        {
          "output_type": "stream",
          "text": [
            "30 200\n"
          ],
          "name": "stdout"
        }
      ]
    },
    {
      "cell_type": "code",
      "metadata": {
        "id": "8xgny_rIqNq9",
        "colab_type": "code",
        "outputId": "28f0293f-60d4-4304-beab-c0d5b37e77ca",
        "colab": {
          "base_uri": "https://localhost:8080/",
          "height": 69
        }
      },
      "source": [
        "# 파이썬 함수를 호출할 때 argument를 전달하는 방법:\n",
        "# 1) positional argument: 함수를 호출할 때 parameter 순서대로 값을 전달하는 방식\n",
        "# 2) keyword argument: 함수를 호출할 때 param=value 방식으로 값을 전달하는 방식\n",
        "#   -> keyword 방식으로 argument를 전달할 때는 순서(position)을 지키지 않아도 됨.\n",
        "\n",
        "def subtract(x, y):\n",
        "    return x - y\n",
        "\n",
        "result = subtract(1, 2)  # positional argument\n",
        "print(result)\n",
        "\n",
        "result = subtract(x=1, y=2)  # keyword argument\n",
        "print(result)\n",
        "\n",
        "result = subtract(y=1, x=2)\n",
        "print(result)"
      ],
      "execution_count": 0,
      "outputs": [
        {
          "output_type": "stream",
          "text": [
            "-1\n",
            "-1\n",
            "1\n"
          ],
          "name": "stdout"
        }
      ]
    },
    {
      "cell_type": "code",
      "metadata": {
        "id": "orBlCuWssZaF",
        "colab_type": "code",
        "outputId": "0783d36c-7ca9-4218-8c80-6fb338b1bdc4",
        "colab": {
          "base_uri": "https://localhost:8080/",
          "height": 51
        }
      },
      "source": [
        "# default argument: 함수를 정의할 때 parameter의 기본값을 설정하는 것.\n",
        "def calc(x, y=1.5):\n",
        "    return x * y\n",
        "\n",
        "result = calc(2, 3)  # 모든 argument를 전달하면, default 값이 무시됨.\n",
        "print(result)\n",
        "\n",
        "result = calc(2)  # default argument 자리의 값을 생략하면, default 값이 사용됨.\n",
        "print(result)"
      ],
      "execution_count": 0,
      "outputs": [
        {
          "output_type": "stream",
          "text": [
            "6\n",
            "3.0\n"
          ],
          "name": "stdout"
        }
      ]
    },
    {
      "cell_type": "code",
      "metadata": {
        "id": "L93TGsMPtz9N",
        "colab_type": "code",
        "outputId": "cbfae37f-38ff-4bdc-a6c5-b5fb11012040",
        "colab": {
          "base_uri": "https://localhost:8080/",
          "height": 51
        }
      },
      "source": [
        "print('hello',  123, 'Python')\n",
        "print('hello',  123, 'Python', sep=',')"
      ],
      "execution_count": 0,
      "outputs": [
        {
          "output_type": "stream",
          "text": [
            "hello 123 Python\n",
            "hello,123,Python\n"
          ],
          "name": "stdout"
        }
      ]
    },
    {
      "cell_type": "code",
      "metadata": {
        "id": "MAnEFFtDvSFV",
        "colab_type": "code",
        "outputId": "77cc1315-1d5b-4147-ac75-b05ea3ad6fc5",
        "colab": {
          "base_uri": "https://localhost:8080/",
          "height": 155
        }
      },
      "source": [
        "# variable-length argument(가변 길이 인수):\n",
        "# 함수를 호출할 때 전달하는 arugment의 개수가 다양한게 변할 수 있는 것.\n",
        "# 함수 parameter를 선언할 때, parameter 이름 앞에 *를 사용함.\n",
        "# 함수 내부에서 variable-length argument는 tuple처럼 사용.\n",
        "# ?print\n",
        "\n",
        "def fn_test(*args):\n",
        "    print(args)\n",
        "    for arg in args:\n",
        "        print(arg)\n",
        "\n",
        "fn_test()  # 가변길이 인수를 갖는 함수를 호출할 때는 argument를 전달하지 않아도 됨.\n",
        "print()\n",
        "fn_test('a')\n",
        "print()\n",
        "fn_test('a', 'b')"
      ],
      "execution_count": 0,
      "outputs": [
        {
          "output_type": "stream",
          "text": [
            "()\n",
            "\n",
            "('a',)\n",
            "a\n",
            "\n",
            "('a', 'b')\n",
            "a\n",
            "b\n"
          ],
          "name": "stdout"
        }
      ]
    },
    {
      "cell_type": "code",
      "metadata": {
        "id": "oZuJR9Ou1vaM",
        "colab_type": "code",
        "outputId": "dbe2ab5f-e725-45f5-cdb9-6bbb2f28c64d",
        "colab": {
          "base_uri": "https://localhost:8080/",
          "height": 86
        }
      },
      "source": [
        "# variable-length keyword argument:\n",
        "# 함수를 정의할 때, parameter 이름 앞에 **를 사용.\n",
        "# 함수를 호출할 때는 fn(param1=val1, param2=val2, ...) 와 같은 형식으로 호출\n",
        "# 함수 내부에서 parameter는 dict처럼 사용.\n",
        "\n",
        "def fn_test2(**kwargs):\n",
        "    print(kwargs)\n",
        "    # for key in kwargs:\n",
        "    #     print(key, kwargs[key])\n",
        "    for k, v in kwargs.items():\n",
        "        print(k, v)\n",
        "\n",
        "fn_test2(number=1, name='itwill', addr='서울 강남구')"
      ],
      "execution_count": 0,
      "outputs": [
        {
          "output_type": "stream",
          "text": [
            "{'number': 1, 'name': 'itwill', 'addr': '서울 강남구'}\n",
            "number 1\n",
            "name itwill\n",
            "addr 서울 강남구\n"
          ],
          "name": "stdout"
        }
      ]
    },
    {
      "cell_type": "code",
      "metadata": {
        "id": "dID5EGGG4PkE",
        "colab_type": "code",
        "colab": {}
      },
      "source": [
        "# 파이썬의 함수는 1급 객체(first-class object)\n",
        "# 함수를 변수에 저장 -> 함수의 argument에 다른 함수를 전달.\n",
        "# 함수가 다른 함수를 리턴할 수 있음.\n",
        "# 함수 내부에서 다른 함수를 정의할 수 있음.\n",
        "\n",
        "def my_filter(some_list, func):\n",
        "    return [x for x in some_list if func(x)]\n",
        "\n",
        "def gt5(x):\n",
        "    return x > 5"
      ],
      "execution_count": 0,
      "outputs": []
    },
    {
      "cell_type": "code",
      "metadata": {
        "id": "LLQqjqWH54R7",
        "colab_type": "code",
        "outputId": "fa897afd-661d-44f0-cadb-e71c259babeb",
        "colab": {
          "base_uri": "https://localhost:8080/",
          "height": 51
        }
      },
      "source": [
        "import random\n",
        "\n",
        "numbers = [random.randint(0, 10) for _ in range(10)]\n",
        "print(numbers)\n",
        "\n",
        "filtered = my_filter(numbers, gt5)\n",
        "print(filtered)"
      ],
      "execution_count": 0,
      "outputs": [
        {
          "output_type": "stream",
          "text": [
            "[5, 2, 10, 7, 7, 9, 10, 3, 8, 1]\n",
            "[10, 7, 7, 9, 10, 8]\n"
          ],
          "name": "stdout"
        }
      ]
    },
    {
      "cell_type": "code",
      "metadata": {
        "id": "HSLS1dGs7qro",
        "colab_type": "code",
        "outputId": "f4d6adf7-95db-41a3-d4b5-ddd1dab4b7e5",
        "colab": {
          "base_uri": "https://localhost:8080/",
          "height": 34
        }
      },
      "source": [
        "def is_even(x):\n",
        "    return x % 2 == 0\n",
        "\n",
        "evens = my_filter(numbers, is_even)\n",
        "print(evens)"
      ],
      "execution_count": 0,
      "outputs": [
        {
          "output_type": "stream",
          "text": [
            "[2, 10, 10, 8]\n"
          ],
          "name": "stdout"
        }
      ]
    },
    {
      "cell_type": "code",
      "metadata": {
        "id": "ZJ7oRkac8r2s",
        "colab_type": "code",
        "outputId": "b875edfb-54f0-4097-c6b3-d409e6968905",
        "colab": {
          "base_uri": "https://localhost:8080/",
          "height": 34
        }
      },
      "source": [
        "# 람다 표현식(lambda expression), 익명 함수(anonymous function):\n",
        "# 이름이 없는 함수\n",
        "# 다른 함수의 argument 자리에서 주로 사용됨.\n",
        "# lambda p1, p2, ...: expression(계산 식)\n",
        "\n",
        "odds = my_filter(numbers, lambda x: x % 2 == 1)\n",
        "print(odds)"
      ],
      "execution_count": 0,
      "outputs": [
        {
          "output_type": "stream",
          "text": [
            "[5, 7, 7, 9, 3, 1]\n"
          ],
          "name": "stdout"
        }
      ]
    }
  ]
}