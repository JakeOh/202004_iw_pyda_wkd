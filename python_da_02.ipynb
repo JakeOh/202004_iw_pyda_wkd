{
  "nbformat": 4,
  "nbformat_minor": 0,
  "metadata": {
    "colab": {
      "name": "python_da_02.ipynb",
      "provenance": [],
      "collapsed_sections": [],
      "authorship_tag": "ABX9TyPDZ76jDAGOeZuR3AtB3CmN",
      "include_colab_link": true
    },
    "kernelspec": {
      "name": "python3",
      "display_name": "Python 3"
    }
  },
  "cells": [
    {
      "cell_type": "markdown",
      "metadata": {
        "id": "view-in-github",
        "colab_type": "text"
      },
      "source": [
        "<a href=\"https://colab.research.google.com/github/JakeOh/pyda202003/blob/master/python_da_02.ipynb\" target=\"_parent\"><img src=\"https://colab.research.google.com/assets/colab-badge.svg\" alt=\"Open In Colab\"/></a>"
      ]
    },
    {
      "cell_type": "markdown",
      "metadata": {
        "id": "6DH3C1MJrVqd",
        "colab_type": "text"
      },
      "source": [
        "\n",
        "\n",
        "*   제어문(Control Statement)\n",
        "\n",
        "\n",
        "1.   조건문(if-else, if-elif-else)\n",
        "2.   반복문(for)\n",
        "\n",
        "\n",
        "\n"
      ]
    },
    {
      "cell_type": "code",
      "metadata": {
        "id": "mjyH0vPpsIys",
        "colab_type": "code",
        "colab": {}
      },
      "source": [
        "\"\"\"\n",
        "if 조건:\n",
        "    조건이 참일 때 실행할 문장들\n",
        "\"\"\"\n",
        "x = -100\n",
        "if x > 0:\n",
        "    # if 조건이 참일 때 실행할 문장\n",
        "    print('x는 양수입니다.')  \n",
        "# if문과 상관이 없는 문장\n",
        "print('if문 바깥')"
      ],
      "execution_count": 0,
      "outputs": []
    },
    {
      "cell_type": "code",
      "metadata": {
        "id": "oODVHu1HuXMu",
        "colab_type": "code",
        "outputId": "a8cd7700-bedb-464c-b948-910ad85e4ed6",
        "colab": {
          "base_uri": "https://localhost:8080/",
          "height": 51
        }
      },
      "source": [
        "\"\"\"\n",
        "if 조건식:\n",
        "    조건식이 참일 때 실행할 문장들\n",
        "else:\n",
        "    조건식이 거짓일 때 실행할 문장들\n",
        "\"\"\"\n",
        "mask = 100\n",
        "if mask >= 100:\n",
        "    print('약국을 찾아간다.')\n",
        "else:\n",
        "    print('다른 약국을 찾아본다.')\n",
        "print('if-else 바깥')"
      ],
      "execution_count": 0,
      "outputs": [
        {
          "output_type": "stream",
          "text": [
            "약국을 찾아간다.\n",
            "if-else 바깥\n"
          ],
          "name": "stdout"
        }
      ]
    },
    {
      "cell_type": "code",
      "metadata": {
        "id": "xlUwmld6zLzQ",
        "colab_type": "code",
        "outputId": "33fa26ad-3bbe-4100-f3be-d04472ad7852",
        "colab": {
          "base_uri": "https://localhost:8080/",
          "height": 34
        }
      },
      "source": [
        "\"\"\"\n",
        "if 조건식1:\n",
        "    조건식1이 참일 때 실행할 문장들\n",
        "elif 조건식2:\n",
        "    조건식2가 참일 때 실행할 문장들\n",
        "else:\n",
        "    모든 조건식이 거짓일 때 실행할 문장들\n",
        "\"\"\"\n",
        "x  = -100\n",
        "if x > 0:\n",
        "    print('positive')\n",
        "elif x == 0:\n",
        "    print('zero')\n",
        "else:\n",
        "    print('negative')"
      ],
      "execution_count": 0,
      "outputs": [
        {
          "output_type": "stream",
          "text": [
            "negative\n"
          ],
          "name": "stdout"
        }
      ]
    },
    {
      "cell_type": "code",
      "metadata": {
        "id": "1OKrXj751iy4",
        "colab_type": "code",
        "outputId": "12380d8e-35a9-43be-b52f-67428805c04b",
        "colab": {
          "base_uri": "https://localhost:8080/",
          "height": 34
        }
      },
      "source": [
        "x = 120\n",
        "if x % 2 == 0:\n",
        "    print(\"짝수\")\n",
        "else:\n",
        "    print(\"홀수\")"
      ],
      "execution_count": 0,
      "outputs": [
        {
          "output_type": "stream",
          "text": [
            "짝수\n"
          ],
          "name": "stdout"
        }
      ]
    },
    {
      "cell_type": "code",
      "metadata": {
        "id": "uarEZcVN29vf",
        "colab_type": "code",
        "outputId": "b3effb14-4ba7-4a1d-edfe-076fc12d98ba",
        "colab": {
          "base_uri": "https://localhost:8080/",
          "height": 51
        }
      },
      "source": [
        "\"\"\"\n",
        "Python에서 True/False 판별:\n",
        "1) 숫자 타입의 변수인 경우 0은 False, 0이 아닌 숫자는 True\n",
        "2) 숫자 이외의 타입인 경우 \n",
        "비어있는 값(\"\", [], (), {})은 False, 그 이외에는 True\n",
        "\"\"\"\n",
        "x = 1\n",
        "if x % 2:\n",
        "    print(\"홀수\")\n",
        "else:\n",
        "    print(\"짝수\")\n",
        "\n",
        "greeting = \"\"\n",
        "if greeting:\n",
        "    print(greeting)\n",
        "else:\n",
        "    print(\"Hello!\")"
      ],
      "execution_count": 0,
      "outputs": [
        {
          "output_type": "stream",
          "text": [
            "홀수\n",
            "Hello!\n"
          ],
          "name": "stdout"
        }
      ]
    },
    {
      "cell_type": "code",
      "metadata": {
        "id": "iwemcVRO5pxB",
        "colab_type": "code",
        "outputId": "ec9919f5-89e1-45b6-b3e3-012f86286c71",
        "colab": {
          "base_uri": "https://localhost:8080/",
          "height": 121
        }
      },
      "source": [
        "\"\"\"\n",
        "for 변수 in list[tuple/dict/string/...]:\n",
        "    반복할 문장들\n",
        "\"\"\"\n",
        "numbers = [1, 2, 3, 4, 5, 6]\n",
        "for num in numbers:\n",
        "    print(num)"
      ],
      "execution_count": 0,
      "outputs": [
        {
          "output_type": "stream",
          "text": [
            "1\n",
            "2\n",
            "3\n",
            "4\n",
            "5\n",
            "6\n"
          ],
          "name": "stdout"
        }
      ]
    },
    {
      "cell_type": "code",
      "metadata": {
        "id": "V0RM3Fkc8PMS",
        "colab_type": "code",
        "outputId": "0ee0ee76-3497-42f6-de19-5bf4aa8c2671",
        "colab": {
          "base_uri": "https://localhost:8080/",
          "height": 103
        }
      },
      "source": [
        "numbers = range(1, 11)  # 1부터 11보다 작은 연속된 정수들\n",
        "# numbers 안의 숫자들을 출력\n",
        "# numbers 안의 숫자들 중에서 짝수만 출력\n",
        "for num in numbers:\n",
        "    if num % 2 == 0:\n",
        "        print(num)"
      ],
      "execution_count": 0,
      "outputs": [
        {
          "output_type": "stream",
          "text": [
            "2\n",
            "4\n",
            "6\n",
            "8\n",
            "10\n"
          ],
          "name": "stdout"
        }
      ]
    },
    {
      "cell_type": "code",
      "metadata": {
        "id": "1oL4nObuBgCk",
        "colab_type": "code",
        "outputId": "274bce09-ff32-454b-b9ec-8a7a0f631d49",
        "colab": {
          "base_uri": "https://localhost:8080/",
          "height": 69
        }
      },
      "source": [
        "# len(문자열)은 문자열의 길이를 반환\n",
        "# 도시 이름이 6글자 이상인 도시들만 출력\n",
        "cities = [\"Seoul\", \"Washington\", \"Tokyo\", \"London\", \"Beijing\"]\n",
        "for city in cities:\n",
        "    if len(city) >= 6:\n",
        "        print(city)"
      ],
      "execution_count": 0,
      "outputs": [
        {
          "output_type": "stream",
          "text": [
            "Washington\n",
            "London\n",
            "Beijing\n"
          ],
          "name": "stdout"
        }
      ]
    },
    {
      "cell_type": "code",
      "metadata": {
        "id": "1DL1RTHyEcK1",
        "colab_type": "code",
        "outputId": "56ef22c8-4745-4a86-f54a-77010931150b",
        "colab": {
          "base_uri": "https://localhost:8080/",
          "height": 155
        }
      },
      "source": [
        "capitals = {\"Korea\": \"Seoul\",\n",
        "            \"USA\": \"Washington DC\",\n",
        "            \"Japan\": \"Tokyo\",\n",
        "            \"UK\": \"London\"}\n",
        "for country in capitals:\n",
        "    print(country, capitals[country])\n",
        "\n",
        "\"\"\"\n",
        "for 변수 in dictionary:\n",
        "구문에서는 dictionary의 키(key)만 차례로 변수에 저장됨.\n",
        "key와 value를 함께 사용하고자 할 때는 dict.items() 함수를 사용.\n",
        "\"\"\"\n",
        "\n",
        "for k, v in capitals.items():\n",
        "    print(k, \":\", v)"
      ],
      "execution_count": 0,
      "outputs": [
        {
          "output_type": "stream",
          "text": [
            "Korea Seoul\n",
            "USA Washington DC\n",
            "Japan Tokyo\n",
            "UK London\n",
            "Korea : Seoul\n",
            "USA : Washington DC\n",
            "Japan : Tokyo\n",
            "UK : London\n"
          ],
          "name": "stdout"
        }
      ]
    },
    {
      "cell_type": "code",
      "metadata": {
        "id": "C0vNlu6_JvoP",
        "colab_type": "code",
        "outputId": "6c58409d-6ed2-4ec0-9f9e-d7d4104bd3d1",
        "colab": {
          "base_uri": "https://localhost:8080/",
          "height": 34
        }
      },
      "source": [
        "students = dict()  # empty dictionary를 생성\n",
        "students[1] = \"홍길동\"  # empty dictionary에 새로운 원소(k-v) 추가\n",
        "students[2] = \"허균\"  # 새로운 key-value 원소 추가\n",
        "print(students)"
      ],
      "execution_count": 0,
      "outputs": [
        {
          "output_type": "stream",
          "text": [
            "{1: '홍길동', 2: '허균'}\n"
          ],
          "name": "stdout"
        }
      ]
    },
    {
      "cell_type": "code",
      "metadata": {
        "id": "x8xpx5oMKuJV",
        "colab_type": "code",
        "outputId": "713bd064-5427-403b-e07c-2ef49af3e3ca",
        "colab": {
          "base_uri": "https://localhost:8080/",
          "height": 34
        }
      },
      "source": [
        "# city_len 이름의 empty dictionary를 생성\n",
        "# cities의 도시 이름을 key로, 도시 이름의 길이(len)를 value로 하는\n",
        "# key-value 쌍을 city_len dictionary에 추가.\n",
        "city_len = dict()\n",
        "for city in cities:\n",
        "    city_len[city] = len(city)\n",
        "print(city_len)"
      ],
      "execution_count": 0,
      "outputs": [
        {
          "output_type": "stream",
          "text": [
            "{'Seoul': 5, 'Washington': 10, 'Tokyo': 5, 'London': 6, 'Beijing': 7}\n"
          ],
          "name": "stdout"
        }
      ]
    },
    {
      "cell_type": "code",
      "metadata": {
        "id": "IkrhPFWBRBUB",
        "colab_type": "code",
        "outputId": "170b7ab0-d742-4f92-a69f-b91ffce1b739",
        "colab": {
          "base_uri": "https://localhost:8080/",
          "height": 121
        }
      },
      "source": [
        "# range(start, end): start <= x < end 범위의 연속된 정수\n",
        "# range(end): 0 <= x < end 범위의 연속된 정수\n",
        "for n in range(10):\n",
        "    print(n)\n",
        "    if n == 5:\n",
        "        break  # break가 포함된 가장 가까운 반복문을 종료"
      ],
      "execution_count": 0,
      "outputs": [
        {
          "output_type": "stream",
          "text": [
            "0\n",
            "1\n",
            "2\n",
            "3\n",
            "4\n",
            "5\n"
          ],
          "name": "stdout"
        }
      ]
    },
    {
      "cell_type": "code",
      "metadata": {
        "id": "CxlNAw1RTr-h",
        "colab_type": "code",
        "outputId": "3f302417-3c2b-4ff9-d557-d365867ccd1a",
        "colab": {
          "base_uri": "https://localhost:8080/",
          "height": 953
        }
      },
      "source": [
        "# 1단은 1x1까지, 2단은 2x2까지, 3단은 3x3까지, ... 출력\n",
        "for dan in range(1, 10):\n",
        "    for n in range(1, 10):\n",
        "        print(dan, \"x\", n, \"=\", dan*n)\n",
        "        if (dan == n):\n",
        "            break\n",
        "    print(\"-\" * 10)"
      ],
      "execution_count": 0,
      "outputs": [
        {
          "output_type": "stream",
          "text": [
            "1 x 1 = 1\n",
            "----------\n",
            "2 x 1 = 2\n",
            "2 x 2 = 4\n",
            "----------\n",
            "3 x 1 = 3\n",
            "3 x 2 = 6\n",
            "3 x 3 = 9\n",
            "----------\n",
            "4 x 1 = 4\n",
            "4 x 2 = 8\n",
            "4 x 3 = 12\n",
            "4 x 4 = 16\n",
            "----------\n",
            "5 x 1 = 5\n",
            "5 x 2 = 10\n",
            "5 x 3 = 15\n",
            "5 x 4 = 20\n",
            "5 x 5 = 25\n",
            "----------\n",
            "6 x 1 = 6\n",
            "6 x 2 = 12\n",
            "6 x 3 = 18\n",
            "6 x 4 = 24\n",
            "6 x 5 = 30\n",
            "6 x 6 = 36\n",
            "----------\n",
            "7 x 1 = 7\n",
            "7 x 2 = 14\n",
            "7 x 3 = 21\n",
            "7 x 4 = 28\n",
            "7 x 5 = 35\n",
            "7 x 6 = 42\n",
            "7 x 7 = 49\n",
            "----------\n",
            "8 x 1 = 8\n",
            "8 x 2 = 16\n",
            "8 x 3 = 24\n",
            "8 x 4 = 32\n",
            "8 x 5 = 40\n",
            "8 x 6 = 48\n",
            "8 x 7 = 56\n",
            "8 x 8 = 64\n",
            "----------\n",
            "9 x 1 = 9\n",
            "9 x 2 = 18\n",
            "9 x 3 = 27\n",
            "9 x 4 = 36\n",
            "9 x 5 = 45\n",
            "9 x 6 = 54\n",
            "9 x 7 = 63\n",
            "9 x 8 = 72\n",
            "9 x 9 = 81\n",
            "----------\n"
          ],
          "name": "stdout"
        }
      ]
    }
  ]
}