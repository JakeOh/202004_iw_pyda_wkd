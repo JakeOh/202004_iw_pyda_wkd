{
  "nbformat": 4,
  "nbformat_minor": 0,
  "metadata": {
    "colab": {
      "name": "python_da_06.ipynb",
      "provenance": [],
      "collapsed_sections": [],
      "authorship_tag": "ABX9TyMSOUXmkKc2fwNwa9ybmRDz",
      "include_colab_link": true
    },
    "kernelspec": {
      "name": "python3",
      "display_name": "Python 3"
    }
  },
  "cells": [
    {
      "cell_type": "markdown",
      "metadata": {
        "id": "view-in-github",
        "colab_type": "text"
      },
      "source": [
        "<a href=\"https://colab.research.google.com/github/JakeOh/202004_iw_pyda_wkd/blob/master/python_da_06.ipynb\" target=\"_parent\"><img src=\"https://colab.research.google.com/assets/colab-badge.svg\" alt=\"Open In Colab\"/></a>"
      ]
    },
    {
      "cell_type": "code",
      "metadata": {
        "id": "iOg4dPru3VeX",
        "colab_type": "code",
        "outputId": "9b43b3e7-f3c8-49e2-99ce-38d006aa0da1",
        "colab": {
          "base_uri": "https://localhost:8080/",
          "height": 34
        }
      },
      "source": [
        "import numpy as np\n",
        "\n",
        "arr = np.arange(1, 11)\n",
        "print(arr)"
      ],
      "execution_count": 0,
      "outputs": [
        {
          "output_type": "stream",
          "text": [
            "[ 1  2  3  4  5  6  7  8  9 10]\n"
          ],
          "name": "stdout"
        }
      ]
    },
    {
      "cell_type": "code",
      "metadata": {
        "id": "VogqAQON4NNk",
        "colab_type": "code",
        "outputId": "775c16bf-f00e-4a17-cd80-e94b993002bf",
        "colab": {
          "base_uri": "https://localhost:8080/",
          "height": 86
        }
      },
      "source": [
        "# numpy.ndarray의 인덱스(index)는 0부터 시작\n",
        "# 마지막 인덱스는 (원소의 개수 - 1)\n",
        "print(arr[0], arr[9])\n",
        "print(arr[2:5])  # start <= index < end\n",
        "print(arr[:5])  # 범위 시작값의 기본값 0\n",
        "print(arr[4:])  # 범위 마지막값의 기본값은 ndarry의 가장 마지막 인덱스."
      ],
      "execution_count": 0,
      "outputs": [
        {
          "output_type": "stream",
          "text": [
            "1 10\n",
            "[3 4 5]\n",
            "[1 2 3 4 5]\n",
            "[ 5  6  7  8  9 10]\n"
          ],
          "name": "stdout"
        }
      ]
    },
    {
      "cell_type": "code",
      "metadata": {
        "id": "6NMwbf2z4XaK",
        "colab_type": "code",
        "outputId": "caa98d38-8995-4729-dbc0-e09143b06e52",
        "colab": {
          "base_uri": "https://localhost:8080/",
          "height": 69
        }
      },
      "source": [
        "arr = np.arange(1, 10).reshape((3, 3))\n",
        "arr"
      ],
      "execution_count": 0,
      "outputs": [
        {
          "output_type": "execute_result",
          "data": {
            "text/plain": [
              "array([[1, 2, 3],\n",
              "       [4, 5, 6],\n",
              "       [7, 8, 9]])"
            ]
          },
          "metadata": {
            "tags": []
          },
          "execution_count": 7
        }
      ]
    },
    {
      "cell_type": "code",
      "metadata": {
        "id": "Bo26zCn06Dq8",
        "colab_type": "code",
        "outputId": "2cf18ce9-4783-46b5-d6d1-5e4493895ffe",
        "colab": {
          "base_uri": "https://localhost:8080/",
          "height": 138
        }
      },
      "source": [
        "print(arr[0, 0], arr[2, 2])\n",
        "print(arr[0:2, 0:2])\n",
        "print(arr[:2, :2])\n",
        "print(arr[1:, 1:])"
      ],
      "execution_count": 0,
      "outputs": [
        {
          "output_type": "stream",
          "text": [
            "1 9\n",
            "[[1 2]\n",
            " [4 5]]\n",
            "[[1 2]\n",
            " [4 5]]\n",
            "[[5 6]\n",
            " [8 9]]\n"
          ],
          "name": "stdout"
        }
      ]
    },
    {
      "cell_type": "code",
      "metadata": {
        "id": "wa4yKmZ16XwG",
        "colab_type": "code",
        "outputId": "169f2f6b-8b64-4e0f-b2c5-ebb0237f41bd",
        "colab": {
          "base_uri": "https://localhost:8080/",
          "height": 69
        }
      },
      "source": [
        "arr = np.random.randn(3, 4)\n",
        "# numpy.random.randn(row, col): 표준 정규분포를 따르는 난수를 생성\n",
        "# row는 배열의 row 갯수, col은 배열의 column 개수\n",
        "print(arr)"
      ],
      "execution_count": 0,
      "outputs": [
        {
          "output_type": "stream",
          "text": [
            "[[-0.95306469  0.49890887 -0.48677414 -1.97657401]\n",
            " [ 1.01113074  0.30060164  0.07830694 -1.2391349 ]\n",
            " [ 0.95131391 -0.5174728   0.24195669 -0.22653154]]\n"
          ],
          "name": "stdout"
        }
      ]
    },
    {
      "cell_type": "code",
      "metadata": {
        "id": "9LIcCKqn8-ED",
        "colab_type": "code",
        "outputId": "19a7c24d-b8f2-49f4-9782-971c1bb7a13e",
        "colab": {
          "base_uri": "https://localhost:8080/",
          "height": 86
        }
      },
      "source": [
        "# boolean indexing\n",
        "print(arr > 0)\n",
        "subset = arr[arr > 0]\n",
        "print(subset)"
      ],
      "execution_count": 0,
      "outputs": [
        {
          "output_type": "stream",
          "text": [
            "[[False  True False False]\n",
            " [ True  True  True False]\n",
            " [ True False  True False]]\n",
            "[0.49890887 1.01113074 0.30060164 0.07830694 0.95131391 0.24195669]\n"
          ],
          "name": "stdout"
        }
      ]
    },
    {
      "cell_type": "code",
      "metadata": {
        "id": "eVaaDVpuBlwD",
        "colab_type": "code",
        "outputId": "34477abd-c618-482a-f653-bd1f71f0ef12",
        "colab": {
          "base_uri": "https://localhost:8080/",
          "height": 121
        }
      },
      "source": [
        "print(arr)\n",
        "# 배열의 원소들 중 -0.5보다 크고, 0.5보다 작은 값들 선택\n",
        "# Python: and, or, not 키워드 사용\n",
        "# NumPy boolean indexing: &, |, ~ 기호(연산자) 사용\n",
        "subset = arr[(arr > -0.5) & (arr < 0.5)]\n",
        "print(subset)\n",
        "\n",
        "subset = arr[(arr < -0.5) | (arr > 0.5)]\n",
        "print(subset)\n",
        "\n",
        "subset = arr[~(arr > 0)]\n",
        "print(subset)"
      ],
      "execution_count": 0,
      "outputs": [
        {
          "output_type": "stream",
          "text": [
            "[[-0.95306469  0.49890887 -0.48677414 -1.97657401]\n",
            " [ 1.01113074  0.30060164  0.07830694 -1.2391349 ]\n",
            " [ 0.95131391 -0.5174728   0.24195669 -0.22653154]]\n",
            "[ 0.49890887 -0.48677414  0.30060164  0.07830694  0.24195669 -0.22653154]\n",
            "[-0.95306469 -1.97657401  1.01113074 -1.2391349   0.95131391 -0.5174728 ]\n",
            "[-0.95306469 -0.48677414 -1.97657401 -1.2391349  -0.5174728  -0.22653154]\n"
          ],
          "name": "stdout"
        }
      ]
    },
    {
      "cell_type": "code",
      "metadata": {
        "id": "Gjmf6QpfEBby",
        "colab_type": "code",
        "outputId": "237e6aff-8a68-400c-b904-48c493277c5e",
        "colab": {
          "base_uri": "https://localhost:8080/",
          "height": 242
        }
      },
      "source": [
        "# fancy indexing - 리스트나 배열을 이용해서 부분집합 만듦.\n",
        "arr = np.arange(24).reshape((6, 4))\n",
        "print(arr)\n",
        "print(arr[[0, 2, 4], ])\n",
        "\n",
        "rows = np.random.randint(6, size=3)  # 0이상 6미만의 정수 난수 3개\n",
        "print(rows)\n",
        "print(arr[rows,])"
      ],
      "execution_count": 0,
      "outputs": [
        {
          "output_type": "stream",
          "text": [
            "[[ 0  1  2  3]\n",
            " [ 4  5  6  7]\n",
            " [ 8  9 10 11]\n",
            " [12 13 14 15]\n",
            " [16 17 18 19]\n",
            " [20 21 22 23]]\n",
            "[[ 0  1  2  3]\n",
            " [ 8  9 10 11]\n",
            " [16 17 18 19]]\n",
            "[4 5 3]\n",
            "[[16 17 18 19]\n",
            " [20 21 22 23]\n",
            " [12 13 14 15]]\n"
          ],
          "name": "stdout"
        }
      ]
    },
    {
      "cell_type": "code",
      "metadata": {
        "id": "I0sHGk_3Gus6",
        "colab_type": "code",
        "outputId": "20d9af7b-510f-4897-abbd-bd11752e4e90",
        "colab": {
          "base_uri": "https://localhost:8080/",
          "height": 138
        }
      },
      "source": [
        "print(arr)\n",
        "print(arr[[0, 1, 5], [1, 2, 3]])\n",
        "# [0, 1], [1, 2], [5, 3] 원소들을 선택"
      ],
      "execution_count": 0,
      "outputs": [
        {
          "output_type": "stream",
          "text": [
            "[[ 0  1  2  3]\n",
            " [ 4  5  6  7]\n",
            " [ 8  9 10 11]\n",
            " [12 13 14 15]\n",
            " [16 17 18 19]\n",
            " [20 21 22 23]]\n",
            "[ 1  6 23]\n"
          ],
          "name": "stdout"
        }
      ]
    },
    {
      "cell_type": "code",
      "metadata": {
        "id": "ruo0os6DH_Qf",
        "colab_type": "code",
        "outputId": "9707044c-6d35-4148-cd28-e015e0a121be",
        "colab": {
          "base_uri": "https://localhost:8080/",
          "height": 34
        }
      },
      "source": [
        "# NumPy에서 연산(함수의 실행)은 기본적으로 원소별로 이루어짐.\n",
        "# 반복문(for-in 구문)을 사용하지 않고, 원소별 반복이 이루어짐.\n",
        "numbers = [1, 2, 3, 4, 5]  # Python list 타입\n",
        "\n",
        "import math\n",
        "sqrts = [math.sqrt(x) for x in numbers]\n",
        "print(sqrts)"
      ],
      "execution_count": 0,
      "outputs": [
        {
          "output_type": "stream",
          "text": [
            "[1.0, 1.4142135623730951, 1.7320508075688772, 2.0, 2.23606797749979]\n"
          ],
          "name": "stdout"
        }
      ]
    },
    {
      "cell_type": "code",
      "metadata": {
        "id": "fPE57HwEJMYY",
        "colab_type": "code",
        "outputId": "d30b6ef7-41e3-4081-e392-07ac46705f67",
        "colab": {
          "base_uri": "https://localhost:8080/",
          "height": 86
        }
      },
      "source": [
        "numbers = np.arange(1, 6)\n",
        "print(numbers)\n",
        "sqrts = np.sqrt(numbers)\n",
        "print(sqrts)\n",
        "print(np.power(numbers, 2))\n",
        "print(np.exp(numbers))"
      ],
      "execution_count": 0,
      "outputs": [
        {
          "output_type": "stream",
          "text": [
            "[1 2 3 4 5]\n",
            "[1.         1.41421356 1.73205081 2.         2.23606798]\n",
            "[ 1  4  9 16 25]\n",
            "[  2.71828183   7.3890561   20.08553692  54.59815003 148.4131591 ]\n"
          ],
          "name": "stdout"
        }
      ]
    },
    {
      "cell_type": "code",
      "metadata": {
        "id": "PfZU9GC_KcXg",
        "colab_type": "code",
        "outputId": "ea49b816-0c81-4f21-9fa3-5249e97421fa",
        "colab": {
          "base_uri": "https://localhost:8080/",
          "height": 86
        }
      },
      "source": [
        "x = np.random.randn(5)\n",
        "print(x)\n",
        "y = np.random.randn(5)\n",
        "print(y)\n",
        "print(np.maximum(x, y))\n",
        "print(np.minimum(x, y))"
      ],
      "execution_count": 0,
      "outputs": [
        {
          "output_type": "stream",
          "text": [
            "[-1.40818196 -2.15353552  0.9401818  -0.22298426 -0.19370396]\n",
            "[1.03382182 1.3605068  0.81272341 0.8207538  2.53647672]\n",
            "[1.03382182 1.3605068  0.9401818  0.8207538  2.53647672]\n",
            "[-1.40818196 -2.15353552  0.81272341 -0.22298426 -0.19370396]\n"
          ],
          "name": "stdout"
        }
      ]
    },
    {
      "cell_type": "code",
      "metadata": {
        "id": "3dG_puO9Lf5A",
        "colab_type": "code",
        "outputId": "71842bd1-806c-4811-c283-c4804955b1dd",
        "colab": {
          "base_uri": "https://localhost:8080/",
          "height": 268
        }
      },
      "source": [
        "import matplotlib.pyplot as plt\n",
        "\n",
        "x_pts = np.arange(-5, 5, 0.01)\n",
        "y_pts = np.exp(x_pts)\n",
        "plt.plot(x_pts, y_pts)\n",
        "plt.show()"
      ],
      "execution_count": 0,
      "outputs": [
        {
          "output_type": "display_data",
          "data": {
            "image/png": "[encoded data removed]",
            "text/plain": [
              "<Figure size 432x288 with 1 Axes>"
            ]
          },
          "metadata": {
            "tags": [],
            "needs_background": "light"
          }
        }
      ]
    },
    {
      "cell_type": "code",
      "metadata": {
        "id": "7Wf4MOMaQJAn",
        "colab_type": "code",
        "outputId": "89aead11-1084-4ef5-9f72-b1a6bbcc1cf1",
        "colab": {
          "base_uri": "https://localhost:8080/",
          "height": 173
        }
      },
      "source": [
        "# 수학, 통계 함수를 numpy.ndarray에 적용\n",
        "arr = np.random.randint(0, 10, size=(3, 5))\n",
        "print(arr)\n",
        "print(np.sum(arr))  # 1) np.함수(array)\n",
        "print(arr.sum())  # 2) array.함수()\n",
        "\n",
        "print(np.sum(arr, axis=0))  # 0번축(row가 증가하는 방향)을 따라서 함수 적용\n",
        "print(np.sum(arr, axis=1))  # 1번축(column이 증가하는 방향)을 따라서 함수 적용\n",
        "print(arr.sum(axis=0))\n",
        "print(arr.sum(axis=1))\n"
      ],
      "execution_count": 0,
      "outputs": [
        {
          "output_type": "stream",
          "text": [
            "[[3 3 7 0 4]\n",
            " [0 4 5 7 2]\n",
            " [5 0 8 2 3]]\n",
            "53\n",
            "53\n",
            "[ 8  7 20  9  9]\n",
            "[17 18 18]\n",
            "[ 8  7 20  9  9]\n",
            "[17 18 18]\n"
          ],
          "name": "stdout"
        }
      ]
    },
    {
      "cell_type": "code",
      "metadata": {
        "id": "bBOreRm8UX7F",
        "colab_type": "code",
        "outputId": "a09b2592-d68e-4af4-ed59-e8486de6dbcf",
        "colab": {
          "base_uri": "https://localhost:8080/",
          "height": 69
        }
      },
      "source": [
        "print(np.mean(arr))  # arr.mean()\n",
        "print(np.mean(arr, axis=0))  # arr.mean(axis=0)\n",
        "print(np.mean(arr, axis=1))  # arr.mean(axis=1)"
      ],
      "execution_count": 0,
      "outputs": [
        {
          "output_type": "stream",
          "text": [
            "3.533333333333333\n",
            "[2.66666667 2.33333333 6.66666667 3.         3.        ]\n",
            "[3.4 3.6 3.6]\n"
          ],
          "name": "stdout"
        }
      ]
    },
    {
      "cell_type": "code",
      "metadata": {
        "id": "QvtihoRjUqg2",
        "colab_type": "code",
        "colab": {}
      },
      "source": [
        ""
      ],
      "execution_count": 0,
      "outputs": []
    }
  ]
}