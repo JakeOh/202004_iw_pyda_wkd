{
  "nbformat": 4,
  "nbformat_minor": 0,
  "metadata": {
    "colab": {
      "name": "python_da_01.ipynb",
      "provenance": [],
      "collapsed_sections": [],
      "authorship_tag": "ABX9TyPwgwBLq/RgVPLQw4o2G2Kr",
      "include_colab_link": true
    },
    "kernelspec": {
      "name": "python3",
      "display_name": "Python 3"
    }
  },
  "cells": [
    {
      "cell_type": "markdown",
      "metadata": {
        "id": "view-in-github",
        "colab_type": "text"
      },
      "source": [
        "<a href=\"https://colab.research.google.com/github/JakeOh/pyda202003/blob/master/python_da_01.ipynb\" target=\"_parent\"><img src=\"https://colab.research.google.com/assets/colab-badge.svg\" alt=\"Open In Colab\"/></a>"
      ]
    },
    {
      "cell_type": "markdown",
      "metadata": {
        "id": "5_VpTcj77mTj",
        "colab_type": "text"
      },
      "source": [
        "\n",
        "\n",
        "*   Python 코드를 Jupyter 노트북에서 실행하는 방법\n",
        "\n",
        "\n",
        "1.   실행 아이콘 클릭\n",
        "2.   Ctrl + Enter: 현재 셀을 실행시킴.\n",
        "3.   Shift + Enter: 현재 셀을 실행시키고, 새로운 코드 셀을 만듦.\n",
        "\n",
        "\n",
        "\n"
      ]
    },
    {
      "cell_type": "code",
      "metadata": {
        "id": "Cnr0LKcW06IP",
        "colab_type": "code",
        "outputId": "92e759c1-b753-413a-f74b-2bfb7e2a4551",
        "colab": {
          "base_uri": "https://localhost:8080/",
          "height": 34
        }
      },
      "source": [
        "print(\"Hello, Python!\")"
      ],
      "execution_count": 0,
      "outputs": [
        {
          "output_type": "stream",
          "text": [
            "Hello, Python!\n"
          ],
          "name": "stdout"
        }
      ]
    },
    {
      "cell_type": "code",
      "metadata": {
        "id": "tpdj5ipq3945",
        "colab_type": "code",
        "outputId": "52be4989-7f54-45c0-e540-e04eba3db669",
        "colab": {
          "base_uri": "https://localhost:8080/",
          "height": 34
        }
      },
      "source": [
        "# 주석(comment): 프로그램 코드에 설명을 추가하는 것.\n",
        "# 주석은 실행되지 않는 문장\n",
        "# 파이썬에서 주석은 #으로 시작하고 그 줄(line)의 끝까지.\n",
        "print(1 + 2)  # 1 + 2의 결과를 화면에 출력."
      ],
      "execution_count": 0,
      "outputs": [
        {
          "output_type": "stream",
          "text": [
            "3\n"
          ],
          "name": "stdout"
        }
      ]
    },
    {
      "cell_type": "markdown",
      "metadata": {
        "id": "eTQCdxLj-oHF",
        "colab_type": "text"
      },
      "source": [
        "변수(variable): 데이터를 저장하는 공간.<br>\n",
        "변수이름 = 값"
      ]
    },
    {
      "cell_type": "code",
      "metadata": {
        "id": "tn68z_sj3l3R",
        "colab_type": "code",
        "outputId": "c88d1738-8cf0-4386-b640-75688f5e1591",
        "colab": {
          "base_uri": "https://localhost:8080/",
          "height": 34
        }
      },
      "source": [
        "x = 123  # 변수 x에 값 123을 할당(저장)\n",
        "y = 100\n",
        "print(x + y)  # 변수 x의 값을 출력"
      ],
      "execution_count": 0,
      "outputs": [
        {
          "output_type": "stream",
          "text": [
            "223\n"
          ],
          "name": "stdout"
        }
      ]
    },
    {
      "cell_type": "code",
      "metadata": {
        "id": "ZKXPhuhfA8ot",
        "colab_type": "code",
        "outputId": "b4c0050e-53d5-4bb7-ff65-585ca3740636",
        "colab": {
          "base_uri": "https://localhost:8080/",
          "height": 86
        }
      },
      "source": [
        "name1 = \"김정수\"\n",
        "name2 = '김덕수'\n",
        "# 문자열 변수: 큰따옴표(\"\") 또는 작은 따옴표('')안에 작성.\n",
        "print(name1)\n",
        "print(name2)\n",
        "\n",
        "name3 = \"123\"  # 문자열\n",
        "number = 123  # 숫자\n",
        "print(name3 + \"1\")\n",
        "# 문자열 + 문자열: 문자열을 이어주는(concatenate) 기능.\n",
        "print(number + 1)"
      ],
      "execution_count": 0,
      "outputs": [
        {
          "output_type": "stream",
          "text": [
            "김정수\n",
            "김덕수\n",
            "1231\n",
            "124\n"
          ],
          "name": "stdout"
        }
      ]
    },
    {
      "cell_type": "code",
      "metadata": {
        "id": "hDLAdBIdDyE-",
        "colab_type": "code",
        "outputId": "bd0dcc64-c2b7-47ab-deae-9154c9496c0e",
        "colab": {
          "base_uri": "https://localhost:8080/",
          "height": 121
        }
      },
      "source": [
        "print(111 + 100)\n",
        "print(111 - 100)\n",
        "print(2 * 3)\n",
        "print(2 / 3)\n",
        "print(5 % 2)  # %: 나머지 연산자\n",
        "print(2 ** 3)  # **: 거듭제곱 연산자"
      ],
      "execution_count": 0,
      "outputs": [
        {
          "output_type": "stream",
          "text": [
            "211\n",
            "11\n",
            "6\n",
            "0.6666666666666666\n",
            "1\n",
            "8\n"
          ],
          "name": "stdout"
        }
      ]
    },
    {
      "cell_type": "code",
      "metadata": {
        "id": "QTUzay3DE9dX",
        "colab_type": "code",
        "outputId": "30f710e9-cbbf-4332-b22e-3d81eb297612",
        "colab": {
          "base_uri": "https://localhost:8080/",
          "height": 51
        }
      },
      "source": [
        "# 비교 연산자(==, != , >, >=, <, <=)\n",
        "# 비교 연산의 결과를 True/False로 반환(return)\n",
        "print(3 == 2)  # ==: equal to\n",
        "print(3 != 2)  # !=: not equal to"
      ],
      "execution_count": 0,
      "outputs": [
        {
          "output_type": "stream",
          "text": [
            "False\n",
            "True\n"
          ],
          "name": "stdout"
        }
      ]
    },
    {
      "cell_type": "markdown",
      "metadata": {
        "id": "dilz0jLmJ6zv",
        "colab_type": "text"
      },
      "source": [
        "\n",
        "\n",
        "*   List(리스트): 여러개의 값들을 저장할 수 있는 배열 형태의 데이터 타입<br>\n",
        "리스트는 각 원소들의 위치를 나타내는 인덱스(index)를 가지고 있다.<br>\n",
        "리스트의 인덱스는 0부터 시작<br>\n",
        "리스트의 원소는 인덱스 연산자([])를 사용해서 접근/변경할 수 있다.\n",
        "\n"
      ]
    },
    {
      "cell_type": "code",
      "metadata": {
        "id": "H5LH3CtHJXWZ",
        "colab_type": "code",
        "outputId": "1ff5b993-e99d-4a3a-e52d-98ac4b5d6f8c",
        "colab": {
          "base_uri": "https://localhost:8080/",
          "height": 103
        }
      },
      "source": [
        "numbers = [10, 20, 30]  # 숫자 3개를 저장하는 리스트\n",
        "print(numbers)  # 리스트 출력\n",
        "print(numbers[1])  # 리스트에서 인덱스 1번의 원소를 출력\n",
        "numbers[2] = 123  # 리스트에서 특정 인덱스의 원소의 값을 변경\n",
        "print(numbers)\n",
        "print(numbers[1:3])\n",
        "# 범위 연산자(:)를 사용할 때,\n",
        "# a:b는 a부터 b보다 작을 때까지라는 의미임. (a <= x < b)\n",
        "print(numbers[-3:])"
      ],
      "execution_count": 0,
      "outputs": [
        {
          "output_type": "stream",
          "text": [
            "[10, 20, 30]\n",
            "20\n",
            "[10, 20, 123]\n",
            "[20, 123]\n",
            "[10, 20, 123]\n"
          ],
          "name": "stdout"
        }
      ]
    },
    {
      "cell_type": "markdown",
      "metadata": {
        "id": "YzyVx1hsQRac",
        "colab_type": "text"
      },
      "source": [
        "\n",
        "\n",
        "*   Tuple(튜플): 변경할 수 없는 리스트<br>\n",
        "list(리스트)는 원소를 추가/삭제/변경이 가능하지만,\n",
        "tuple(튜플)은 한번 원소들이 저장되면 추가/삭제/변경이 불가능함.\n",
        "\n"
      ]
    },
    {
      "cell_type": "code",
      "metadata": {
        "id": "cygdwxB_QmHb",
        "colab_type": "code",
        "outputId": "65c00b4f-0d4e-4a5c-8ad8-0472ea2cb7f3",
        "colab": {
          "base_uri": "https://localhost:8080/",
          "height": 86
        }
      },
      "source": [
        "numbers2 = (1, 2, 3, 4, 5)  # tuple\n",
        "print(numbers2)\n",
        "print(numbers2[0])  # tuple에서 인덱스 0번 원소 출력\n",
        "print(numbers2[1:4])  # tuple에서 인덱스 1번부터 4번보다 작을 때까지\n",
        "print(numbers2[-2:])  # tuple에서 끝에서부터 2개의 원소를 출력\n",
        "# numbers2[0] = 123  # TypeError 발생"
      ],
      "execution_count": 0,
      "outputs": [
        {
          "output_type": "stream",
          "text": [
            "(1, 2, 3, 4, 5)\n",
            "1\n",
            "(2, 3, 4)\n",
            "(4, 5)\n"
          ],
          "name": "stdout"
        }
      ]
    },
    {
      "cell_type": "markdown",
      "metadata": {
        "id": "NOwI1dALlBxz",
        "colab_type": "text"
      },
      "source": [
        "\n",
        "\n",
        "*   Dictionary(사전): key-value 쌍으로 데이터를 저장하는 타입.\n",
        "\n"
      ]
    },
    {
      "cell_type": "code",
      "metadata": {
        "id": "-emTN_jllN-a",
        "colab_type": "code",
        "outputId": "623210ea-e28f-436d-b33a-18ae35362238",
        "colab": {
          "base_uri": "https://localhost:8080/",
          "height": 138
        }
      },
      "source": [
        "person = {\"name\": \"아이티윌\", \"no\": 123456, \"open\": True}\n",
        "print(person)\n",
        "# dictionary의 값(value)을 읽거나 변경할 때는 key를 사용.\n",
        "print(person[\"name\"])\n",
        "print(person[\"no\"])\n",
        "person[\"open\"] = False\n",
        "print(person[\"open\"])\n",
        "print(person.keys())  # dictionary의 키(key)들을 반환\n",
        "print(person.values())  # dictionary의 값(value)들을 반환\n",
        "print(person.items())  # (key, value) 튜플들을 반환"
      ],
      "execution_count": 0,
      "outputs": [
        {
          "output_type": "stream",
          "text": [
            "{'name': '아이티윌', 'no': 123456, 'open': True}\n",
            "아이티윌\n",
            "123456\n",
            "False\n",
            "dict_keys(['name', 'no', 'open'])\n",
            "dict_values(['아이티윌', 123456, False])\n",
            "dict_items([('name', '아이티윌'), ('no', 123456), ('open', False)])\n"
          ],
          "name": "stdout"
        }
      ]
    },
    {
      "cell_type": "markdown",
      "metadata": {
        "id": "joHu25yFppIF",
        "colab_type": "text"
      },
      "source": [
        "\n",
        "\n",
        "*   Set(집합): 순서가 없고, 중복 저장이 되지 않는 데이터 타입.\n",
        "\n"
      ]
    },
    {
      "cell_type": "code",
      "metadata": {
        "id": "9VoD9e90p-yr",
        "colab_type": "code",
        "outputId": "b994cdef-7a23-4c44-fddc-ebbc29e031fe",
        "colab": {
          "base_uri": "https://localhost:8080/",
          "height": 34
        }
      },
      "source": [
        "s = {1, 3, 3, 3, 2, 2}\n",
        "print(s)"
      ],
      "execution_count": 0,
      "outputs": [
        {
          "output_type": "stream",
          "text": [
            "{1, 2, 3}\n"
          ],
          "name": "stdout"
        }
      ]
    }
  ]
}