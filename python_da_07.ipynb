{
  "nbformat": 4,
  "nbformat_minor": 0,
  "metadata": {
    "colab": {
      "name": "python_da_07.ipynb",
      "provenance": [],
      "collapsed_sections": [],
      "authorship_tag": "ABX9TyMp727y/k1ARzUYx7CCp3BE",
      "include_colab_link": true
    },
    "kernelspec": {
      "name": "python3",
      "display_name": "Python 3"
    }
  },
  "cells": [
    {
      "cell_type": "markdown",
      "metadata": {
        "id": "view-in-github",
        "colab_type": "text"
      },
      "source": [
        "<a href=\"https://colab.research.google.com/github/JakeOh/202004_iw_pyda_wkd/blob/master/python_da_07.ipynb\" target=\"_parent\"><img src=\"https://colab.research.google.com/assets/colab-badge.svg\" alt=\"Open In Colab\"/></a>"
      ]
    },
    {
      "cell_type": "code",
      "metadata": {
        "id": "rzne1Q0KV_DO",
        "colab_type": "code",
        "colab": {
          "base_uri": "https://localhost:8080/",
          "height": 51
        },
        "outputId": "221df429-eb09-4457-f3f4-af9a3124dea1"
      },
      "source": [
        "import numpy as np\n",
        "import pandas as pd\n",
        "\n",
        "print('numpy ver =', np.__version__)\n",
        "print('pandas ver =', pd.__version__)"
      ],
      "execution_count": 2,
      "outputs": [
        {
          "output_type": "stream",
          "text": [
            "numpy ver = 1.18.2\n",
            "pandas ver = 1.0.3\n"
          ],
          "name": "stdout"
        }
      ]
    },
    {
      "cell_type": "code",
      "metadata": {
        "id": "Ui8RUBfQW3Ts",
        "colab_type": "code",
        "colab": {
          "base_uri": "https://localhost:8080/",
          "height": 138
        },
        "outputId": "d1a20d63-efbc-4730-b709-3f2542971630"
      },
      "source": [
        "# pandas.Series: 1차원 모양의 데이터 타입(배열)\n",
        "# pandas.DataFrame: 2차원 모양의 데이터 타입(spreadsheet, table)\n",
        "series = pd.Series([4, 7, -5, 3])\n",
        "print(series)\n",
        "print(series.values)  # pandas.Series가 저장하고 있는 값들\n",
        "print(series.index)  # pandas.Series가 가지고 있는 인덱스들"
      ],
      "execution_count": 6,
      "outputs": [
        {
          "output_type": "stream",
          "text": [
            "0    4\n",
            "1    7\n",
            "2   -5\n",
            "3    3\n",
            "dtype: int64\n",
            "[ 4  7 -5  3]\n",
            "RangeIndex(start=0, stop=4, step=1)\n"
          ],
          "name": "stdout"
        }
      ]
    },
    {
      "cell_type": "code",
      "metadata": {
        "id": "Bun_uVKUZBqF",
        "colab_type": "code",
        "colab": {
          "base_uri": "https://localhost:8080/",
          "height": 86
        },
        "outputId": "bafd5a72-67f6-45bc-aeda-1901e19d74a2"
      },
      "source": [
        "print(series[2])\n",
        "print(series[1:3])  # 부분 집합"
      ],
      "execution_count": 8,
      "outputs": [
        {
          "output_type": "stream",
          "text": [
            "-5\n",
            "1    7\n",
            "2   -5\n",
            "dtype: int64\n"
          ],
          "name": "stdout"
        }
      ]
    },
    {
      "cell_type": "code",
      "metadata": {
        "id": "S_M8FMY4ZltD",
        "colab_type": "code",
        "colab": {
          "base_uri": "https://localhost:8080/",
          "height": 138
        },
        "outputId": "68964a01-e24e-486c-d8a3-ac165cd9db85"
      },
      "source": [
        "# loc[]: 레이블 기반의 인덱스\n",
        "# iloc[]: 정수 위치(integer position) 기반의 인덱스\n",
        "s = pd.Series(data=[5, 4, -7, 3],\n",
        "              index=['a', 'b', 'c', 'd'])\n",
        "print(s)\n",
        "print(s.loc['a'])  # location\n",
        "print(s.iloc[0])  # integer-position location"
      ],
      "execution_count": 12,
      "outputs": [
        {
          "output_type": "stream",
          "text": [
            "a    5\n",
            "b    4\n",
            "c   -7\n",
            "d    3\n",
            "dtype: int64\n",
            "5\n",
            "5\n"
          ],
          "name": "stdout"
        }
      ]
    },
    {
      "cell_type": "code",
      "metadata": {
        "id": "pOr1GaT6tVzP",
        "colab_type": "code",
        "colab": {
          "base_uri": "https://localhost:8080/",
          "height": 121
        },
        "outputId": "a0d719d3-bf46-4439-cf8a-fec2b3651ed4"
      },
      "source": [
        "print(s.loc['b':'c'])\n",
        "# loc[] 안에서 start:end를 사용하면, start/end를 모두 포함하는 범위\n",
        "\n",
        "print(s.iloc[1:3])\n",
        "# iloc 안에서 start:end를 사용하면, start는 포함, end는 미포함(!)"
      ],
      "execution_count": 14,
      "outputs": [
        {
          "output_type": "stream",
          "text": [
            "b    4\n",
            "c   -7\n",
            "dtype: int64\n",
            "b    4\n",
            "c   -7\n",
            "dtype: int64\n"
          ],
          "name": "stdout"
        }
      ]
    },
    {
      "cell_type": "code",
      "metadata": {
        "id": "1ibvIMkKuy3H",
        "colab_type": "code",
        "colab": {
          "base_uri": "https://localhost:8080/",
          "height": 259
        },
        "outputId": "71d57f1e-854e-47a9-b682-3cd88fe3596c"
      },
      "source": [
        "s = pd.Series([1, 3, 5, 7, 9])\n",
        "print(s)\n",
        "print(s.loc[0], s.iloc[0])\n",
        "print(s.loc[1:3])   # 3 포함(inclusive)\n",
        "print(s.iloc[1:3])  # 3 미포함(exclusive)"
      ],
      "execution_count": 19,
      "outputs": [
        {
          "output_type": "stream",
          "text": [
            "0    1\n",
            "1    3\n",
            "2    5\n",
            "3    7\n",
            "4    9\n",
            "dtype: int64\n",
            "1 1\n",
            "1    3\n",
            "2    5\n",
            "3    7\n",
            "dtype: int64\n",
            "1    3\n",
            "2    5\n",
            "dtype: int64\n"
          ],
          "name": "stdout"
        }
      ]
    },
    {
      "cell_type": "code",
      "metadata": {
        "id": "0YJpqxXEwZWG",
        "colab_type": "code",
        "colab": {
          "base_uri": "https://localhost:8080/",
          "height": 259
        },
        "outputId": "7bc85c59-074d-483d-a27a-dd389a9a3b92"
      },
      "source": [
        "# pandas.Series 데이터 타입은\n",
        "# Python의 list보다 dict에 더 가까운 데이터 타입\n",
        "s = pd.Series(data=[1, 3, 5, 7, 9],\n",
        "              index=['a', 'd', 'c', 'b', 'e'])\n",
        "print(s)\n",
        "print(s.loc['a':'c'])\n",
        "print(s.iloc[:3])  # s.iloc[0:3]"
      ],
      "execution_count": 23,
      "outputs": [
        {
          "output_type": "stream",
          "text": [
            "a    1\n",
            "d    3\n",
            "c    5\n",
            "b    7\n",
            "e    9\n",
            "dtype: int64\n",
            "a    1\n",
            "d    3\n",
            "c    5\n",
            "dtype: int64\n",
            "a    1\n",
            "d    3\n",
            "c    5\n",
            "dtype: int64\n"
          ],
          "name": "stdout"
        }
      ]
    },
    {
      "cell_type": "code",
      "metadata": {
        "id": "p5YEnBBmxpQm",
        "colab_type": "code",
        "colab": {
          "base_uri": "https://localhost:8080/",
          "height": 103
        },
        "outputId": "1a8af487-8840-4ee9-f9d2-c9151c3aa3a2"
      },
      "source": [
        "s = pd.Series({'서울': 100, '부산': 90, '광주': 80})\n",
        "print(s)\n",
        "print(s.loc['부산'])"
      ],
      "execution_count": 25,
      "outputs": [
        {
          "output_type": "stream",
          "text": [
            "서울    100\n",
            "부산     90\n",
            "광주     80\n",
            "dtype: int64\n",
            "90\n"
          ],
          "name": "stdout"
        }
      ]
    },
    {
      "cell_type": "code",
      "metadata": {
        "id": "Qv6ZnjcwyjMN",
        "colab_type": "code",
        "colab": {
          "base_uri": "https://localhost:8080/",
          "height": 233
        },
        "outputId": "98bbd183-546e-48a8-de34-327622d364bd"
      },
      "source": [
        "# pandas.DataFrame: 2차원 데이터 타입(row x column)\n",
        "data = {'city': ['서울', '서울', '서울', '경기', '경기', '경기'],\n",
        "        'year': [2018, 2019, 2020, 2018, 2019, 2020],\n",
        "        'pop': [1.5, 1.7, 1.8, 2.3, 2.1, 3.0]}\n",
        "df = pd.DataFrame(data)\n",
        "# print(df)\n",
        "df"
      ],
      "execution_count": 27,
      "outputs": [
        {
          "output_type": "execute_result",
          "data": {
            "text/html": [
              "<div>\n",
              "<style scoped>\n",
              "    .dataframe tbody tr th:only-of-type {\n",
              "        vertical-align: middle;\n",
              "    }\n",
              "\n",
              "    .dataframe tbody tr th {\n",
              "        vertical-align: top;\n",
              "    }\n",
              "\n",
              "    .dataframe thead th {\n",
              "        text-align: right;\n",
              "    }\n",
              "</style>\n",
              "<table border=\"1\" class=\"dataframe\">\n",
              "  <thead>\n",
              "    <tr style=\"text-align: right;\">\n",
              "      <th></th>\n",
              "      <th>city</th>\n",
              "      <th>year</th>\n",
              "      <th>pop</th>\n",
              "    </tr>\n",
              "  </thead>\n",
              "  <tbody>\n",
              "    <tr>\n",
              "      <th>0</th>\n",
              "      <td>서울</td>\n",
              "      <td>2018</td>\n",
              "      <td>1.5</td>\n",
              "    </tr>\n",
              "    <tr>\n",
              "      <th>1</th>\n",
              "      <td>서울</td>\n",
              "      <td>2019</td>\n",
              "      <td>1.7</td>\n",
              "    </tr>\n",
              "    <tr>\n",
              "      <th>2</th>\n",
              "      <td>서울</td>\n",
              "      <td>2020</td>\n",
              "      <td>1.8</td>\n",
              "    </tr>\n",
              "    <tr>\n",
              "      <th>3</th>\n",
              "      <td>경기</td>\n",
              "      <td>2018</td>\n",
              "      <td>2.3</td>\n",
              "    </tr>\n",
              "    <tr>\n",
              "      <th>4</th>\n",
              "      <td>경기</td>\n",
              "      <td>2019</td>\n",
              "      <td>2.1</td>\n",
              "    </tr>\n",
              "    <tr>\n",
              "      <th>5</th>\n",
              "      <td>경기</td>\n",
              "      <td>2020</td>\n",
              "      <td>3.0</td>\n",
              "    </tr>\n",
              "  </tbody>\n",
              "</table>\n",
              "</div>"
            ],
            "text/plain": [
              "  city  year  pop\n",
              "0   서울  2018  1.5\n",
              "1   서울  2019  1.7\n",
              "2   서울  2020  1.8\n",
              "3   경기  2018  2.3\n",
              "4   경기  2019  2.1\n",
              "5   경기  2020  3.0"
            ]
          },
          "metadata": {
            "tags": []
          },
          "execution_count": 27
        }
      ]
    },
    {
      "cell_type": "code",
      "metadata": {
        "id": "JsDID0UB0uVt",
        "colab_type": "code",
        "colab": {
          "base_uri": "https://localhost:8080/",
          "height": 69
        },
        "outputId": "37da8f05-96e9-461e-88ea-f4b1be5b18b9"
      },
      "source": [
        "print('shape =', df.shape)  # (row 개수, column 개수)\n",
        "print('columns =', df.columns)  # column index\n",
        "print('index =', df.index)  # row index"
      ],
      "execution_count": 30,
      "outputs": [
        {
          "output_type": "stream",
          "text": [
            "shape = (6, 3)\n",
            "columns = Index(['city', 'year', 'pop'], dtype='object')\n",
            "index = RangeIndex(start=0, stop=6, step=1)\n"
          ],
          "name": "stdout"
        }
      ]
    },
    {
      "cell_type": "code",
      "metadata": {
        "id": "heJfYOCn1tjV",
        "colab_type": "code",
        "colab": {
          "base_uri": "https://localhost:8080/",
          "height": 237
        },
        "outputId": "d89a4c14-b49a-4822-e5b8-0003a5a2c459"
      },
      "source": [
        "df2 = pd.DataFrame(data,\n",
        "                   index=['a','b','c','f','z','k'])\n",
        "df2"
      ],
      "execution_count": 31,
      "outputs": [
        {
          "output_type": "execute_result",
          "data": {
            "text/html": [
              "<div>\n",
              "<style scoped>\n",
              "    .dataframe tbody tr th:only-of-type {\n",
              "        vertical-align: middle;\n",
              "    }\n",
              "\n",
              "    .dataframe tbody tr th {\n",
              "        vertical-align: top;\n",
              "    }\n",
              "\n",
              "    .dataframe thead th {\n",
              "        text-align: right;\n",
              "    }\n",
              "</style>\n",
              "<table border=\"1\" class=\"dataframe\">\n",
              "  <thead>\n",
              "    <tr style=\"text-align: right;\">\n",
              "      <th></th>\n",
              "      <th>city</th>\n",
              "      <th>year</th>\n",
              "      <th>pop</th>\n",
              "    </tr>\n",
              "  </thead>\n",
              "  <tbody>\n",
              "    <tr>\n",
              "      <th>a</th>\n",
              "      <td>서울</td>\n",
              "      <td>2018</td>\n",
              "      <td>1.5</td>\n",
              "    </tr>\n",
              "    <tr>\n",
              "      <th>b</th>\n",
              "      <td>서울</td>\n",
              "      <td>2019</td>\n",
              "      <td>1.7</td>\n",
              "    </tr>\n",
              "    <tr>\n",
              "      <th>c</th>\n",
              "      <td>서울</td>\n",
              "      <td>2020</td>\n",
              "      <td>1.8</td>\n",
              "    </tr>\n",
              "    <tr>\n",
              "      <th>f</th>\n",
              "      <td>경기</td>\n",
              "      <td>2018</td>\n",
              "      <td>2.3</td>\n",
              "    </tr>\n",
              "    <tr>\n",
              "      <th>z</th>\n",
              "      <td>경기</td>\n",
              "      <td>2019</td>\n",
              "      <td>2.1</td>\n",
              "    </tr>\n",
              "    <tr>\n",
              "      <th>k</th>\n",
              "      <td>경기</td>\n",
              "      <td>2020</td>\n",
              "      <td>3.0</td>\n",
              "    </tr>\n",
              "  </tbody>\n",
              "</table>\n",
              "</div>"
            ],
            "text/plain": [
              "  city  year  pop\n",
              "a   서울  2018  1.5\n",
              "b   서울  2019  1.7\n",
              "c   서울  2020  1.8\n",
              "f   경기  2018  2.3\n",
              "z   경기  2019  2.1\n",
              "k   경기  2020  3.0"
            ]
          },
          "metadata": {
            "tags": []
          },
          "execution_count": 31
        }
      ]
    },
    {
      "cell_type": "code",
      "metadata": {
        "id": "eTi0cDNp5MTF",
        "colab_type": "code",
        "colab": {
          "base_uri": "https://localhost:8080/",
          "height": 69
        },
        "outputId": "75bb9c65-e3c1-4bd0-9a28-756d4065c173"
      },
      "source": [
        "print(df2.shape)\n",
        "print(df2.columns)\n",
        "print(df2.index)"
      ],
      "execution_count": 34,
      "outputs": [
        {
          "output_type": "stream",
          "text": [
            "(6, 3)\n",
            "Index(['city', 'year', 'pop'], dtype='object')\n",
            "Index(['a', 'b', 'c', 'f', 'z', 'k'], dtype='object')\n"
          ],
          "name": "stdout"
        }
      ]
    },
    {
      "cell_type": "code",
      "metadata": {
        "id": "P0WiKoZv5tHb",
        "colab_type": "code",
        "colab": {
          "base_uri": "https://localhost:8080/",
          "height": 258
        },
        "outputId": "bcf49672-c0cf-4f4d-bcf6-b9075e603dd7"
      },
      "source": [
        "# DataFrame에서 컬럼(column) 선택: df['column'], df.column\n",
        "print(df['city'])\n",
        "print(df.city)"
      ],
      "execution_count": 38,
      "outputs": [
        {
          "output_type": "stream",
          "text": [
            "0    서울\n",
            "1    서울\n",
            "2    서울\n",
            "3    경기\n",
            "4    경기\n",
            "5    경기\n",
            "Name: city, dtype: object\n",
            "0    서울\n",
            "1    서울\n",
            "2    서울\n",
            "3    경기\n",
            "4    경기\n",
            "5    경기\n",
            "Name: city, dtype: object\n"
          ],
          "name": "stdout"
        }
      ]
    },
    {
      "cell_type": "code",
      "metadata": {
        "id": "qj7pLb1k6ort",
        "colab_type": "code",
        "colab": {
          "base_uri": "https://localhost:8080/",
          "height": 138
        },
        "outputId": "828bb913-b6a5-4e84-bfe5-b2518c86933b"
      },
      "source": [
        "# DataFrame에서 여러개의 컬럼 선택: df[컬럼 이름 리스트]\n",
        "print(df[['year', 'pop']])"
      ],
      "execution_count": 39,
      "outputs": [
        {
          "output_type": "stream",
          "text": [
            "   year  pop\n",
            "0  2018  1.5\n",
            "1  2019  1.7\n",
            "2  2020  1.8\n",
            "3  2018  2.3\n",
            "4  2019  2.1\n",
            "5  2020  3.0\n"
          ],
          "name": "stdout"
        }
      ]
    },
    {
      "cell_type": "code",
      "metadata": {
        "id": "I1cYJlHL7EUj",
        "colab_type": "code",
        "colab": {
          "base_uri": "https://localhost:8080/",
          "height": 207
        },
        "outputId": "57d75e45-cc6d-4cee-c244-acdbfc89b81d"
      },
      "source": [
        "# DataFrame에서 row(행)를 선택: df.loc[row_index], df_iloc[integer]\n",
        "print(df.loc[0])\n",
        "print(df.loc[0:2])\n",
        "print(df.iloc[0:2])"
      ],
      "execution_count": 42,
      "outputs": [
        {
          "output_type": "stream",
          "text": [
            "city      서울\n",
            "year    2018\n",
            "pop      1.5\n",
            "Name: 0, dtype: object\n",
            "  city  year  pop\n",
            "0   서울  2018  1.5\n",
            "1   서울  2019  1.7\n",
            "2   서울  2020  1.8\n",
            "  city  year  pop\n",
            "0   서울  2018  1.5\n",
            "1   서울  2019  1.7\n"
          ],
          "name": "stdout"
        }
      ]
    },
    {
      "cell_type": "code",
      "metadata": {
        "id": "t-mdW6hr8KIb",
        "colab_type": "code",
        "colab": {
          "base_uri": "https://localhost:8080/",
          "height": 155
        },
        "outputId": "13d0842f-6d02-410d-aa41-9a31158c038e"
      },
      "source": [
        "# DataFrame의 부분집합: df.loc[row, col], df.iloc[row, col]\n",
        "print(df.loc[0:2, ['city', 'pop']])\n",
        "print(df.iloc[0:3, [0, 2]])"
      ],
      "execution_count": 44,
      "outputs": [
        {
          "output_type": "stream",
          "text": [
            "  city  pop\n",
            "0   서울  1.5\n",
            "1   서울  1.7\n",
            "2   서울  1.8\n",
            "  city  pop\n",
            "0   서울  1.5\n",
            "1   서울  1.7\n",
            "2   서울  1.8\n"
          ],
          "name": "stdout"
        }
      ]
    },
    {
      "cell_type": "code",
      "metadata": {
        "id": "XJTXmoWi-b6D",
        "colab_type": "code",
        "colab": {
          "base_uri": "https://localhost:8080/",
          "height": 207
        },
        "outputId": "ef0c22be-cb1a-4715-d392-c3adb174d7bc"
      },
      "source": [
        "s = pd.Series(np.random.randn(10))\n",
        "s"
      ],
      "execution_count": 45,
      "outputs": [
        {
          "output_type": "execute_result",
          "data": {
            "text/plain": [
              "0   -1.597806\n",
              "1   -1.350227\n",
              "2    0.330935\n",
              "3    1.222352\n",
              "4   -0.797691\n",
              "5    0.089521\n",
              "6   -0.913862\n",
              "7    0.303029\n",
              "8    0.498802\n",
              "9   -0.733392\n",
              "dtype: float64"
            ]
          },
          "metadata": {
            "tags": []
          },
          "execution_count": 45
        }
      ]
    },
    {
      "cell_type": "code",
      "metadata": {
        "id": "4mXvZSxY-zlZ",
        "colab_type": "code",
        "colab": {
          "base_uri": "https://localhost:8080/",
          "height": 207
        },
        "outputId": "0e71c0fc-298d-4851-8275-8e5afdb37147"
      },
      "source": [
        "s > 0"
      ],
      "execution_count": 46,
      "outputs": [
        {
          "output_type": "execute_result",
          "data": {
            "text/plain": [
              "0    False\n",
              "1    False\n",
              "2     True\n",
              "3     True\n",
              "4    False\n",
              "5     True\n",
              "6    False\n",
              "7     True\n",
              "8     True\n",
              "9    False\n",
              "dtype: bool"
            ]
          },
          "metadata": {
            "tags": []
          },
          "execution_count": 46
        }
      ]
    },
    {
      "cell_type": "code",
      "metadata": {
        "id": "fqzOxEI9_DqK",
        "colab_type": "code",
        "colab": {
          "base_uri": "https://localhost:8080/",
          "height": 121
        },
        "outputId": "90595592-f0a9-4a2d-dbd3-49096f86ed94"
      },
      "source": [
        "# pandas.Series의 boolean indexing\n",
        "s[s > 0]"
      ],
      "execution_count": 47,
      "outputs": [
        {
          "output_type": "execute_result",
          "data": {
            "text/plain": [
              "2    0.330935\n",
              "3    1.222352\n",
              "5    0.089521\n",
              "7    0.303029\n",
              "8    0.498802\n",
              "dtype: float64"
            ]
          },
          "metadata": {
            "tags": []
          },
          "execution_count": 47
        }
      ]
    },
    {
      "cell_type": "code",
      "metadata": {
        "id": "gsvv_Imb_mPB",
        "colab_type": "code",
        "colab": {
          "base_uri": "https://localhost:8080/",
          "height": 143
        },
        "outputId": "ab346bca-50b1-4213-f48b-3a3ae552e77b"
      },
      "source": [
        "df3 = pd.DataFrame(data=np.random.randn(3, 3),\n",
        "                   columns=['a', 'b', 'c'])\n",
        "df3"
      ],
      "execution_count": 48,
      "outputs": [
        {
          "output_type": "execute_result",
          "data": {
            "text/html": [
              "<div>\n",
              "<style scoped>\n",
              "    .dataframe tbody tr th:only-of-type {\n",
              "        vertical-align: middle;\n",
              "    }\n",
              "\n",
              "    .dataframe tbody tr th {\n",
              "        vertical-align: top;\n",
              "    }\n",
              "\n",
              "    .dataframe thead th {\n",
              "        text-align: right;\n",
              "    }\n",
              "</style>\n",
              "<table border=\"1\" class=\"dataframe\">\n",
              "  <thead>\n",
              "    <tr style=\"text-align: right;\">\n",
              "      <th></th>\n",
              "      <th>a</th>\n",
              "      <th>b</th>\n",
              "      <th>c</th>\n",
              "    </tr>\n",
              "  </thead>\n",
              "  <tbody>\n",
              "    <tr>\n",
              "      <th>0</th>\n",
              "      <td>-0.427107</td>\n",
              "      <td>0.141934</td>\n",
              "      <td>-0.113494</td>\n",
              "    </tr>\n",
              "    <tr>\n",
              "      <th>1</th>\n",
              "      <td>0.747326</td>\n",
              "      <td>-1.357717</td>\n",
              "      <td>0.039817</td>\n",
              "    </tr>\n",
              "    <tr>\n",
              "      <th>2</th>\n",
              "      <td>0.218869</td>\n",
              "      <td>0.984256</td>\n",
              "      <td>0.362500</td>\n",
              "    </tr>\n",
              "  </tbody>\n",
              "</table>\n",
              "</div>"
            ],
            "text/plain": [
              "          a         b         c\n",
              "0 -0.427107  0.141934 -0.113494\n",
              "1  0.747326 -1.357717  0.039817\n",
              "2  0.218869  0.984256  0.362500"
            ]
          },
          "metadata": {
            "tags": []
          },
          "execution_count": 48
        }
      ]
    },
    {
      "cell_type": "code",
      "metadata": {
        "id": "vmS-GiD0AGGB",
        "colab_type": "code",
        "colab": {
          "base_uri": "https://localhost:8080/",
          "height": 143
        },
        "outputId": "4e4e8fc2-93a6-486f-b413-85aee65706c2"
      },
      "source": [
        "df3 > 0"
      ],
      "execution_count": 50,
      "outputs": [
        {
          "output_type": "execute_result",
          "data": {
            "text/html": [
              "<div>\n",
              "<style scoped>\n",
              "    .dataframe tbody tr th:only-of-type {\n",
              "        vertical-align: middle;\n",
              "    }\n",
              "\n",
              "    .dataframe tbody tr th {\n",
              "        vertical-align: top;\n",
              "    }\n",
              "\n",
              "    .dataframe thead th {\n",
              "        text-align: right;\n",
              "    }\n",
              "</style>\n",
              "<table border=\"1\" class=\"dataframe\">\n",
              "  <thead>\n",
              "    <tr style=\"text-align: right;\">\n",
              "      <th></th>\n",
              "      <th>a</th>\n",
              "      <th>b</th>\n",
              "      <th>c</th>\n",
              "    </tr>\n",
              "  </thead>\n",
              "  <tbody>\n",
              "    <tr>\n",
              "      <th>0</th>\n",
              "      <td>False</td>\n",
              "      <td>True</td>\n",
              "      <td>False</td>\n",
              "    </tr>\n",
              "    <tr>\n",
              "      <th>1</th>\n",
              "      <td>True</td>\n",
              "      <td>False</td>\n",
              "      <td>True</td>\n",
              "    </tr>\n",
              "    <tr>\n",
              "      <th>2</th>\n",
              "      <td>True</td>\n",
              "      <td>True</td>\n",
              "      <td>True</td>\n",
              "    </tr>\n",
              "  </tbody>\n",
              "</table>\n",
              "</div>"
            ],
            "text/plain": [
              "       a      b      c\n",
              "0  False   True  False\n",
              "1   True  False   True\n",
              "2   True   True   True"
            ]
          },
          "metadata": {
            "tags": []
          },
          "execution_count": 50
        }
      ]
    },
    {
      "cell_type": "code",
      "metadata": {
        "id": "FWN3s1CYAaNB",
        "colab_type": "code",
        "colab": {
          "base_uri": "https://localhost:8080/",
          "height": 143
        },
        "outputId": "8cea7cae-bc96-486e-bb98-d57718b73daf"
      },
      "source": [
        "df3[df3 > 0]"
      ],
      "execution_count": 52,
      "outputs": [
        {
          "output_type": "execute_result",
          "data": {
            "text/html": [
              "<div>\n",
              "<style scoped>\n",
              "    .dataframe tbody tr th:only-of-type {\n",
              "        vertical-align: middle;\n",
              "    }\n",
              "\n",
              "    .dataframe tbody tr th {\n",
              "        vertical-align: top;\n",
              "    }\n",
              "\n",
              "    .dataframe thead th {\n",
              "        text-align: right;\n",
              "    }\n",
              "</style>\n",
              "<table border=\"1\" class=\"dataframe\">\n",
              "  <thead>\n",
              "    <tr style=\"text-align: right;\">\n",
              "      <th></th>\n",
              "      <th>a</th>\n",
              "      <th>b</th>\n",
              "      <th>c</th>\n",
              "    </tr>\n",
              "  </thead>\n",
              "  <tbody>\n",
              "    <tr>\n",
              "      <th>0</th>\n",
              "      <td>NaN</td>\n",
              "      <td>0.141934</td>\n",
              "      <td>NaN</td>\n",
              "    </tr>\n",
              "    <tr>\n",
              "      <th>1</th>\n",
              "      <td>0.747326</td>\n",
              "      <td>NaN</td>\n",
              "      <td>0.039817</td>\n",
              "    </tr>\n",
              "    <tr>\n",
              "      <th>2</th>\n",
              "      <td>0.218869</td>\n",
              "      <td>0.984256</td>\n",
              "      <td>0.362500</td>\n",
              "    </tr>\n",
              "  </tbody>\n",
              "</table>\n",
              "</div>"
            ],
            "text/plain": [
              "          a         b         c\n",
              "0       NaN  0.141934       NaN\n",
              "1  0.747326       NaN  0.039817\n",
              "2  0.218869  0.984256  0.362500"
            ]
          },
          "metadata": {
            "tags": []
          },
          "execution_count": 52
        }
      ]
    },
    {
      "cell_type": "code",
      "metadata": {
        "id": "aXs9an5-A_Zx",
        "colab_type": "code",
        "colab": {
          "base_uri": "https://localhost:8080/",
          "height": 86
        },
        "outputId": "2b2321a8-3834-4808-d443-99f1e371424d"
      },
      "source": [
        "df3['a'] > 0"
      ],
      "execution_count": 53,
      "outputs": [
        {
          "output_type": "execute_result",
          "data": {
            "text/plain": [
              "0    False\n",
              "1     True\n",
              "2     True\n",
              "Name: a, dtype: bool"
            ]
          },
          "metadata": {
            "tags": []
          },
          "execution_count": 53
        }
      ]
    },
    {
      "cell_type": "code",
      "metadata": {
        "id": "O2iePzyfBUQh",
        "colab_type": "code",
        "colab": {
          "base_uri": "https://localhost:8080/",
          "height": 111
        },
        "outputId": "0755ffc5-5106-420d-be04-78a1461c2a6b"
      },
      "source": [
        "df3[df3['a'] > 0]"
      ],
      "execution_count": 54,
      "outputs": [
        {
          "output_type": "execute_result",
          "data": {
            "text/html": [
              "<div>\n",
              "<style scoped>\n",
              "    .dataframe tbody tr th:only-of-type {\n",
              "        vertical-align: middle;\n",
              "    }\n",
              "\n",
              "    .dataframe tbody tr th {\n",
              "        vertical-align: top;\n",
              "    }\n",
              "\n",
              "    .dataframe thead th {\n",
              "        text-align: right;\n",
              "    }\n",
              "</style>\n",
              "<table border=\"1\" class=\"dataframe\">\n",
              "  <thead>\n",
              "    <tr style=\"text-align: right;\">\n",
              "      <th></th>\n",
              "      <th>a</th>\n",
              "      <th>b</th>\n",
              "      <th>c</th>\n",
              "    </tr>\n",
              "  </thead>\n",
              "  <tbody>\n",
              "    <tr>\n",
              "      <th>1</th>\n",
              "      <td>0.747326</td>\n",
              "      <td>-1.357717</td>\n",
              "      <td>0.039817</td>\n",
              "    </tr>\n",
              "    <tr>\n",
              "      <th>2</th>\n",
              "      <td>0.218869</td>\n",
              "      <td>0.984256</td>\n",
              "      <td>0.362500</td>\n",
              "    </tr>\n",
              "  </tbody>\n",
              "</table>\n",
              "</div>"
            ],
            "text/plain": [
              "          a         b         c\n",
              "1  0.747326 -1.357717  0.039817\n",
              "2  0.218869  0.984256  0.362500"
            ]
          },
          "metadata": {
            "tags": []
          },
          "execution_count": 54
        }
      ]
    },
    {
      "cell_type": "code",
      "metadata": {
        "id": "ld7zur2RBuWp",
        "colab_type": "code",
        "colab": {
          "base_uri": "https://localhost:8080/",
          "height": 112
        },
        "outputId": "1c9d224b-a834-4914-d1c3-60313c8907e1"
      },
      "source": [
        "df3[df3['b'] > 0]"
      ],
      "execution_count": 55,
      "outputs": [
        {
          "output_type": "execute_result",
          "data": {
            "text/html": [
              "<div>\n",
              "<style scoped>\n",
              "    .dataframe tbody tr th:only-of-type {\n",
              "        vertical-align: middle;\n",
              "    }\n",
              "\n",
              "    .dataframe tbody tr th {\n",
              "        vertical-align: top;\n",
              "    }\n",
              "\n",
              "    .dataframe thead th {\n",
              "        text-align: right;\n",
              "    }\n",
              "</style>\n",
              "<table border=\"1\" class=\"dataframe\">\n",
              "  <thead>\n",
              "    <tr style=\"text-align: right;\">\n",
              "      <th></th>\n",
              "      <th>a</th>\n",
              "      <th>b</th>\n",
              "      <th>c</th>\n",
              "    </tr>\n",
              "  </thead>\n",
              "  <tbody>\n",
              "    <tr>\n",
              "      <th>0</th>\n",
              "      <td>-0.427107</td>\n",
              "      <td>0.141934</td>\n",
              "      <td>-0.113494</td>\n",
              "    </tr>\n",
              "    <tr>\n",
              "      <th>2</th>\n",
              "      <td>0.218869</td>\n",
              "      <td>0.984256</td>\n",
              "      <td>0.362500</td>\n",
              "    </tr>\n",
              "  </tbody>\n",
              "</table>\n",
              "</div>"
            ],
            "text/plain": [
              "          a         b         c\n",
              "0 -0.427107  0.141934 -0.113494\n",
              "2  0.218869  0.984256  0.362500"
            ]
          },
          "metadata": {
            "tags": []
          },
          "execution_count": 55
        }
      ]
    },
    {
      "cell_type": "code",
      "metadata": {
        "id": "RyjNRxZlCOew",
        "colab_type": "code",
        "colab": {
          "base_uri": "https://localhost:8080/",
          "height": 221
        },
        "outputId": "03390b25-666d-4afd-df6a-be650d8ce7b4"
      },
      "source": [
        "# pandas.DataFrame에서 수학, 통계 함수 적용\n",
        "# axis=0: row가 증가하는 방향, axis=1: column이 증가하는 방향\n",
        "# numpy.ndarray와 다르게 pandas에서는 axis=0이 기본값\n",
        "print(df3.sum())\n",
        "print(df3.sum(axis=0))\n",
        "print(df3.sum(axis=1))"
      ],
      "execution_count": 59,
      "outputs": [
        {
          "output_type": "stream",
          "text": [
            "a    0.539089\n",
            "b   -0.231527\n",
            "c    0.288823\n",
            "dtype: float64\n",
            "a    0.539089\n",
            "b   -0.231527\n",
            "c    0.288823\n",
            "dtype: float64\n",
            "0   -0.398667\n",
            "1   -0.570573\n",
            "2    1.565625\n",
            "dtype: float64\n"
          ],
          "name": "stdout"
        }
      ]
    }
  ]
}