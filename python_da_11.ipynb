{
  "nbformat": 4,
  "nbformat_minor": 0,
  "metadata": {
    "colab": {
      "name": "python_da_11.ipynb",
      "provenance": [],
      "collapsed_sections": [],
      "mount_file_id": "1TB0-fa5kvRybY-PDFPbHdNEalmJcYjCs",
      "authorship_tag": "ABX9TyPGPXmjmcpznjj7xKqSfsjj",
      "include_colab_link": true
    },
    "kernelspec": {
      "name": "python3",
      "display_name": "Python 3"
    }
  },
  "cells": [
    {
      "cell_type": "markdown",
      "metadata": {
        "id": "view-in-github",
        "colab_type": "text"
      },
      "source": [
        "<a href=\"https://colab.research.google.com/github/JakeOh/202004_iw_pyda_wkd/blob/master/python_da_11.ipynb\" target=\"_parent\"><img src=\"https://colab.research.google.com/assets/colab-badge.svg\" alt=\"Open In Colab\"/></a>"
      ]
    },
    {
      "cell_type": "code",
      "metadata": {
        "id": "wAq19D2NUQKv",
        "colab_type": "code",
        "outputId": "601b5136-42be-40aa-f0e5-b6df3ea2f748",
        "colab": {
          "base_uri": "https://localhost:8080/",
          "height": 71
        }
      },
      "source": [
        "# Google Drive Mount\n",
        "# 필요한 라이브러리들 임포트\n",
        "import numpy as np\n",
        "import pandas as pd\n",
        "import matplotlib.pyplot as plt\n",
        "import seaborn as sns"
      ],
      "execution_count": 0,
      "outputs": [
        {
          "output_type": "stream",
          "text": [
            "/usr/local/lib/python3.6/dist-packages/statsmodels/tools/_testing.py:19: FutureWarning: pandas.util.testing is deprecated. Use the functions in the public API at pandas.testing instead.\n",
            "  import pandas.util.testing as tm\n"
          ],
          "name": "stderr"
        }
      ]
    },
    {
      "cell_type": "code",
      "metadata": {
        "id": "L_Abi2qgVClR",
        "colab_type": "code",
        "colab": {}
      },
      "source": [
        "# DataFrame의 최대 프린트 라인 개수 제한\n",
        "pd.options.display.max_rows = 10"
      ],
      "execution_count": 0,
      "outputs": []
    },
    {
      "cell_type": "code",
      "metadata": {
        "id": "VGfgofeOVPdo",
        "colab_type": "code",
        "outputId": "1a33af79-f980-4ebc-cc12-c41874332bcf",
        "colab": {
          "base_uri": "https://localhost:8080/",
          "height": 71
        }
      },
      "source": [
        "# users.dat 파일을 읽어서 데이터프레임 생성\n",
        "# users.dat 데이터의 컬럼 이름들\n",
        "users_names = ['user_id', 'gender', 'age', 'occupation', 'zip']\n",
        "# 데이터프레임 생성\n",
        "users = pd.read_table('drive/My Drive/Colab Notebooks/python_da/movielens/users.dat',\n",
        "                      sep='::',  # 데이터 구분자\n",
        "                      header=None,  # 파일 헤더 정보(컬럼) 없음\n",
        "                      names=users_names)  # 컬럼 이름 지정"
      ],
      "execution_count": 0,
      "outputs": [
        {
          "output_type": "stream",
          "text": [
            "/usr/local/lib/python3.6/dist-packages/ipykernel_launcher.py:6: ParserWarning: Falling back to the 'python' engine because the 'c' engine does not support regex separators (separators > 1 char and different from '\\s+' are interpreted as regex); you can avoid this warning by specifying engine='python'.\n",
            "  \n"
          ],
          "name": "stderr"
        }
      ]
    },
    {
      "cell_type": "code",
      "metadata": {
        "id": "y8tV6XTZXwBG",
        "colab_type": "code",
        "outputId": "f1fa7a59-4814-4199-9b8e-d5a540ca59f0",
        "colab": {
          "base_uri": "https://localhost:8080/",
          "height": 419
        }
      },
      "source": [
        "users"
      ],
      "execution_count": 0,
      "outputs": [
        {
          "output_type": "execute_result",
          "data": {
            "text/html": [
              "<div>\n",
              "<style scoped>\n",
              "    .dataframe tbody tr th:only-of-type {\n",
              "        vertical-align: middle;\n",
              "    }\n",
              "\n",
              "    .dataframe tbody tr th {\n",
              "        vertical-align: top;\n",
              "    }\n",
              "\n",
              "    .dataframe thead th {\n",
              "        text-align: right;\n",
              "    }\n",
              "</style>\n",
              "<table border=\"1\" class=\"dataframe\">\n",
              "  <thead>\n",
              "    <tr style=\"text-align: right;\">\n",
              "      <th></th>\n",
              "      <th>user_id</th>\n",
              "      <th>gender</th>\n",
              "      <th>age</th>\n",
              "      <th>occupation</th>\n",
              "      <th>zip</th>\n",
              "    </tr>\n",
              "  </thead>\n",
              "  <tbody>\n",
              "    <tr>\n",
              "      <th>0</th>\n",
              "      <td>1</td>\n",
              "      <td>F</td>\n",
              "      <td>1</td>\n",
              "      <td>10</td>\n",
              "      <td>48067</td>\n",
              "    </tr>\n",
              "    <tr>\n",
              "      <th>1</th>\n",
              "      <td>2</td>\n",
              "      <td>M</td>\n",
              "      <td>56</td>\n",
              "      <td>16</td>\n",
              "      <td>70072</td>\n",
              "    </tr>\n",
              "    <tr>\n",
              "      <th>2</th>\n",
              "      <td>3</td>\n",
              "      <td>M</td>\n",
              "      <td>25</td>\n",
              "      <td>15</td>\n",
              "      <td>55117</td>\n",
              "    </tr>\n",
              "    <tr>\n",
              "      <th>3</th>\n",
              "      <td>4</td>\n",
              "      <td>M</td>\n",
              "      <td>45</td>\n",
              "      <td>7</td>\n",
              "      <td>02460</td>\n",
              "    </tr>\n",
              "    <tr>\n",
              "      <th>4</th>\n",
              "      <td>5</td>\n",
              "      <td>M</td>\n",
              "      <td>25</td>\n",
              "      <td>20</td>\n",
              "      <td>55455</td>\n",
              "    </tr>\n",
              "    <tr>\n",
              "      <th>...</th>\n",
              "      <td>...</td>\n",
              "      <td>...</td>\n",
              "      <td>...</td>\n",
              "      <td>...</td>\n",
              "      <td>...</td>\n",
              "    </tr>\n",
              "    <tr>\n",
              "      <th>6035</th>\n",
              "      <td>6036</td>\n",
              "      <td>F</td>\n",
              "      <td>25</td>\n",
              "      <td>15</td>\n",
              "      <td>32603</td>\n",
              "    </tr>\n",
              "    <tr>\n",
              "      <th>6036</th>\n",
              "      <td>6037</td>\n",
              "      <td>F</td>\n",
              "      <td>45</td>\n",
              "      <td>1</td>\n",
              "      <td>76006</td>\n",
              "    </tr>\n",
              "    <tr>\n",
              "      <th>6037</th>\n",
              "      <td>6038</td>\n",
              "      <td>F</td>\n",
              "      <td>56</td>\n",
              "      <td>1</td>\n",
              "      <td>14706</td>\n",
              "    </tr>\n",
              "    <tr>\n",
              "      <th>6038</th>\n",
              "      <td>6039</td>\n",
              "      <td>F</td>\n",
              "      <td>45</td>\n",
              "      <td>0</td>\n",
              "      <td>01060</td>\n",
              "    </tr>\n",
              "    <tr>\n",
              "      <th>6039</th>\n",
              "      <td>6040</td>\n",
              "      <td>M</td>\n",
              "      <td>25</td>\n",
              "      <td>6</td>\n",
              "      <td>11106</td>\n",
              "    </tr>\n",
              "  </tbody>\n",
              "</table>\n",
              "<p>6040 rows × 5 columns</p>\n",
              "</div>"
            ],
            "text/plain": [
              "      user_id gender  age  occupation    zip\n",
              "0           1      F    1          10  48067\n",
              "1           2      M   56          16  70072\n",
              "2           3      M   25          15  55117\n",
              "3           4      M   45           7  02460\n",
              "4           5      M   25          20  55455\n",
              "...       ...    ...  ...         ...    ...\n",
              "6035     6036      F   25          15  32603\n",
              "6036     6037      F   45           1  76006\n",
              "6037     6038      F   56           1  14706\n",
              "6038     6039      F   45           0  01060\n",
              "6039     6040      M   25           6  11106\n",
              "\n",
              "[6040 rows x 5 columns]"
            ]
          },
          "metadata": {
            "tags": []
          },
          "execution_count": 4
        }
      ]
    },
    {
      "cell_type": "code",
      "metadata": {
        "id": "IBO0MTJDX94M",
        "colab_type": "code",
        "outputId": "acd482ed-37e9-4f17-c6ff-d8261825b7c5",
        "colab": {
          "base_uri": "https://localhost:8080/",
          "height": 71
        }
      },
      "source": [
        "# ratings.data(영화평점) 파일을 읽어서 데이터프레임 생성\n",
        "ratings_names = ['user_id', 'movie_id', 'rating', 'timestamp']\n",
        "ratings = pd.read_table('drive/My Drive/Colab Notebooks/python_da/movielens/ratings.dat',\n",
        "                        sep='::',\n",
        "                        header=None,\n",
        "                        names=ratings_names)"
      ],
      "execution_count": 0,
      "outputs": [
        {
          "output_type": "stream",
          "text": [
            "/usr/local/lib/python3.6/dist-packages/ipykernel_launcher.py:5: ParserWarning: Falling back to the 'python' engine because the 'c' engine does not support regex separators (separators > 1 char and different from '\\s+' are interpreted as regex); you can avoid this warning by specifying engine='python'.\n",
            "  \"\"\"\n"
          ],
          "name": "stderr"
        }
      ]
    },
    {
      "cell_type": "code",
      "metadata": {
        "id": "GhKVlY25ZDiA",
        "colab_type": "code",
        "outputId": "6ffb4717-f9c5-4fb6-d960-cf76c1144d83",
        "colab": {
          "base_uri": "https://localhost:8080/",
          "height": 419
        }
      },
      "source": [
        "ratings"
      ],
      "execution_count": 0,
      "outputs": [
        {
          "output_type": "execute_result",
          "data": {
            "text/html": [
              "<div>\n",
              "<style scoped>\n",
              "    .dataframe tbody tr th:only-of-type {\n",
              "        vertical-align: middle;\n",
              "    }\n",
              "\n",
              "    .dataframe tbody tr th {\n",
              "        vertical-align: top;\n",
              "    }\n",
              "\n",
              "    .dataframe thead th {\n",
              "        text-align: right;\n",
              "    }\n",
              "</style>\n",
              "<table border=\"1\" class=\"dataframe\">\n",
              "  <thead>\n",
              "    <tr style=\"text-align: right;\">\n",
              "      <th></th>\n",
              "      <th>user_id</th>\n",
              "      <th>movie_id</th>\n",
              "      <th>rating</th>\n",
              "      <th>timestamp</th>\n",
              "    </tr>\n",
              "  </thead>\n",
              "  <tbody>\n",
              "    <tr>\n",
              "      <th>0</th>\n",
              "      <td>1</td>\n",
              "      <td>1193</td>\n",
              "      <td>5</td>\n",
              "      <td>978300760</td>\n",
              "    </tr>\n",
              "    <tr>\n",
              "      <th>1</th>\n",
              "      <td>1</td>\n",
              "      <td>661</td>\n",
              "      <td>3</td>\n",
              "      <td>978302109</td>\n",
              "    </tr>\n",
              "    <tr>\n",
              "      <th>2</th>\n",
              "      <td>1</td>\n",
              "      <td>914</td>\n",
              "      <td>3</td>\n",
              "      <td>978301968</td>\n",
              "    </tr>\n",
              "    <tr>\n",
              "      <th>3</th>\n",
              "      <td>1</td>\n",
              "      <td>3408</td>\n",
              "      <td>4</td>\n",
              "      <td>978300275</td>\n",
              "    </tr>\n",
              "    <tr>\n",
              "      <th>4</th>\n",
              "      <td>1</td>\n",
              "      <td>2355</td>\n",
              "      <td>5</td>\n",
              "      <td>978824291</td>\n",
              "    </tr>\n",
              "    <tr>\n",
              "      <th>...</th>\n",
              "      <td>...</td>\n",
              "      <td>...</td>\n",
              "      <td>...</td>\n",
              "      <td>...</td>\n",
              "    </tr>\n",
              "    <tr>\n",
              "      <th>1000204</th>\n",
              "      <td>6040</td>\n",
              "      <td>1091</td>\n",
              "      <td>1</td>\n",
              "      <td>956716541</td>\n",
              "    </tr>\n",
              "    <tr>\n",
              "      <th>1000205</th>\n",
              "      <td>6040</td>\n",
              "      <td>1094</td>\n",
              "      <td>5</td>\n",
              "      <td>956704887</td>\n",
              "    </tr>\n",
              "    <tr>\n",
              "      <th>1000206</th>\n",
              "      <td>6040</td>\n",
              "      <td>562</td>\n",
              "      <td>5</td>\n",
              "      <td>956704746</td>\n",
              "    </tr>\n",
              "    <tr>\n",
              "      <th>1000207</th>\n",
              "      <td>6040</td>\n",
              "      <td>1096</td>\n",
              "      <td>4</td>\n",
              "      <td>956715648</td>\n",
              "    </tr>\n",
              "    <tr>\n",
              "      <th>1000208</th>\n",
              "      <td>6040</td>\n",
              "      <td>1097</td>\n",
              "      <td>4</td>\n",
              "      <td>956715569</td>\n",
              "    </tr>\n",
              "  </tbody>\n",
              "</table>\n",
              "<p>1000209 rows × 4 columns</p>\n",
              "</div>"
            ],
            "text/plain": [
              "         user_id  movie_id  rating  timestamp\n",
              "0              1      1193       5  978300760\n",
              "1              1       661       3  978302109\n",
              "2              1       914       3  978301968\n",
              "3              1      3408       4  978300275\n",
              "4              1      2355       5  978824291\n",
              "...          ...       ...     ...        ...\n",
              "1000204     6040      1091       1  956716541\n",
              "1000205     6040      1094       5  956704887\n",
              "1000206     6040       562       5  956704746\n",
              "1000207     6040      1096       4  956715648\n",
              "1000208     6040      1097       4  956715569\n",
              "\n",
              "[1000209 rows x 4 columns]"
            ]
          },
          "metadata": {
            "tags": []
          },
          "execution_count": 6
        }
      ]
    },
    {
      "cell_type": "code",
      "metadata": {
        "id": "D0mYKLU0ZIok",
        "colab_type": "code",
        "outputId": "131d54c6-24ae-4fa0-e9ea-ba1eafe9810c",
        "colab": {
          "base_uri": "https://localhost:8080/",
          "height": 71
        }
      },
      "source": [
        "# movies.dat(영화 정보) 파일을 읽어서 데이터프레임 생성\n",
        "movies_names = ['movie_id', 'title', 'genre']\n",
        "movies = pd.read_table('drive/My Drive/Colab Notebooks/python_da/movielens/movies.dat',\n",
        "                       sep='::',\n",
        "                       header=None,\n",
        "                       names=movies_names)"
      ],
      "execution_count": 0,
      "outputs": [
        {
          "output_type": "stream",
          "text": [
            "/usr/local/lib/python3.6/dist-packages/ipykernel_launcher.py:5: ParserWarning: Falling back to the 'python' engine because the 'c' engine does not support regex separators (separators > 1 char and different from '\\s+' are interpreted as regex); you can avoid this warning by specifying engine='python'.\n",
            "  \"\"\"\n"
          ],
          "name": "stderr"
        }
      ]
    },
    {
      "cell_type": "code",
      "metadata": {
        "id": "qmAkDRm4Z3WK",
        "colab_type": "code",
        "outputId": "a493004a-e829-497c-d40a-936d45c89b32",
        "colab": {
          "base_uri": "https://localhost:8080/",
          "height": 419
        }
      },
      "source": [
        "movies"
      ],
      "execution_count": 0,
      "outputs": [
        {
          "output_type": "execute_result",
          "data": {
            "text/html": [
              "<div>\n",
              "<style scoped>\n",
              "    .dataframe tbody tr th:only-of-type {\n",
              "        vertical-align: middle;\n",
              "    }\n",
              "\n",
              "    .dataframe tbody tr th {\n",
              "        vertical-align: top;\n",
              "    }\n",
              "\n",
              "    .dataframe thead th {\n",
              "        text-align: right;\n",
              "    }\n",
              "</style>\n",
              "<table border=\"1\" class=\"dataframe\">\n",
              "  <thead>\n",
              "    <tr style=\"text-align: right;\">\n",
              "      <th></th>\n",
              "      <th>movie_id</th>\n",
              "      <th>title</th>\n",
              "      <th>genre</th>\n",
              "    </tr>\n",
              "  </thead>\n",
              "  <tbody>\n",
              "    <tr>\n",
              "      <th>0</th>\n",
              "      <td>1</td>\n",
              "      <td>Toy Story (1995)</td>\n",
              "      <td>Animation|Children's|Comedy</td>\n",
              "    </tr>\n",
              "    <tr>\n",
              "      <th>1</th>\n",
              "      <td>2</td>\n",
              "      <td>Jumanji (1995)</td>\n",
              "      <td>Adventure|Children's|Fantasy</td>\n",
              "    </tr>\n",
              "    <tr>\n",
              "      <th>2</th>\n",
              "      <td>3</td>\n",
              "      <td>Grumpier Old Men (1995)</td>\n",
              "      <td>Comedy|Romance</td>\n",
              "    </tr>\n",
              "    <tr>\n",
              "      <th>3</th>\n",
              "      <td>4</td>\n",
              "      <td>Waiting to Exhale (1995)</td>\n",
              "      <td>Comedy|Drama</td>\n",
              "    </tr>\n",
              "    <tr>\n",
              "      <th>4</th>\n",
              "      <td>5</td>\n",
              "      <td>Father of the Bride Part II (1995)</td>\n",
              "      <td>Comedy</td>\n",
              "    </tr>\n",
              "    <tr>\n",
              "      <th>...</th>\n",
              "      <td>...</td>\n",
              "      <td>...</td>\n",
              "      <td>...</td>\n",
              "    </tr>\n",
              "    <tr>\n",
              "      <th>3878</th>\n",
              "      <td>3948</td>\n",
              "      <td>Meet the Parents (2000)</td>\n",
              "      <td>Comedy</td>\n",
              "    </tr>\n",
              "    <tr>\n",
              "      <th>3879</th>\n",
              "      <td>3949</td>\n",
              "      <td>Requiem for a Dream (2000)</td>\n",
              "      <td>Drama</td>\n",
              "    </tr>\n",
              "    <tr>\n",
              "      <th>3880</th>\n",
              "      <td>3950</td>\n",
              "      <td>Tigerland (2000)</td>\n",
              "      <td>Drama</td>\n",
              "    </tr>\n",
              "    <tr>\n",
              "      <th>3881</th>\n",
              "      <td>3951</td>\n",
              "      <td>Two Family House (2000)</td>\n",
              "      <td>Drama</td>\n",
              "    </tr>\n",
              "    <tr>\n",
              "      <th>3882</th>\n",
              "      <td>3952</td>\n",
              "      <td>Contender, The (2000)</td>\n",
              "      <td>Drama|Thriller</td>\n",
              "    </tr>\n",
              "  </tbody>\n",
              "</table>\n",
              "<p>3883 rows × 3 columns</p>\n",
              "</div>"
            ],
            "text/plain": [
              "      movie_id  ...                         genre\n",
              "0            1  ...   Animation|Children's|Comedy\n",
              "1            2  ...  Adventure|Children's|Fantasy\n",
              "2            3  ...                Comedy|Romance\n",
              "3            4  ...                  Comedy|Drama\n",
              "4            5  ...                        Comedy\n",
              "...        ...  ...                           ...\n",
              "3878      3948  ...                        Comedy\n",
              "3879      3949  ...                         Drama\n",
              "3880      3950  ...                         Drama\n",
              "3881      3951  ...                         Drama\n",
              "3882      3952  ...                Drama|Thriller\n",
              "\n",
              "[3883 rows x 3 columns]"
            ]
          },
          "metadata": {
            "tags": []
          },
          "execution_count": 9
        }
      ]
    },
    {
      "cell_type": "code",
      "metadata": {
        "id": "JCkK7drsZ8K_",
        "colab_type": "code",
        "outputId": "69618421-1d64-4141-c9aa-6bcf88cd11ad",
        "colab": {
          "base_uri": "https://localhost:8080/",
          "height": 221
        }
      },
      "source": [
        "users.info()  # pandas.DataFrame.info() 함수 - 데이터프레임 정보"
      ],
      "execution_count": 0,
      "outputs": [
        {
          "output_type": "stream",
          "text": [
            "<class 'pandas.core.frame.DataFrame'>\n",
            "RangeIndex: 6040 entries, 0 to 6039\n",
            "Data columns (total 5 columns):\n",
            " #   Column      Non-Null Count  Dtype \n",
            "---  ------      --------------  ----- \n",
            " 0   user_id     6040 non-null   int64 \n",
            " 1   gender      6040 non-null   object\n",
            " 2   age         6040 non-null   int64 \n",
            " 3   occupation  6040 non-null   int64 \n",
            " 4   zip         6040 non-null   object\n",
            "dtypes: int64(3), object(2)\n",
            "memory usage: 236.1+ KB\n"
          ],
          "name": "stdout"
        }
      ]
    },
    {
      "cell_type": "code",
      "metadata": {
        "id": "iKyNXuNhahEd",
        "colab_type": "code",
        "outputId": "7d1c52dd-ef92-447d-ca9a-02023219d37e",
        "colab": {
          "base_uri": "https://localhost:8080/",
          "height": 204
        }
      },
      "source": [
        "ratings.info()"
      ],
      "execution_count": 0,
      "outputs": [
        {
          "output_type": "stream",
          "text": [
            "<class 'pandas.core.frame.DataFrame'>\n",
            "RangeIndex: 1000209 entries, 0 to 1000208\n",
            "Data columns (total 4 columns):\n",
            " #   Column     Non-Null Count    Dtype\n",
            "---  ------     --------------    -----\n",
            " 0   user_id    1000209 non-null  int64\n",
            " 1   movie_id   1000209 non-null  int64\n",
            " 2   rating     1000209 non-null  int64\n",
            " 3   timestamp  1000209 non-null  int64\n",
            "dtypes: int64(4)\n",
            "memory usage: 30.5 MB\n"
          ],
          "name": "stdout"
        }
      ]
    },
    {
      "cell_type": "code",
      "metadata": {
        "id": "hPZzrf2abRJ-",
        "colab_type": "code",
        "outputId": "9599650b-493c-4df3-97cf-cb63ff6165c3",
        "colab": {
          "base_uri": "https://localhost:8080/",
          "height": 187
        }
      },
      "source": [
        "movies.info()"
      ],
      "execution_count": 0,
      "outputs": [
        {
          "output_type": "stream",
          "text": [
            "<class 'pandas.core.frame.DataFrame'>\n",
            "RangeIndex: 3883 entries, 0 to 3882\n",
            "Data columns (total 3 columns):\n",
            " #   Column    Non-Null Count  Dtype \n",
            "---  ------    --------------  ----- \n",
            " 0   movie_id  3883 non-null   int64 \n",
            " 1   title     3883 non-null   object\n",
            " 2   genre     3883 non-null   object\n",
            "dtypes: int64(1), object(2)\n",
            "memory usage: 91.1+ KB\n"
          ],
          "name": "stdout"
        }
      ]
    },
    {
      "cell_type": "code",
      "metadata": {
        "id": "OJwZZ6Ojcrr8",
        "colab_type": "code",
        "outputId": "33e96d48-53b8-4e83-cef8-947ad37fc371",
        "colab": {
          "base_uri": "https://localhost:8080/",
          "height": 423
        }
      },
      "source": [
        "pd.merge(ratings, users)"
      ],
      "execution_count": 0,
      "outputs": [
        {
          "output_type": "execute_result",
          "data": {
            "text/html": [
              "<div>\n",
              "<style scoped>\n",
              "    .dataframe tbody tr th:only-of-type {\n",
              "        vertical-align: middle;\n",
              "    }\n",
              "\n",
              "    .dataframe tbody tr th {\n",
              "        vertical-align: top;\n",
              "    }\n",
              "\n",
              "    .dataframe thead th {\n",
              "        text-align: right;\n",
              "    }\n",
              "</style>\n",
              "<table border=\"1\" class=\"dataframe\">\n",
              "  <thead>\n",
              "    <tr style=\"text-align: right;\">\n",
              "      <th></th>\n",
              "      <th>user_id</th>\n",
              "      <th>movie_id</th>\n",
              "      <th>rating</th>\n",
              "      <th>timestamp</th>\n",
              "      <th>gender</th>\n",
              "      <th>age</th>\n",
              "      <th>occupation</th>\n",
              "      <th>zip</th>\n",
              "    </tr>\n",
              "  </thead>\n",
              "  <tbody>\n",
              "    <tr>\n",
              "      <th>0</th>\n",
              "      <td>1</td>\n",
              "      <td>1193</td>\n",
              "      <td>5</td>\n",
              "      <td>978300760</td>\n",
              "      <td>F</td>\n",
              "      <td>1</td>\n",
              "      <td>10</td>\n",
              "      <td>48067</td>\n",
              "    </tr>\n",
              "    <tr>\n",
              "      <th>1</th>\n",
              "      <td>1</td>\n",
              "      <td>661</td>\n",
              "      <td>3</td>\n",
              "      <td>978302109</td>\n",
              "      <td>F</td>\n",
              "      <td>1</td>\n",
              "      <td>10</td>\n",
              "      <td>48067</td>\n",
              "    </tr>\n",
              "    <tr>\n",
              "      <th>2</th>\n",
              "      <td>1</td>\n",
              "      <td>914</td>\n",
              "      <td>3</td>\n",
              "      <td>978301968</td>\n",
              "      <td>F</td>\n",
              "      <td>1</td>\n",
              "      <td>10</td>\n",
              "      <td>48067</td>\n",
              "    </tr>\n",
              "    <tr>\n",
              "      <th>3</th>\n",
              "      <td>1</td>\n",
              "      <td>3408</td>\n",
              "      <td>4</td>\n",
              "      <td>978300275</td>\n",
              "      <td>F</td>\n",
              "      <td>1</td>\n",
              "      <td>10</td>\n",
              "      <td>48067</td>\n",
              "    </tr>\n",
              "    <tr>\n",
              "      <th>4</th>\n",
              "      <td>1</td>\n",
              "      <td>2355</td>\n",
              "      <td>5</td>\n",
              "      <td>978824291</td>\n",
              "      <td>F</td>\n",
              "      <td>1</td>\n",
              "      <td>10</td>\n",
              "      <td>48067</td>\n",
              "    </tr>\n",
              "    <tr>\n",
              "      <th>...</th>\n",
              "      <td>...</td>\n",
              "      <td>...</td>\n",
              "      <td>...</td>\n",
              "      <td>...</td>\n",
              "      <td>...</td>\n",
              "      <td>...</td>\n",
              "      <td>...</td>\n",
              "      <td>...</td>\n",
              "    </tr>\n",
              "    <tr>\n",
              "      <th>1000204</th>\n",
              "      <td>6040</td>\n",
              "      <td>1091</td>\n",
              "      <td>1</td>\n",
              "      <td>956716541</td>\n",
              "      <td>M</td>\n",
              "      <td>25</td>\n",
              "      <td>6</td>\n",
              "      <td>11106</td>\n",
              "    </tr>\n",
              "    <tr>\n",
              "      <th>1000205</th>\n",
              "      <td>6040</td>\n",
              "      <td>1094</td>\n",
              "      <td>5</td>\n",
              "      <td>956704887</td>\n",
              "      <td>M</td>\n",
              "      <td>25</td>\n",
              "      <td>6</td>\n",
              "      <td>11106</td>\n",
              "    </tr>\n",
              "    <tr>\n",
              "      <th>1000206</th>\n",
              "      <td>6040</td>\n",
              "      <td>562</td>\n",
              "      <td>5</td>\n",
              "      <td>956704746</td>\n",
              "      <td>M</td>\n",
              "      <td>25</td>\n",
              "      <td>6</td>\n",
              "      <td>11106</td>\n",
              "    </tr>\n",
              "    <tr>\n",
              "      <th>1000207</th>\n",
              "      <td>6040</td>\n",
              "      <td>1096</td>\n",
              "      <td>4</td>\n",
              "      <td>956715648</td>\n",
              "      <td>M</td>\n",
              "      <td>25</td>\n",
              "      <td>6</td>\n",
              "      <td>11106</td>\n",
              "    </tr>\n",
              "    <tr>\n",
              "      <th>1000208</th>\n",
              "      <td>6040</td>\n",
              "      <td>1097</td>\n",
              "      <td>4</td>\n",
              "      <td>956715569</td>\n",
              "      <td>M</td>\n",
              "      <td>25</td>\n",
              "      <td>6</td>\n",
              "      <td>11106</td>\n",
              "    </tr>\n",
              "  </tbody>\n",
              "</table>\n",
              "<p>1000209 rows × 8 columns</p>\n",
              "</div>"
            ],
            "text/plain": [
              "         user_id  movie_id  rating  timestamp gender  age  occupation    zip\n",
              "0              1      1193       5  978300760      F    1          10  48067\n",
              "1              1       661       3  978302109      F    1          10  48067\n",
              "2              1       914       3  978301968      F    1          10  48067\n",
              "3              1      3408       4  978300275      F    1          10  48067\n",
              "4              1      2355       5  978824291      F    1          10  48067\n",
              "...          ...       ...     ...        ...    ...  ...         ...    ...\n",
              "1000204     6040      1091       1  956716541      M   25           6  11106\n",
              "1000205     6040      1094       5  956704887      M   25           6  11106\n",
              "1000206     6040       562       5  956704746      M   25           6  11106\n",
              "1000207     6040      1096       4  956715648      M   25           6  11106\n",
              "1000208     6040      1097       4  956715569      M   25           6  11106\n",
              "\n",
              "[1000209 rows x 8 columns]"
            ]
          },
          "metadata": {
            "tags": []
          },
          "execution_count": 13
        }
      ]
    },
    {
      "cell_type": "code",
      "metadata": {
        "id": "X7xxddNcc-E2",
        "colab_type": "code",
        "outputId": "3775f791-a0f2-4cc7-edf8-ca945bca257d",
        "colab": {
          "base_uri": "https://localhost:8080/",
          "height": 876
        }
      },
      "source": [
        "# ratings, users, movies를 조인(join)해서 하나의 데이터프레임을 생성\n",
        "df = pd.merge(pd.merge(ratings, users), movies)\n",
        "df"
      ],
      "execution_count": 0,
      "outputs": [
        {
          "output_type": "execute_result",
          "data": {
            "text/html": [
              "<div>\n",
              "<style scoped>\n",
              "    .dataframe tbody tr th:only-of-type {\n",
              "        vertical-align: middle;\n",
              "    }\n",
              "\n",
              "    .dataframe tbody tr th {\n",
              "        vertical-align: top;\n",
              "    }\n",
              "\n",
              "    .dataframe thead th {\n",
              "        text-align: right;\n",
              "    }\n",
              "</style>\n",
              "<table border=\"1\" class=\"dataframe\">\n",
              "  <thead>\n",
              "    <tr style=\"text-align: right;\">\n",
              "      <th></th>\n",
              "      <th>user_id</th>\n",
              "      <th>movie_id</th>\n",
              "      <th>rating</th>\n",
              "      <th>timestamp</th>\n",
              "      <th>gender</th>\n",
              "      <th>age</th>\n",
              "      <th>occupation</th>\n",
              "      <th>zip</th>\n",
              "      <th>title</th>\n",
              "      <th>genre</th>\n",
              "    </tr>\n",
              "  </thead>\n",
              "  <tbody>\n",
              "    <tr>\n",
              "      <th>0</th>\n",
              "      <td>1</td>\n",
              "      <td>1193</td>\n",
              "      <td>5</td>\n",
              "      <td>978300760</td>\n",
              "      <td>F</td>\n",
              "      <td>1</td>\n",
              "      <td>10</td>\n",
              "      <td>48067</td>\n",
              "      <td>One Flew Over the Cuckoo's Nest (1975)</td>\n",
              "      <td>Drama</td>\n",
              "    </tr>\n",
              "    <tr>\n",
              "      <th>1</th>\n",
              "      <td>2</td>\n",
              "      <td>1193</td>\n",
              "      <td>5</td>\n",
              "      <td>978298413</td>\n",
              "      <td>M</td>\n",
              "      <td>56</td>\n",
              "      <td>16</td>\n",
              "      <td>70072</td>\n",
              "      <td>One Flew Over the Cuckoo's Nest (1975)</td>\n",
              "      <td>Drama</td>\n",
              "    </tr>\n",
              "    <tr>\n",
              "      <th>2</th>\n",
              "      <td>12</td>\n",
              "      <td>1193</td>\n",
              "      <td>4</td>\n",
              "      <td>978220179</td>\n",
              "      <td>M</td>\n",
              "      <td>25</td>\n",
              "      <td>12</td>\n",
              "      <td>32793</td>\n",
              "      <td>One Flew Over the Cuckoo's Nest (1975)</td>\n",
              "      <td>Drama</td>\n",
              "    </tr>\n",
              "    <tr>\n",
              "      <th>3</th>\n",
              "      <td>15</td>\n",
              "      <td>1193</td>\n",
              "      <td>4</td>\n",
              "      <td>978199279</td>\n",
              "      <td>M</td>\n",
              "      <td>25</td>\n",
              "      <td>7</td>\n",
              "      <td>22903</td>\n",
              "      <td>One Flew Over the Cuckoo's Nest (1975)</td>\n",
              "      <td>Drama</td>\n",
              "    </tr>\n",
              "    <tr>\n",
              "      <th>4</th>\n",
              "      <td>17</td>\n",
              "      <td>1193</td>\n",
              "      <td>5</td>\n",
              "      <td>978158471</td>\n",
              "      <td>M</td>\n",
              "      <td>50</td>\n",
              "      <td>1</td>\n",
              "      <td>95350</td>\n",
              "      <td>One Flew Over the Cuckoo's Nest (1975)</td>\n",
              "      <td>Drama</td>\n",
              "    </tr>\n",
              "    <tr>\n",
              "      <th>...</th>\n",
              "      <td>...</td>\n",
              "      <td>...</td>\n",
              "      <td>...</td>\n",
              "      <td>...</td>\n",
              "      <td>...</td>\n",
              "      <td>...</td>\n",
              "      <td>...</td>\n",
              "      <td>...</td>\n",
              "      <td>...</td>\n",
              "      <td>...</td>\n",
              "    </tr>\n",
              "    <tr>\n",
              "      <th>1000204</th>\n",
              "      <td>5949</td>\n",
              "      <td>2198</td>\n",
              "      <td>5</td>\n",
              "      <td>958846401</td>\n",
              "      <td>M</td>\n",
              "      <td>18</td>\n",
              "      <td>17</td>\n",
              "      <td>47901</td>\n",
              "      <td>Modulations (1998)</td>\n",
              "      <td>Documentary</td>\n",
              "    </tr>\n",
              "    <tr>\n",
              "      <th>1000205</th>\n",
              "      <td>5675</td>\n",
              "      <td>2703</td>\n",
              "      <td>3</td>\n",
              "      <td>976029116</td>\n",
              "      <td>M</td>\n",
              "      <td>35</td>\n",
              "      <td>14</td>\n",
              "      <td>30030</td>\n",
              "      <td>Broken Vessels (1998)</td>\n",
              "      <td>Drama</td>\n",
              "    </tr>\n",
              "    <tr>\n",
              "      <th>1000206</th>\n",
              "      <td>5780</td>\n",
              "      <td>2845</td>\n",
              "      <td>1</td>\n",
              "      <td>958153068</td>\n",
              "      <td>M</td>\n",
              "      <td>18</td>\n",
              "      <td>17</td>\n",
              "      <td>92886</td>\n",
              "      <td>White Boys (1999)</td>\n",
              "      <td>Drama</td>\n",
              "    </tr>\n",
              "    <tr>\n",
              "      <th>1000207</th>\n",
              "      <td>5851</td>\n",
              "      <td>3607</td>\n",
              "      <td>5</td>\n",
              "      <td>957756608</td>\n",
              "      <td>F</td>\n",
              "      <td>18</td>\n",
              "      <td>20</td>\n",
              "      <td>55410</td>\n",
              "      <td>One Little Indian (1973)</td>\n",
              "      <td>Comedy|Drama|Western</td>\n",
              "    </tr>\n",
              "    <tr>\n",
              "      <th>1000208</th>\n",
              "      <td>5938</td>\n",
              "      <td>2909</td>\n",
              "      <td>4</td>\n",
              "      <td>957273353</td>\n",
              "      <td>M</td>\n",
              "      <td>25</td>\n",
              "      <td>1</td>\n",
              "      <td>35401</td>\n",
              "      <td>Five Wives, Three Secretaries and Me (1998)</td>\n",
              "      <td>Documentary</td>\n",
              "    </tr>\n",
              "  </tbody>\n",
              "</table>\n",
              "<p>1000209 rows × 10 columns</p>\n",
              "</div>"
            ],
            "text/plain": [
              "         user_id  ...                 genre\n",
              "0              1  ...                 Drama\n",
              "1              2  ...                 Drama\n",
              "2             12  ...                 Drama\n",
              "3             15  ...                 Drama\n",
              "4             17  ...                 Drama\n",
              "...          ...  ...                   ...\n",
              "1000204     5949  ...           Documentary\n",
              "1000205     5675  ...                 Drama\n",
              "1000206     5780  ...                 Drama\n",
              "1000207     5851  ...  Comedy|Drama|Western\n",
              "1000208     5938  ...           Documentary\n",
              "\n",
              "[1000209 rows x 10 columns]"
            ]
          },
          "metadata": {
            "tags": []
          },
          "execution_count": 17
        }
      ]
    },
    {
      "cell_type": "code",
      "metadata": {
        "id": "qnVLFINDdbyb",
        "colab_type": "code",
        "outputId": "03b1ef70-4f2f-4a53-b6b5-8deeea7d4e24",
        "colab": {
          "base_uri": "https://localhost:8080/",
          "height": 311
        }
      },
      "source": [
        "df.info()"
      ],
      "execution_count": 0,
      "outputs": [
        {
          "output_type": "stream",
          "text": [
            "<class 'pandas.core.frame.DataFrame'>\n",
            "Int64Index: 1000209 entries, 0 to 1000208\n",
            "Data columns (total 10 columns):\n",
            " #   Column      Non-Null Count    Dtype \n",
            "---  ------      --------------    ----- \n",
            " 0   user_id     1000209 non-null  int64 \n",
            " 1   movie_id    1000209 non-null  int64 \n",
            " 2   rating      1000209 non-null  int64 \n",
            " 3   timestamp   1000209 non-null  int64 \n",
            " 4   gender      1000209 non-null  object\n",
            " 5   age         1000209 non-null  int64 \n",
            " 6   occupation  1000209 non-null  int64 \n",
            " 7   zip         1000209 non-null  object\n",
            " 8   title       1000209 non-null  object\n",
            " 9   genre       1000209 non-null  object\n",
            "dtypes: int64(6), object(4)\n",
            "memory usage: 83.9+ MB\n"
          ],
          "name": "stdout"
        }
      ]
    },
    {
      "cell_type": "code",
      "metadata": {
        "id": "zfcORVHwwEDl",
        "colab_type": "code",
        "outputId": "86ec6ba8-f78d-45c9-da25-4657e029582c",
        "colab": {
          "base_uri": "https://localhost:8080/",
          "height": 207
        }
      },
      "source": [
        "df.iloc[100]"
      ],
      "execution_count": 0,
      "outputs": [
        {
          "output_type": "execute_result",
          "data": {
            "text/plain": [
              "user_id                                          335\n",
              "movie_id                                        1193\n",
              "rating                                             3\n",
              "timestamp                                  976363703\n",
              "gender                                             M\n",
              "age                                               35\n",
              "occupation                                        18\n",
              "zip                                            55434\n",
              "title         One Flew Over the Cuckoo's Nest (1975)\n",
              "genre                                          Drama\n",
              "Name: 100, dtype: object"
            ]
          },
          "metadata": {
            "tags": []
          },
          "execution_count": 21
        }
      ]
    },
    {
      "cell_type": "markdown",
      "metadata": {
        "id": "46i3bPG6v2y_",
        "colab_type": "text"
      },
      "source": [
        "# 성별에 따른 각 영화의 평균 평점"
      ]
    },
    {
      "cell_type": "code",
      "metadata": {
        "id": "q_IFH43nvePh",
        "colab_type": "code",
        "colab": {}
      },
      "source": [
        "mean_ratings_by_gender = df.pivot_table(values='rating',\n",
        "                                        index='title',\n",
        "                                        columns='gender',\n",
        "                                        aggfunc='mean')"
      ],
      "execution_count": 0,
      "outputs": []
    },
    {
      "cell_type": "code",
      "metadata": {
        "id": "Uv4NGeH6xSr3",
        "colab_type": "code",
        "outputId": "70991312-315c-44ec-b4a3-6f9a2617cdb8",
        "colab": {
          "base_uri": "https://localhost:8080/",
          "height": 454
        }
      },
      "source": [
        "mean_ratings_by_gender\n",
        "# 데이터프레임\n",
        "#   인덱스(row 이름): title\n",
        "#   컬럼: gender 컬럼의 값들이 컬럼으로 펼쳐짐\n",
        "#   각 셀의 값: mean(ratings)"
      ],
      "execution_count": 0,
      "outputs": [
        {
          "output_type": "execute_result",
          "data": {
            "text/html": [
              "<div>\n",
              "<style scoped>\n",
              "    .dataframe tbody tr th:only-of-type {\n",
              "        vertical-align: middle;\n",
              "    }\n",
              "\n",
              "    .dataframe tbody tr th {\n",
              "        vertical-align: top;\n",
              "    }\n",
              "\n",
              "    .dataframe thead th {\n",
              "        text-align: right;\n",
              "    }\n",
              "</style>\n",
              "<table border=\"1\" class=\"dataframe\">\n",
              "  <thead>\n",
              "    <tr style=\"text-align: right;\">\n",
              "      <th>gender</th>\n",
              "      <th>F</th>\n",
              "      <th>M</th>\n",
              "    </tr>\n",
              "    <tr>\n",
              "      <th>title</th>\n",
              "      <th></th>\n",
              "      <th></th>\n",
              "    </tr>\n",
              "  </thead>\n",
              "  <tbody>\n",
              "    <tr>\n",
              "      <th>$1,000,000 Duck (1971)</th>\n",
              "      <td>3.375000</td>\n",
              "      <td>2.761905</td>\n",
              "    </tr>\n",
              "    <tr>\n",
              "      <th>'Night Mother (1986)</th>\n",
              "      <td>3.388889</td>\n",
              "      <td>3.352941</td>\n",
              "    </tr>\n",
              "    <tr>\n",
              "      <th>'Til There Was You (1997)</th>\n",
              "      <td>2.675676</td>\n",
              "      <td>2.733333</td>\n",
              "    </tr>\n",
              "    <tr>\n",
              "      <th>'burbs, The (1989)</th>\n",
              "      <td>2.793478</td>\n",
              "      <td>2.962085</td>\n",
              "    </tr>\n",
              "    <tr>\n",
              "      <th>...And Justice for All (1979)</th>\n",
              "      <td>3.828571</td>\n",
              "      <td>3.689024</td>\n",
              "    </tr>\n",
              "    <tr>\n",
              "      <th>...</th>\n",
              "      <td>...</td>\n",
              "      <td>...</td>\n",
              "    </tr>\n",
              "    <tr>\n",
              "      <th>Zed &amp; Two Noughts, A (1985)</th>\n",
              "      <td>3.500000</td>\n",
              "      <td>3.380952</td>\n",
              "    </tr>\n",
              "    <tr>\n",
              "      <th>Zero Effect (1998)</th>\n",
              "      <td>3.864407</td>\n",
              "      <td>3.723140</td>\n",
              "    </tr>\n",
              "    <tr>\n",
              "      <th>Zero Kelvin (Kj�rlighetens kj�tere) (1995)</th>\n",
              "      <td>NaN</td>\n",
              "      <td>3.500000</td>\n",
              "    </tr>\n",
              "    <tr>\n",
              "      <th>Zeus and Roxanne (1997)</th>\n",
              "      <td>2.777778</td>\n",
              "      <td>2.357143</td>\n",
              "    </tr>\n",
              "    <tr>\n",
              "      <th>eXistenZ (1999)</th>\n",
              "      <td>3.098592</td>\n",
              "      <td>3.289086</td>\n",
              "    </tr>\n",
              "  </tbody>\n",
              "</table>\n",
              "<p>3706 rows × 2 columns</p>\n",
              "</div>"
            ],
            "text/plain": [
              "gender                                             F         M\n",
              "title                                                         \n",
              "$1,000,000 Duck (1971)                      3.375000  2.761905\n",
              "'Night Mother (1986)                        3.388889  3.352941\n",
              "'Til There Was You (1997)                   2.675676  2.733333\n",
              "'burbs, The (1989)                          2.793478  2.962085\n",
              "...And Justice for All (1979)               3.828571  3.689024\n",
              "...                                              ...       ...\n",
              "Zed & Two Noughts, A (1985)                 3.500000  3.380952\n",
              "Zero Effect (1998)                          3.864407  3.723140\n",
              "Zero Kelvin (Kj�rlighetens kj�tere) (1995)       NaN  3.500000\n",
              "Zeus and Roxanne (1997)                     2.777778  2.357143\n",
              "eXistenZ (1999)                             3.098592  3.289086\n",
              "\n",
              "[3706 rows x 2 columns]"
            ]
          },
          "metadata": {
            "tags": []
          },
          "execution_count": 23
        }
      ]
    },
    {
      "cell_type": "code",
      "metadata": {
        "id": "ZrIof1TKytJo",
        "colab_type": "code",
        "outputId": "8afca5bc-ef7f-4b31-b335-96c3af8924af",
        "colab": {
          "base_uri": "https://localhost:8080/",
          "height": 242
        }
      },
      "source": [
        "# 250건 이상의 평점을 받은 영화들만 추려보자...\n",
        "# title(영화제목)으로 그룹지어서 개수를 셈 - groupby, size\n",
        "ratings_by_title = df.groupby(by='title').size()\n",
        "ratings_by_title"
      ],
      "execution_count": 0,
      "outputs": [
        {
          "output_type": "execute_result",
          "data": {
            "text/plain": [
              "title\n",
              "$1,000,000 Duck (1971)                         37\n",
              "'Night Mother (1986)                           70\n",
              "'Til There Was You (1997)                      52\n",
              "'burbs, The (1989)                            303\n",
              "...And Justice for All (1979)                 199\n",
              "                                             ... \n",
              "Zed & Two Noughts, A (1985)                    29\n",
              "Zero Effect (1998)                            301\n",
              "Zero Kelvin (Kj�rlighetens kj�tere) (1995)      2\n",
              "Zeus and Roxanne (1997)                        23\n",
              "eXistenZ (1999)                               410\n",
              "Length: 3706, dtype: int64"
            ]
          },
          "metadata": {
            "tags": []
          },
          "execution_count": 24
        }
      ]
    },
    {
      "cell_type": "code",
      "metadata": {
        "id": "J57wjgpozdHb",
        "colab_type": "code",
        "outputId": "06234789-3bea-4da9-bbbf-87eda082e2a2",
        "colab": {
          "base_uri": "https://localhost:8080/",
          "height": 34
        }
      },
      "source": [
        "type(ratings_by_title)\n",
        "# 1차원 Series 타입! - 시리즈는 index와 values를 갖음"
      ],
      "execution_count": 0,
      "outputs": [
        {
          "output_type": "execute_result",
          "data": {
            "text/plain": [
              "pandas.core.series.Series"
            ]
          },
          "metadata": {
            "tags": []
          },
          "execution_count": 25
        }
      ]
    },
    {
      "cell_type": "code",
      "metadata": {
        "id": "YNgkkJvl0jtg",
        "colab_type": "code",
        "outputId": "cc743dd7-384a-47af-fd49-c912aa86d9db",
        "colab": {
          "base_uri": "https://localhost:8080/",
          "height": 225
        }
      },
      "source": [
        "ratings_by_title.index"
      ],
      "execution_count": 0,
      "outputs": [
        {
          "output_type": "execute_result",
          "data": {
            "text/plain": [
              "Index(['$1,000,000 Duck (1971)', ''Night Mother (1986)',\n",
              "       ''Til There Was You (1997)', ''burbs, The (1989)',\n",
              "       '...And Justice for All (1979)', '1-900 (1994)',\n",
              "       '10 Things I Hate About You (1999)', '101 Dalmatians (1961)',\n",
              "       '101 Dalmatians (1996)', '12 Angry Men (1957)',\n",
              "       ...\n",
              "       'Young Poisoner's Handbook, The (1995)', 'Young Sherlock Holmes (1985)',\n",
              "       'Young and Innocent (1937)', 'Your Friends and Neighbors (1998)',\n",
              "       'Zachariah (1971)', 'Zed & Two Noughts, A (1985)', 'Zero Effect (1998)',\n",
              "       'Zero Kelvin (Kj�rlighetens kj�tere) (1995)', 'Zeus and Roxanne (1997)',\n",
              "       'eXistenZ (1999)'],\n",
              "      dtype='object', name='title', length=3706)"
            ]
          },
          "metadata": {
            "tags": []
          },
          "execution_count": 26
        }
      ]
    },
    {
      "cell_type": "code",
      "metadata": {
        "id": "yS5OOI-h03bY",
        "colab_type": "code",
        "outputId": "5801216d-04c2-4f9e-84db-9bbfa4ae4c2d",
        "colab": {
          "base_uri": "https://localhost:8080/",
          "height": 34
        }
      },
      "source": [
        "ratings_by_title.values"
      ],
      "execution_count": 0,
      "outputs": [
        {
          "output_type": "execute_result",
          "data": {
            "text/plain": [
              "array([ 37,  70,  52, ...,   2,  23, 410])"
            ]
          },
          "metadata": {
            "tags": []
          },
          "execution_count": 27
        }
      ]
    },
    {
      "cell_type": "code",
      "metadata": {
        "id": "re8tfaVf05SV",
        "colab_type": "code",
        "outputId": "ddf3135d-87eb-4bd2-c8df-05794bbcd29a",
        "colab": {
          "base_uri": "https://localhost:8080/",
          "height": 225
        }
      },
      "source": [
        "# 평점을 250건 이상 받은 영화 제목들\n",
        "active_titles = ratings_by_title.index[ratings_by_title >= 250]\n",
        "active_titles"
      ],
      "execution_count": 0,
      "outputs": [
        {
          "output_type": "execute_result",
          "data": {
            "text/plain": [
              "Index([''burbs, The (1989)', '10 Things I Hate About You (1999)',\n",
              "       '101 Dalmatians (1961)', '101 Dalmatians (1996)', '12 Angry Men (1957)',\n",
              "       '13th Warrior, The (1999)', '2 Days in the Valley (1996)',\n",
              "       '20,000 Leagues Under the Sea (1954)', '2001: A Space Odyssey (1968)',\n",
              "       '2010 (1984)',\n",
              "       ...\n",
              "       'X-Men (2000)', 'Year of Living Dangerously (1982)',\n",
              "       'Yellow Submarine (1968)', 'You've Got Mail (1998)',\n",
              "       'Young Frankenstein (1974)', 'Young Guns (1988)',\n",
              "       'Young Guns II (1990)', 'Young Sherlock Holmes (1985)',\n",
              "       'Zero Effect (1998)', 'eXistenZ (1999)'],\n",
              "      dtype='object', name='title', length=1216)"
            ]
          },
          "metadata": {
            "tags": []
          },
          "execution_count": 28
        }
      ]
    },
    {
      "cell_type": "code",
      "metadata": {
        "id": "cRv_vayn1cH1",
        "colab_type": "code",
        "outputId": "e88f5c50-3348-4a03-f075-c4cea4f7478a",
        "colab": {
          "base_uri": "https://localhost:8080/",
          "height": 454
        }
      },
      "source": [
        "mean_ratings_by_gender = mean_ratings_by_gender.loc[active_titles]\n",
        "mean_ratings_by_gender"
      ],
      "execution_count": 0,
      "outputs": [
        {
          "output_type": "execute_result",
          "data": {
            "text/html": [
              "<div>\n",
              "<style scoped>\n",
              "    .dataframe tbody tr th:only-of-type {\n",
              "        vertical-align: middle;\n",
              "    }\n",
              "\n",
              "    .dataframe tbody tr th {\n",
              "        vertical-align: top;\n",
              "    }\n",
              "\n",
              "    .dataframe thead th {\n",
              "        text-align: right;\n",
              "    }\n",
              "</style>\n",
              "<table border=\"1\" class=\"dataframe\">\n",
              "  <thead>\n",
              "    <tr style=\"text-align: right;\">\n",
              "      <th>gender</th>\n",
              "      <th>F</th>\n",
              "      <th>M</th>\n",
              "    </tr>\n",
              "    <tr>\n",
              "      <th>title</th>\n",
              "      <th></th>\n",
              "      <th></th>\n",
              "    </tr>\n",
              "  </thead>\n",
              "  <tbody>\n",
              "    <tr>\n",
              "      <th>'burbs, The (1989)</th>\n",
              "      <td>2.793478</td>\n",
              "      <td>2.962085</td>\n",
              "    </tr>\n",
              "    <tr>\n",
              "      <th>10 Things I Hate About You (1999)</th>\n",
              "      <td>3.646552</td>\n",
              "      <td>3.311966</td>\n",
              "    </tr>\n",
              "    <tr>\n",
              "      <th>101 Dalmatians (1961)</th>\n",
              "      <td>3.791444</td>\n",
              "      <td>3.500000</td>\n",
              "    </tr>\n",
              "    <tr>\n",
              "      <th>101 Dalmatians (1996)</th>\n",
              "      <td>3.240000</td>\n",
              "      <td>2.911215</td>\n",
              "    </tr>\n",
              "    <tr>\n",
              "      <th>12 Angry Men (1957)</th>\n",
              "      <td>4.184397</td>\n",
              "      <td>4.328421</td>\n",
              "    </tr>\n",
              "    <tr>\n",
              "      <th>...</th>\n",
              "      <td>...</td>\n",
              "      <td>...</td>\n",
              "    </tr>\n",
              "    <tr>\n",
              "      <th>Young Guns (1988)</th>\n",
              "      <td>3.371795</td>\n",
              "      <td>3.425620</td>\n",
              "    </tr>\n",
              "    <tr>\n",
              "      <th>Young Guns II (1990)</th>\n",
              "      <td>2.934783</td>\n",
              "      <td>2.904025</td>\n",
              "    </tr>\n",
              "    <tr>\n",
              "      <th>Young Sherlock Holmes (1985)</th>\n",
              "      <td>3.514706</td>\n",
              "      <td>3.363344</td>\n",
              "    </tr>\n",
              "    <tr>\n",
              "      <th>Zero Effect (1998)</th>\n",
              "      <td>3.864407</td>\n",
              "      <td>3.723140</td>\n",
              "    </tr>\n",
              "    <tr>\n",
              "      <th>eXistenZ (1999)</th>\n",
              "      <td>3.098592</td>\n",
              "      <td>3.289086</td>\n",
              "    </tr>\n",
              "  </tbody>\n",
              "</table>\n",
              "<p>1216 rows × 2 columns</p>\n",
              "</div>"
            ],
            "text/plain": [
              "gender                                    F         M\n",
              "title                                                \n",
              "'burbs, The (1989)                 2.793478  2.962085\n",
              "10 Things I Hate About You (1999)  3.646552  3.311966\n",
              "101 Dalmatians (1961)              3.791444  3.500000\n",
              "101 Dalmatians (1996)              3.240000  2.911215\n",
              "12 Angry Men (1957)                4.184397  4.328421\n",
              "...                                     ...       ...\n",
              "Young Guns (1988)                  3.371795  3.425620\n",
              "Young Guns II (1990)               2.934783  2.904025\n",
              "Young Sherlock Holmes (1985)       3.514706  3.363344\n",
              "Zero Effect (1998)                 3.864407  3.723140\n",
              "eXistenZ (1999)                    3.098592  3.289086\n",
              "\n",
              "[1216 rows x 2 columns]"
            ]
          },
          "metadata": {
            "tags": []
          },
          "execution_count": 29
        }
      ]
    },
    {
      "cell_type": "code",
      "metadata": {
        "id": "AMJb6WF12tC3",
        "colab_type": "code",
        "outputId": "6d1a157b-579b-4af8-8b3b-f6feeab396fd",
        "colab": {
          "base_uri": "https://localhost:8080/",
          "height": 454
        }
      },
      "source": [
        "# 성별로 영화에 대한 호불호가 다른지 조사.\n",
        "# 성별 평균 평점의 차이를 컬럼으로 추가\n",
        "mean_ratings_by_gender['diff'] = mean_ratings_by_gender['F'] - mean_ratings_by_gender['M']\n",
        "mean_ratings_by_gender"
      ],
      "execution_count": 0,
      "outputs": [
        {
          "output_type": "execute_result",
          "data": {
            "text/html": [
              "<div>\n",
              "<style scoped>\n",
              "    .dataframe tbody tr th:only-of-type {\n",
              "        vertical-align: middle;\n",
              "    }\n",
              "\n",
              "    .dataframe tbody tr th {\n",
              "        vertical-align: top;\n",
              "    }\n",
              "\n",
              "    .dataframe thead th {\n",
              "        text-align: right;\n",
              "    }\n",
              "</style>\n",
              "<table border=\"1\" class=\"dataframe\">\n",
              "  <thead>\n",
              "    <tr style=\"text-align: right;\">\n",
              "      <th>gender</th>\n",
              "      <th>F</th>\n",
              "      <th>M</th>\n",
              "      <th>diff</th>\n",
              "    </tr>\n",
              "    <tr>\n",
              "      <th>title</th>\n",
              "      <th></th>\n",
              "      <th></th>\n",
              "      <th></th>\n",
              "    </tr>\n",
              "  </thead>\n",
              "  <tbody>\n",
              "    <tr>\n",
              "      <th>'burbs, The (1989)</th>\n",
              "      <td>2.793478</td>\n",
              "      <td>2.962085</td>\n",
              "      <td>-0.168607</td>\n",
              "    </tr>\n",
              "    <tr>\n",
              "      <th>10 Things I Hate About You (1999)</th>\n",
              "      <td>3.646552</td>\n",
              "      <td>3.311966</td>\n",
              "      <td>0.334586</td>\n",
              "    </tr>\n",
              "    <tr>\n",
              "      <th>101 Dalmatians (1961)</th>\n",
              "      <td>3.791444</td>\n",
              "      <td>3.500000</td>\n",
              "      <td>0.291444</td>\n",
              "    </tr>\n",
              "    <tr>\n",
              "      <th>101 Dalmatians (1996)</th>\n",
              "      <td>3.240000</td>\n",
              "      <td>2.911215</td>\n",
              "      <td>0.328785</td>\n",
              "    </tr>\n",
              "    <tr>\n",
              "      <th>12 Angry Men (1957)</th>\n",
              "      <td>4.184397</td>\n",
              "      <td>4.328421</td>\n",
              "      <td>-0.144024</td>\n",
              "    </tr>\n",
              "    <tr>\n",
              "      <th>...</th>\n",
              "      <td>...</td>\n",
              "      <td>...</td>\n",
              "      <td>...</td>\n",
              "    </tr>\n",
              "    <tr>\n",
              "      <th>Young Guns (1988)</th>\n",
              "      <td>3.371795</td>\n",
              "      <td>3.425620</td>\n",
              "      <td>-0.053825</td>\n",
              "    </tr>\n",
              "    <tr>\n",
              "      <th>Young Guns II (1990)</th>\n",
              "      <td>2.934783</td>\n",
              "      <td>2.904025</td>\n",
              "      <td>0.030758</td>\n",
              "    </tr>\n",
              "    <tr>\n",
              "      <th>Young Sherlock Holmes (1985)</th>\n",
              "      <td>3.514706</td>\n",
              "      <td>3.363344</td>\n",
              "      <td>0.151362</td>\n",
              "    </tr>\n",
              "    <tr>\n",
              "      <th>Zero Effect (1998)</th>\n",
              "      <td>3.864407</td>\n",
              "      <td>3.723140</td>\n",
              "      <td>0.141266</td>\n",
              "    </tr>\n",
              "    <tr>\n",
              "      <th>eXistenZ (1999)</th>\n",
              "      <td>3.098592</td>\n",
              "      <td>3.289086</td>\n",
              "      <td>-0.190494</td>\n",
              "    </tr>\n",
              "  </tbody>\n",
              "</table>\n",
              "<p>1216 rows × 3 columns</p>\n",
              "</div>"
            ],
            "text/plain": [
              "gender                                    F         M      diff\n",
              "title                                                          \n",
              "'burbs, The (1989)                 2.793478  2.962085 -0.168607\n",
              "10 Things I Hate About You (1999)  3.646552  3.311966  0.334586\n",
              "101 Dalmatians (1961)              3.791444  3.500000  0.291444\n",
              "101 Dalmatians (1996)              3.240000  2.911215  0.328785\n",
              "12 Angry Men (1957)                4.184397  4.328421 -0.144024\n",
              "...                                     ...       ...       ...\n",
              "Young Guns (1988)                  3.371795  3.425620 -0.053825\n",
              "Young Guns II (1990)               2.934783  2.904025  0.030758\n",
              "Young Sherlock Holmes (1985)       3.514706  3.363344  0.151362\n",
              "Zero Effect (1998)                 3.864407  3.723140  0.141266\n",
              "eXistenZ (1999)                    3.098592  3.289086 -0.190494\n",
              "\n",
              "[1216 rows x 3 columns]"
            ]
          },
          "metadata": {
            "tags": []
          },
          "execution_count": 30
        }
      ]
    },
    {
      "cell_type": "code",
      "metadata": {
        "id": "KNAcvcw7185r",
        "colab_type": "code",
        "outputId": "9aef6de1-d027-43cc-fccc-a79d902a3d4f",
        "colab": {
          "base_uri": "https://localhost:8080/",
          "height": 454
        }
      },
      "source": [
        "# 여성들이 평균적으로 높은 평점을 준 영화\n",
        "# sort_index(): 인덱스를 정렬\n",
        "# sort_values(): 값(values)를 정렬\n",
        "# 오름차순(ascending) 정렬이 기본값\n",
        "# 내림차순(descending) 정렬을 하려면, ascending=False 설정\n",
        "top_female_ratings = mean_ratings_by_gender.sort_values(by='F',\n",
        "                                                        ascending=False)\n",
        "\n",
        "top_female_ratings"
      ],
      "execution_count": 0,
      "outputs": [
        {
          "output_type": "execute_result",
          "data": {
            "text/html": [
              "<div>\n",
              "<style scoped>\n",
              "    .dataframe tbody tr th:only-of-type {\n",
              "        vertical-align: middle;\n",
              "    }\n",
              "\n",
              "    .dataframe tbody tr th {\n",
              "        vertical-align: top;\n",
              "    }\n",
              "\n",
              "    .dataframe thead th {\n",
              "        text-align: right;\n",
              "    }\n",
              "</style>\n",
              "<table border=\"1\" class=\"dataframe\">\n",
              "  <thead>\n",
              "    <tr style=\"text-align: right;\">\n",
              "      <th>gender</th>\n",
              "      <th>F</th>\n",
              "      <th>M</th>\n",
              "      <th>diff</th>\n",
              "    </tr>\n",
              "    <tr>\n",
              "      <th>title</th>\n",
              "      <th></th>\n",
              "      <th></th>\n",
              "      <th></th>\n",
              "    </tr>\n",
              "  </thead>\n",
              "  <tbody>\n",
              "    <tr>\n",
              "      <th>Close Shave, A (1995)</th>\n",
              "      <td>4.644444</td>\n",
              "      <td>4.473795</td>\n",
              "      <td>0.170650</td>\n",
              "    </tr>\n",
              "    <tr>\n",
              "      <th>Wrong Trousers, The (1993)</th>\n",
              "      <td>4.588235</td>\n",
              "      <td>4.478261</td>\n",
              "      <td>0.109974</td>\n",
              "    </tr>\n",
              "    <tr>\n",
              "      <th>Sunset Blvd. (a.k.a. Sunset Boulevard) (1950)</th>\n",
              "      <td>4.572650</td>\n",
              "      <td>4.464589</td>\n",
              "      <td>0.108060</td>\n",
              "    </tr>\n",
              "    <tr>\n",
              "      <th>Wallace &amp; Gromit: The Best of Aardman Animation (1996)</th>\n",
              "      <td>4.563107</td>\n",
              "      <td>4.385075</td>\n",
              "      <td>0.178032</td>\n",
              "    </tr>\n",
              "    <tr>\n",
              "      <th>Schindler's List (1993)</th>\n",
              "      <td>4.562602</td>\n",
              "      <td>4.491415</td>\n",
              "      <td>0.071187</td>\n",
              "    </tr>\n",
              "    <tr>\n",
              "      <th>...</th>\n",
              "      <td>...</td>\n",
              "      <td>...</td>\n",
              "      <td>...</td>\n",
              "    </tr>\n",
              "    <tr>\n",
              "      <th>Avengers, The (1998)</th>\n",
              "      <td>1.915254</td>\n",
              "      <td>2.017467</td>\n",
              "      <td>-0.102213</td>\n",
              "    </tr>\n",
              "    <tr>\n",
              "      <th>Speed 2: Cruise Control (1997)</th>\n",
              "      <td>1.906667</td>\n",
              "      <td>1.863014</td>\n",
              "      <td>0.043653</td>\n",
              "    </tr>\n",
              "    <tr>\n",
              "      <th>Rocky V (1990)</th>\n",
              "      <td>1.878788</td>\n",
              "      <td>2.132780</td>\n",
              "      <td>-0.253992</td>\n",
              "    </tr>\n",
              "    <tr>\n",
              "      <th>Barb Wire (1996)</th>\n",
              "      <td>1.585366</td>\n",
              "      <td>2.100386</td>\n",
              "      <td>-0.515020</td>\n",
              "    </tr>\n",
              "    <tr>\n",
              "      <th>Battlefield Earth (2000)</th>\n",
              "      <td>1.574468</td>\n",
              "      <td>1.616949</td>\n",
              "      <td>-0.042481</td>\n",
              "    </tr>\n",
              "  </tbody>\n",
              "</table>\n",
              "<p>1216 rows × 3 columns</p>\n",
              "</div>"
            ],
            "text/plain": [
              "gender                                                     F  ...      diff\n",
              "title                                                         ...          \n",
              "Close Shave, A (1995)                               4.644444  ...  0.170650\n",
              "Wrong Trousers, The (1993)                          4.588235  ...  0.109974\n",
              "Sunset Blvd. (a.k.a. Sunset Boulevard) (1950)       4.572650  ...  0.108060\n",
              "Wallace & Gromit: The Best of Aardman Animation...  4.563107  ...  0.178032\n",
              "Schindler's List (1993)                             4.562602  ...  0.071187\n",
              "...                                                      ...  ...       ...\n",
              "Avengers, The (1998)                                1.915254  ... -0.102213\n",
              "Speed 2: Cruise Control (1997)                      1.906667  ...  0.043653\n",
              "Rocky V (1990)                                      1.878788  ... -0.253992\n",
              "Barb Wire (1996)                                    1.585366  ... -0.515020\n",
              "Battlefield Earth (2000)                            1.574468  ... -0.042481\n",
              "\n",
              "[1216 rows x 3 columns]"
            ]
          },
          "metadata": {
            "tags": []
          },
          "execution_count": 32
        }
      ]
    },
    {
      "cell_type": "code",
      "metadata": {
        "id": "bfDVldYi4Gd2",
        "colab_type": "code",
        "outputId": "df49ebc3-1bb3-459f-bad0-3d0b916db503",
        "colab": {
          "base_uri": "https://localhost:8080/",
          "height": 394
        }
      },
      "source": [
        "top_female_ratings.iloc[:10]"
      ],
      "execution_count": 0,
      "outputs": [
        {
          "output_type": "execute_result",
          "data": {
            "text/html": [
              "<div>\n",
              "<style scoped>\n",
              "    .dataframe tbody tr th:only-of-type {\n",
              "        vertical-align: middle;\n",
              "    }\n",
              "\n",
              "    .dataframe tbody tr th {\n",
              "        vertical-align: top;\n",
              "    }\n",
              "\n",
              "    .dataframe thead th {\n",
              "        text-align: right;\n",
              "    }\n",
              "</style>\n",
              "<table border=\"1\" class=\"dataframe\">\n",
              "  <thead>\n",
              "    <tr style=\"text-align: right;\">\n",
              "      <th>gender</th>\n",
              "      <th>F</th>\n",
              "      <th>M</th>\n",
              "      <th>diff</th>\n",
              "    </tr>\n",
              "    <tr>\n",
              "      <th>title</th>\n",
              "      <th></th>\n",
              "      <th></th>\n",
              "      <th></th>\n",
              "    </tr>\n",
              "  </thead>\n",
              "  <tbody>\n",
              "    <tr>\n",
              "      <th>Close Shave, A (1995)</th>\n",
              "      <td>4.644444</td>\n",
              "      <td>4.473795</td>\n",
              "      <td>0.170650</td>\n",
              "    </tr>\n",
              "    <tr>\n",
              "      <th>Wrong Trousers, The (1993)</th>\n",
              "      <td>4.588235</td>\n",
              "      <td>4.478261</td>\n",
              "      <td>0.109974</td>\n",
              "    </tr>\n",
              "    <tr>\n",
              "      <th>Sunset Blvd. (a.k.a. Sunset Boulevard) (1950)</th>\n",
              "      <td>4.572650</td>\n",
              "      <td>4.464589</td>\n",
              "      <td>0.108060</td>\n",
              "    </tr>\n",
              "    <tr>\n",
              "      <th>Wallace &amp; Gromit: The Best of Aardman Animation (1996)</th>\n",
              "      <td>4.563107</td>\n",
              "      <td>4.385075</td>\n",
              "      <td>0.178032</td>\n",
              "    </tr>\n",
              "    <tr>\n",
              "      <th>Schindler's List (1993)</th>\n",
              "      <td>4.562602</td>\n",
              "      <td>4.491415</td>\n",
              "      <td>0.071187</td>\n",
              "    </tr>\n",
              "    <tr>\n",
              "      <th>Shawshank Redemption, The (1994)</th>\n",
              "      <td>4.539075</td>\n",
              "      <td>4.560625</td>\n",
              "      <td>-0.021550</td>\n",
              "    </tr>\n",
              "    <tr>\n",
              "      <th>Grand Day Out, A (1992)</th>\n",
              "      <td>4.537879</td>\n",
              "      <td>4.293255</td>\n",
              "      <td>0.244624</td>\n",
              "    </tr>\n",
              "    <tr>\n",
              "      <th>To Kill a Mockingbird (1962)</th>\n",
              "      <td>4.536667</td>\n",
              "      <td>4.372611</td>\n",
              "      <td>0.164055</td>\n",
              "    </tr>\n",
              "    <tr>\n",
              "      <th>Creature Comforts (1990)</th>\n",
              "      <td>4.513889</td>\n",
              "      <td>4.272277</td>\n",
              "      <td>0.241612</td>\n",
              "    </tr>\n",
              "    <tr>\n",
              "      <th>Usual Suspects, The (1995)</th>\n",
              "      <td>4.513317</td>\n",
              "      <td>4.518248</td>\n",
              "      <td>-0.004931</td>\n",
              "    </tr>\n",
              "  </tbody>\n",
              "</table>\n",
              "</div>"
            ],
            "text/plain": [
              "gender                                                     F  ...      diff\n",
              "title                                                         ...          \n",
              "Close Shave, A (1995)                               4.644444  ...  0.170650\n",
              "Wrong Trousers, The (1993)                          4.588235  ...  0.109974\n",
              "Sunset Blvd. (a.k.a. Sunset Boulevard) (1950)       4.572650  ...  0.108060\n",
              "Wallace & Gromit: The Best of Aardman Animation...  4.563107  ...  0.178032\n",
              "Schindler's List (1993)                             4.562602  ...  0.071187\n",
              "Shawshank Redemption, The (1994)                    4.539075  ... -0.021550\n",
              "Grand Day Out, A (1992)                             4.537879  ...  0.244624\n",
              "To Kill a Mockingbird (1962)                        4.536667  ...  0.164055\n",
              "Creature Comforts (1990)                            4.513889  ...  0.241612\n",
              "Usual Suspects, The (1995)                          4.513317  ... -0.004931\n",
              "\n",
              "[10 rows x 3 columns]"
            ]
          },
          "metadata": {
            "tags": []
          },
          "execution_count": 33
        }
      ]
    },
    {
      "cell_type": "code",
      "metadata": {
        "id": "mbW0_jqH5OSH",
        "colab_type": "code",
        "outputId": "a71ed17b-4ff8-4613-a732-e1c00230c871",
        "colab": {
          "base_uri": "https://localhost:8080/",
          "height": 411
        }
      },
      "source": [
        "top_female_ratings.iloc[-10:]"
      ],
      "execution_count": 0,
      "outputs": [
        {
          "output_type": "execute_result",
          "data": {
            "text/html": [
              "<div>\n",
              "<style scoped>\n",
              "    .dataframe tbody tr th:only-of-type {\n",
              "        vertical-align: middle;\n",
              "    }\n",
              "\n",
              "    .dataframe tbody tr th {\n",
              "        vertical-align: top;\n",
              "    }\n",
              "\n",
              "    .dataframe thead th {\n",
              "        text-align: right;\n",
              "    }\n",
              "</style>\n",
              "<table border=\"1\" class=\"dataframe\">\n",
              "  <thead>\n",
              "    <tr style=\"text-align: right;\">\n",
              "      <th>gender</th>\n",
              "      <th>F</th>\n",
              "      <th>M</th>\n",
              "      <th>diff</th>\n",
              "    </tr>\n",
              "    <tr>\n",
              "      <th>title</th>\n",
              "      <th></th>\n",
              "      <th></th>\n",
              "      <th></th>\n",
              "    </tr>\n",
              "  </thead>\n",
              "  <tbody>\n",
              "    <tr>\n",
              "      <th>Karate Kid III, The (1989)</th>\n",
              "      <td>2.155556</td>\n",
              "      <td>2.116183</td>\n",
              "      <td>0.039373</td>\n",
              "    </tr>\n",
              "    <tr>\n",
              "      <th>Teenage Mutant Ninja Turtles II: The Secret of the Ooze (1991)</th>\n",
              "      <td>2.152174</td>\n",
              "      <td>2.121951</td>\n",
              "      <td>0.030223</td>\n",
              "    </tr>\n",
              "    <tr>\n",
              "      <th>Striptease (1996)</th>\n",
              "      <td>2.150000</td>\n",
              "      <td>2.193277</td>\n",
              "      <td>-0.043277</td>\n",
              "    </tr>\n",
              "    <tr>\n",
              "      <th>Howard the Duck (1986)</th>\n",
              "      <td>2.074627</td>\n",
              "      <td>2.103542</td>\n",
              "      <td>-0.028915</td>\n",
              "    </tr>\n",
              "    <tr>\n",
              "      <th>Anaconda (1997)</th>\n",
              "      <td>2.000000</td>\n",
              "      <td>2.248447</td>\n",
              "      <td>-0.248447</td>\n",
              "    </tr>\n",
              "    <tr>\n",
              "      <th>Avengers, The (1998)</th>\n",
              "      <td>1.915254</td>\n",
              "      <td>2.017467</td>\n",
              "      <td>-0.102213</td>\n",
              "    </tr>\n",
              "    <tr>\n",
              "      <th>Speed 2: Cruise Control (1997)</th>\n",
              "      <td>1.906667</td>\n",
              "      <td>1.863014</td>\n",
              "      <td>0.043653</td>\n",
              "    </tr>\n",
              "    <tr>\n",
              "      <th>Rocky V (1990)</th>\n",
              "      <td>1.878788</td>\n",
              "      <td>2.132780</td>\n",
              "      <td>-0.253992</td>\n",
              "    </tr>\n",
              "    <tr>\n",
              "      <th>Barb Wire (1996)</th>\n",
              "      <td>1.585366</td>\n",
              "      <td>2.100386</td>\n",
              "      <td>-0.515020</td>\n",
              "    </tr>\n",
              "    <tr>\n",
              "      <th>Battlefield Earth (2000)</th>\n",
              "      <td>1.574468</td>\n",
              "      <td>1.616949</td>\n",
              "      <td>-0.042481</td>\n",
              "    </tr>\n",
              "  </tbody>\n",
              "</table>\n",
              "</div>"
            ],
            "text/plain": [
              "gender                                                     F  ...      diff\n",
              "title                                                         ...          \n",
              "Karate Kid III, The (1989)                          2.155556  ...  0.039373\n",
              "Teenage Mutant Ninja Turtles II: The Secret of ...  2.152174  ...  0.030223\n",
              "Striptease (1996)                                   2.150000  ... -0.043277\n",
              "Howard the Duck (1986)                              2.074627  ... -0.028915\n",
              "Anaconda (1997)                                     2.000000  ... -0.248447\n",
              "Avengers, The (1998)                                1.915254  ... -0.102213\n",
              "Speed 2: Cruise Control (1997)                      1.906667  ...  0.043653\n",
              "Rocky V (1990)                                      1.878788  ... -0.253992\n",
              "Barb Wire (1996)                                    1.585366  ... -0.515020\n",
              "Battlefield Earth (2000)                            1.574468  ... -0.042481\n",
              "\n",
              "[10 rows x 3 columns]"
            ]
          },
          "metadata": {
            "tags": []
          },
          "execution_count": 34
        }
      ]
    },
    {
      "cell_type": "code",
      "metadata": {
        "id": "qVgSjzXy7yGF",
        "colab_type": "code",
        "outputId": "67457dbe-f640-4986-b6a1-9bda68acc803",
        "colab": {
          "base_uri": "https://localhost:8080/",
          "height": 394
        }
      },
      "source": [
        "sorted_by_diff = mean_ratings_by_gender.sort_values(by='diff')\n",
        "sorted_by_diff.iloc[:10]\n",
        "# 남성들의 평점이 여성들의 평점보다 높은 영화"
      ],
      "execution_count": 0,
      "outputs": [
        {
          "output_type": "execute_result",
          "data": {
            "text/html": [
              "<div>\n",
              "<style scoped>\n",
              "    .dataframe tbody tr th:only-of-type {\n",
              "        vertical-align: middle;\n",
              "    }\n",
              "\n",
              "    .dataframe tbody tr th {\n",
              "        vertical-align: top;\n",
              "    }\n",
              "\n",
              "    .dataframe thead th {\n",
              "        text-align: right;\n",
              "    }\n",
              "</style>\n",
              "<table border=\"1\" class=\"dataframe\">\n",
              "  <thead>\n",
              "    <tr style=\"text-align: right;\">\n",
              "      <th>gender</th>\n",
              "      <th>F</th>\n",
              "      <th>M</th>\n",
              "      <th>diff</th>\n",
              "    </tr>\n",
              "    <tr>\n",
              "      <th>title</th>\n",
              "      <th></th>\n",
              "      <th></th>\n",
              "      <th></th>\n",
              "    </tr>\n",
              "  </thead>\n",
              "  <tbody>\n",
              "    <tr>\n",
              "      <th>Good, The Bad and The Ugly, The (1966)</th>\n",
              "      <td>3.494949</td>\n",
              "      <td>4.221300</td>\n",
              "      <td>-0.726351</td>\n",
              "    </tr>\n",
              "    <tr>\n",
              "      <th>Kentucky Fried Movie, The (1977)</th>\n",
              "      <td>2.878788</td>\n",
              "      <td>3.555147</td>\n",
              "      <td>-0.676359</td>\n",
              "    </tr>\n",
              "    <tr>\n",
              "      <th>Dumb &amp; Dumber (1994)</th>\n",
              "      <td>2.697987</td>\n",
              "      <td>3.336595</td>\n",
              "      <td>-0.638608</td>\n",
              "    </tr>\n",
              "    <tr>\n",
              "      <th>Longest Day, The (1962)</th>\n",
              "      <td>3.411765</td>\n",
              "      <td>4.031447</td>\n",
              "      <td>-0.619682</td>\n",
              "    </tr>\n",
              "    <tr>\n",
              "      <th>Cable Guy, The (1996)</th>\n",
              "      <td>2.250000</td>\n",
              "      <td>2.863787</td>\n",
              "      <td>-0.613787</td>\n",
              "    </tr>\n",
              "    <tr>\n",
              "      <th>Evil Dead II (Dead By Dawn) (1987)</th>\n",
              "      <td>3.297297</td>\n",
              "      <td>3.909283</td>\n",
              "      <td>-0.611985</td>\n",
              "    </tr>\n",
              "    <tr>\n",
              "      <th>Hidden, The (1987)</th>\n",
              "      <td>3.137931</td>\n",
              "      <td>3.745098</td>\n",
              "      <td>-0.607167</td>\n",
              "    </tr>\n",
              "    <tr>\n",
              "      <th>Rocky III (1982)</th>\n",
              "      <td>2.361702</td>\n",
              "      <td>2.943503</td>\n",
              "      <td>-0.581801</td>\n",
              "    </tr>\n",
              "    <tr>\n",
              "      <th>Caddyshack (1980)</th>\n",
              "      <td>3.396135</td>\n",
              "      <td>3.969737</td>\n",
              "      <td>-0.573602</td>\n",
              "    </tr>\n",
              "    <tr>\n",
              "      <th>For a Few Dollars More (1965)</th>\n",
              "      <td>3.409091</td>\n",
              "      <td>3.953795</td>\n",
              "      <td>-0.544704</td>\n",
              "    </tr>\n",
              "  </tbody>\n",
              "</table>\n",
              "</div>"
            ],
            "text/plain": [
              "gender                                         F         M      diff\n",
              "title                                                               \n",
              "Good, The Bad and The Ugly, The (1966)  3.494949  4.221300 -0.726351\n",
              "Kentucky Fried Movie, The (1977)        2.878788  3.555147 -0.676359\n",
              "Dumb & Dumber (1994)                    2.697987  3.336595 -0.638608\n",
              "Longest Day, The (1962)                 3.411765  4.031447 -0.619682\n",
              "Cable Guy, The (1996)                   2.250000  2.863787 -0.613787\n",
              "Evil Dead II (Dead By Dawn) (1987)      3.297297  3.909283 -0.611985\n",
              "Hidden, The (1987)                      3.137931  3.745098 -0.607167\n",
              "Rocky III (1982)                        2.361702  2.943503 -0.581801\n",
              "Caddyshack (1980)                       3.396135  3.969737 -0.573602\n",
              "For a Few Dollars More (1965)           3.409091  3.953795 -0.544704"
            ]
          },
          "metadata": {
            "tags": []
          },
          "execution_count": 35
        }
      ]
    },
    {
      "cell_type": "code",
      "metadata": {
        "id": "PLY98ikn9LJ9",
        "colab_type": "code",
        "outputId": "4cea6df0-7567-4d26-894e-5f9c5143c316",
        "colab": {
          "base_uri": "https://localhost:8080/",
          "height": 394
        }
      },
      "source": [
        "# 여성들이 남성들보다 높은 평점을 준 영화\n",
        "sorted_by_diff.iloc[-10:]"
      ],
      "execution_count": 0,
      "outputs": [
        {
          "output_type": "execute_result",
          "data": {
            "text/html": [
              "<div>\n",
              "<style scoped>\n",
              "    .dataframe tbody tr th:only-of-type {\n",
              "        vertical-align: middle;\n",
              "    }\n",
              "\n",
              "    .dataframe tbody tr th {\n",
              "        vertical-align: top;\n",
              "    }\n",
              "\n",
              "    .dataframe thead th {\n",
              "        text-align: right;\n",
              "    }\n",
              "</style>\n",
              "<table border=\"1\" class=\"dataframe\">\n",
              "  <thead>\n",
              "    <tr style=\"text-align: right;\">\n",
              "      <th>gender</th>\n",
              "      <th>F</th>\n",
              "      <th>M</th>\n",
              "      <th>diff</th>\n",
              "    </tr>\n",
              "    <tr>\n",
              "      <th>title</th>\n",
              "      <th></th>\n",
              "      <th></th>\n",
              "      <th></th>\n",
              "    </tr>\n",
              "  </thead>\n",
              "  <tbody>\n",
              "    <tr>\n",
              "      <th>Free Willy (1993)</th>\n",
              "      <td>2.921348</td>\n",
              "      <td>2.438776</td>\n",
              "      <td>0.482573</td>\n",
              "    </tr>\n",
              "    <tr>\n",
              "      <th>Age of Innocence, The (1993)</th>\n",
              "      <td>3.827068</td>\n",
              "      <td>3.339506</td>\n",
              "      <td>0.487561</td>\n",
              "    </tr>\n",
              "    <tr>\n",
              "      <th>Color Purple, The (1985)</th>\n",
              "      <td>4.158192</td>\n",
              "      <td>3.659341</td>\n",
              "      <td>0.498851</td>\n",
              "    </tr>\n",
              "    <tr>\n",
              "      <th>Rocky Horror Picture Show, The (1975)</th>\n",
              "      <td>3.673016</td>\n",
              "      <td>3.160131</td>\n",
              "      <td>0.512885</td>\n",
              "    </tr>\n",
              "    <tr>\n",
              "      <th>Anastasia (1997)</th>\n",
              "      <td>3.800000</td>\n",
              "      <td>3.281609</td>\n",
              "      <td>0.518391</td>\n",
              "    </tr>\n",
              "    <tr>\n",
              "      <th>Steel Magnolias (1989)</th>\n",
              "      <td>3.901734</td>\n",
              "      <td>3.365957</td>\n",
              "      <td>0.535777</td>\n",
              "    </tr>\n",
              "    <tr>\n",
              "      <th>Little Women (1994)</th>\n",
              "      <td>3.870588</td>\n",
              "      <td>3.321739</td>\n",
              "      <td>0.548849</td>\n",
              "    </tr>\n",
              "    <tr>\n",
              "      <th>Grease (1978)</th>\n",
              "      <td>3.975265</td>\n",
              "      <td>3.367041</td>\n",
              "      <td>0.608224</td>\n",
              "    </tr>\n",
              "    <tr>\n",
              "      <th>Jumpin' Jack Flash (1986)</th>\n",
              "      <td>3.254717</td>\n",
              "      <td>2.578358</td>\n",
              "      <td>0.676359</td>\n",
              "    </tr>\n",
              "    <tr>\n",
              "      <th>Dirty Dancing (1987)</th>\n",
              "      <td>3.790378</td>\n",
              "      <td>2.959596</td>\n",
              "      <td>0.830782</td>\n",
              "    </tr>\n",
              "  </tbody>\n",
              "</table>\n",
              "</div>"
            ],
            "text/plain": [
              "gender                                        F         M      diff\n",
              "title                                                              \n",
              "Free Willy (1993)                      2.921348  2.438776  0.482573\n",
              "Age of Innocence, The (1993)           3.827068  3.339506  0.487561\n",
              "Color Purple, The (1985)               4.158192  3.659341  0.498851\n",
              "Rocky Horror Picture Show, The (1975)  3.673016  3.160131  0.512885\n",
              "Anastasia (1997)                       3.800000  3.281609  0.518391\n",
              "Steel Magnolias (1989)                 3.901734  3.365957  0.535777\n",
              "Little Women (1994)                    3.870588  3.321739  0.548849\n",
              "Grease (1978)                          3.975265  3.367041  0.608224\n",
              "Jumpin' Jack Flash (1986)              3.254717  2.578358  0.676359\n",
              "Dirty Dancing (1987)                   3.790378  2.959596  0.830782"
            ]
          },
          "metadata": {
            "tags": []
          },
          "execution_count": 37
        }
      ]
    },
    {
      "cell_type": "code",
      "metadata": {
        "id": "6CX_8wEo9Vzm",
        "colab_type": "code",
        "outputId": "da88169d-07f7-40c9-b1c5-33aee53d052d",
        "colab": {
          "base_uri": "https://localhost:8080/",
          "height": 242
        }
      },
      "source": [
        "# 성별에 관계없이 영화에 대한 평점(호불호)가 극명하게 달라지는 영화\n",
        "# 평점의 분산 또는 표준편차가 큰 영화\n",
        "# 영화 title별로 그룹지어서, 영화의 평점의 표준편차(standard deviation) 계산\n",
        "rating_std_by_title = df.groupby('title')['rating'].std()\n",
        "rating_std_by_title"
      ],
      "execution_count": 0,
      "outputs": [
        {
          "output_type": "execute_result",
          "data": {
            "text/plain": [
              "title\n",
              "$1,000,000 Duck (1971)                        1.092563\n",
              "'Night Mother (1986)                          1.118636\n",
              "'Til There Was You (1997)                     1.020159\n",
              "'burbs, The (1989)                            1.107760\n",
              "...And Justice for All (1979)                 0.878110\n",
              "                                                ...   \n",
              "Zed & Two Noughts, A (1985)                   1.052794\n",
              "Zero Effect (1998)                            1.042932\n",
              "Zero Kelvin (Kj�rlighetens kj�tere) (1995)    0.707107\n",
              "Zeus and Roxanne (1997)                       1.122884\n",
              "eXistenZ (1999)                               1.178568\n",
              "Name: rating, Length: 3706, dtype: float64"
            ]
          },
          "metadata": {
            "tags": []
          },
          "execution_count": 38
        }
      ]
    },
    {
      "cell_type": "code",
      "metadata": {
        "id": "lsniMFlA_1fe",
        "colab_type": "code",
        "outputId": "28054cd8-92e3-4133-a03c-a2b854b3bdca",
        "colab": {
          "base_uri": "https://localhost:8080/",
          "height": 242
        }
      },
      "source": [
        "# 250건 이상의 평점을 받은 영화들만 선택\n",
        "rating_std_by_title = rating_std_by_title.loc[active_titles]\n",
        "rating_std_by_title"
      ],
      "execution_count": 0,
      "outputs": [
        {
          "output_type": "execute_result",
          "data": {
            "text/plain": [
              "title\n",
              "'burbs, The (1989)                   1.107760\n",
              "10 Things I Hate About You (1999)    0.989815\n",
              "101 Dalmatians (1961)                0.982103\n",
              "101 Dalmatians (1996)                1.098717\n",
              "12 Angry Men (1957)                  0.812731\n",
              "                                       ...   \n",
              "Young Guns (1988)                    1.017437\n",
              "Young Guns II (1990)                 1.071959\n",
              "Young Sherlock Holmes (1985)         0.891176\n",
              "Zero Effect (1998)                   1.042932\n",
              "eXistenZ (1999)                      1.178568\n",
              "Name: rating, Length: 1216, dtype: float64"
            ]
          },
          "metadata": {
            "tags": []
          },
          "execution_count": 39
        }
      ]
    },
    {
      "cell_type": "code",
      "metadata": {
        "id": "W2-WGGmZAXse",
        "colab_type": "code",
        "outputId": "e047c759-a7be-4cee-ac67-bb15ba963ccf",
        "colab": {
          "base_uri": "https://localhost:8080/",
          "height": 225
        }
      },
      "source": [
        "# 표준편차 내림차순으로 정렬\n",
        "sorted_std = rating_std_by_title.sort_values(ascending=False)\n",
        "sorted_std[:10]"
      ],
      "execution_count": 0,
      "outputs": [
        {
          "output_type": "execute_result",
          "data": {
            "text/plain": [
              "title\n",
              "Dumb & Dumber (1994)                     1.321333\n",
              "Blair Witch Project, The (1999)          1.316368\n",
              "Natural Born Killers (1994)              1.307198\n",
              "Tank Girl (1995)                         1.277695\n",
              "Rocky Horror Picture Show, The (1975)    1.260177\n",
              "Eyes Wide Shut (1999)                    1.259624\n",
              "Evita (1996)                             1.253631\n",
              "Billy Madison (1995)                     1.249970\n",
              "Fear and Loathing in Las Vegas (1998)    1.246408\n",
              "Bicentennial Man (1999)                  1.245533\n",
              "Name: rating, dtype: float64"
            ]
          },
          "metadata": {
            "tags": []
          },
          "execution_count": 40
        }
      ]
    },
    {
      "cell_type": "code",
      "metadata": {
        "id": "BnQCqp_zA6TT",
        "colab_type": "code",
        "outputId": "e68732cf-a975-448a-8174-fdd3457a098d",
        "colab": {
          "base_uri": "https://localhost:8080/",
          "height": 225
        }
      },
      "source": [
        "sorted_std[-10:]"
      ],
      "execution_count": 0,
      "outputs": [
        {
          "output_type": "execute_result",
          "data": {
            "text/plain": [
              "title\n",
              "Sunset Blvd. (a.k.a. Sunset Boulevard) (1950)    0.740924\n",
              "Double Indemnity (1944)                          0.740793\n",
              "Hustler, The (1961)                              0.737298\n",
              "North by Northwest (1959)                        0.732515\n",
              "Raiders of the Lost Ark (1981)                   0.725647\n",
              "Wrong Trousers, The (1993)                       0.708666\n",
              "Shawshank Redemption, The (1994)                 0.700443\n",
              "Great Escape, The (1963)                         0.692585\n",
              "Rear Window (1954)                               0.688946\n",
              "Close Shave, A (1995)                            0.667143\n",
              "Name: rating, dtype: float64"
            ]
          },
          "metadata": {
            "tags": []
          },
          "execution_count": 41
        }
      ]
    },
    {
      "cell_type": "code",
      "metadata": {
        "id": "j_D61ojwBRav",
        "colab_type": "code",
        "colab": {}
      },
      "source": [
        ""
      ],
      "execution_count": 0,
      "outputs": []
    }
  ]
}