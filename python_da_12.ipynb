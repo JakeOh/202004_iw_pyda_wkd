{
  "nbformat": 4,
  "nbformat_minor": 0,
  "metadata": {
    "colab": {
      "name": "python_da_12.ipynb",
      "provenance": [],
      "collapsed_sections": [],
      "mount_file_id": "1uGrgBpQfHRxWVTNoL2PwGd7nkCKeUeg2",
      "authorship_tag": "ABX9TyOCslu6M2btSuyl/fjC4UNs",
      "include_colab_link": true
    },
    "kernelspec": {
      "name": "python3",
      "display_name": "Python 3"
    }
  },
  "cells": [
    {
      "cell_type": "markdown",
      "metadata": {
        "id": "view-in-github",
        "colab_type": "text"
      },
      "source": [
        "<a href=\"https://colab.research.google.com/github/JakeOh/202004_iw_pyda_wkd/blob/master/python_da_12.ipynb\" target=\"_parent\"><img src=\"https://colab.research.google.com/assets/colab-badge.svg\" alt=\"Open In Colab\"/></a>"
      ]
    },
    {
      "cell_type": "code",
      "metadata": {
        "id": "Qc5IYcNtD2jr",
        "colab_type": "code",
        "outputId": "d5400f74-0cd9-4297-b70c-6826af659160",
        "colab": {
          "base_uri": "https://localhost:8080/",
          "height": 71
        }
      },
      "source": [
        "import numpy as np\n",
        "import pandas as pd\n",
        "import matplotlib.pyplot as plt\n",
        "import seaborn as sns"
      ],
      "execution_count": 0,
      "outputs": [
        {
          "output_type": "stream",
          "text": [
            "/usr/local/lib/python3.6/dist-packages/statsmodels/tools/_testing.py:19: FutureWarning: pandas.util.testing is deprecated. Use the functions in the public API at pandas.testing instead.\n",
            "  import pandas.util.testing as tm\n"
          ],
          "name": "stderr"
        }
      ]
    },
    {
      "cell_type": "code",
      "metadata": {
        "id": "H7h6SuWtEGYF",
        "colab_type": "code",
        "colab": {}
      },
      "source": [
        "file_path = 'drive/My Drive/Colab Notebooks/python_da/bitly_usagov/example.txt'"
      ],
      "execution_count": 0,
      "outputs": []
    },
    {
      "cell_type": "code",
      "metadata": {
        "id": "el5Eg_mmFQwt",
        "colab_type": "code",
        "outputId": "98fddb7f-467f-4c40-c3c1-c773c33e536b",
        "colab": {
          "base_uri": "https://localhost:8080/",
          "height": 71
        }
      },
      "source": [
        "f = open(file_path)  # 파일 오픈\n",
        "print(f.readline())  # 파일에서 줄바꿈이 있는 곳까지 한줄 읽음\n",
        "f.close()  # 파일 닫기"
      ],
      "execution_count": 0,
      "outputs": [
        {
          "output_type": "stream",
          "text": [
            "{ \"a\": \"Mozilla\\/5.0 (Windows NT 6.1; WOW64) AppleWebKit\\/535.11 (KHTML, like Gecko) Chrome\\/17.0.963.78 Safari\\/535.11\", \"c\": \"US\", \"nk\": 1, \"tz\": \"America\\/New_York\", \"gr\": \"MA\", \"g\": \"A6qOVH\", \"h\": \"wfLQtf\", \"l\": \"orofrog\", \"al\": \"en-US,en;q=0.8\", \"hh\": \"1.usa.gov\", \"r\": \"http:\\/\\/www.facebook.com\\/l\\/7AQEFzjSi\\/1.usa.gov\\/wfLQtf\", \"u\": \"http:\\/\\/www.ncbi.nlm.nih.gov\\/pubmed\\/22415991\", \"t\": 1331923247, \"hc\": 1331822918, \"cy\": \"Danvers\", \"ll\": [ 42.576698, -70.954903 ] }\n",
            "\n"
          ],
          "name": "stdout"
        }
      ]
    },
    {
      "cell_type": "code",
      "metadata": {
        "id": "asXy2mvyKxd8",
        "colab_type": "code",
        "outputId": "c6ea0260-084d-48eb-bc23-c5ee58aaae1c",
        "colab": {
          "base_uri": "https://localhost:8080/",
          "height": 123
        }
      },
      "source": [
        "import json\n",
        "\n",
        "# Python for in 구문에서 파일 객체를 사용하면, \n",
        "# readline()을 자동으로 호출해줌.\n",
        "i = 0\n",
        "f = open(file_path)\n",
        "for line in f:  # 파일 f에서 한줄씩 읽으면서 반복\n",
        "    # print(line)\n",
        "    print(json.loads(line))  # 파일에서 읽은 한줄을 dict타입으로 변환\n",
        "    i += 1\n",
        "    if i == 5:\n",
        "        break\n",
        "f.close()"
      ],
      "execution_count": 0,
      "outputs": [
        {
          "output_type": "stream",
          "text": [
            "{'a': 'Mozilla/5.0 (Windows NT 6.1; WOW64) AppleWebKit/535.11 (KHTML, like Gecko) Chrome/17.0.963.78 Safari/535.11', 'c': 'US', 'nk': 1, 'tz': 'America/New_York', 'gr': 'MA', 'g': 'A6qOVH', 'h': 'wfLQtf', 'l': 'orofrog', 'al': 'en-US,en;q=0.8', 'hh': '1.usa.gov', 'r': 'http://www.facebook.com/l/7AQEFzjSi/1.usa.gov/wfLQtf', 'u': 'http://www.ncbi.nlm.nih.gov/pubmed/22415991', 't': 1331923247, 'hc': 1331822918, 'cy': 'Danvers', 'll': [42.576698, -70.954903]}\n",
            "{'a': 'GoogleMaps/RochesterNY', 'c': 'US', 'nk': 0, 'tz': 'America/Denver', 'gr': 'UT', 'g': 'mwszkS', 'h': 'mwszkS', 'l': 'bitly', 'hh': 'j.mp', 'r': 'http://www.AwareMap.com/', 'u': 'http://www.monroecounty.gov/etc/911/rss.php', 't': 1331923249, 'hc': 1308262393, 'cy': 'Provo', 'll': [40.218102, -111.613297]}\n",
            "{'a': 'Mozilla/4.0 (compatible; MSIE 8.0; Windows NT 6.1; WOW64; Trident/4.0; SLCC2; .NET CLR 2.0.50727; .NET CLR 3.5.30729; .NET CLR 3.0.30729; Media Center PC 6.0; .NET4.0C; .NET4.0E; InfoPath.3)', 'c': 'US', 'nk': 1, 'tz': 'America/New_York', 'gr': 'DC', 'g': 'xxr3Qb', 'h': 'xxr3Qb', 'l': 'bitly', 'al': 'en-US', 'hh': '1.usa.gov', 'r': 'http://t.co/03elZC4Q', 'u': 'http://boxer.senate.gov/en/press/releases/031612.cfm', 't': 1331923250, 'hc': 1331919941, 'cy': 'Washington', 'll': [38.9007, -77.043098]}\n",
            "{'a': 'Mozilla/5.0 (Macintosh; Intel Mac OS X 10_6_8) AppleWebKit/534.52.7 (KHTML, like Gecko) Version/5.1.2 Safari/534.52.7', 'c': 'BR', 'nk': 0, 'tz': 'America/Sao_Paulo', 'gr': '27', 'g': 'zCaLwp', 'h': 'zUtuOu', 'l': 'alelex88', 'al': 'pt-br', 'hh': '1.usa.gov', 'r': 'direct', 'u': 'http://apod.nasa.gov/apod/ap120312.html', 't': 1331923249, 'hc': 1331923068, 'cy': 'Braz', 'll': [-23.549999, -46.616699]}\n",
            "{'a': 'Mozilla/5.0 (Windows NT 6.1; WOW64) AppleWebKit/535.11 (KHTML, like Gecko) Chrome/17.0.963.79 Safari/535.11', 'c': 'US', 'nk': 0, 'tz': 'America/New_York', 'gr': 'MA', 'g': '9b6kNl', 'h': '9b6kNl', 'l': 'bitly', 'al': 'en-US,en;q=0.8', 'hh': 'bit.ly', 'r': 'http://www.shrewsbury-ma.gov/selco/', 'u': 'http://www.shrewsbury-ma.gov/egov/gallery/134127368672998.png', 't': 1331923251, 'hc': 1273672411, 'cy': 'Shrewsbury', 'll': [42.286499, -71.714699]}\n"
          ],
          "name": "stdout"
        }
      ]
    },
    {
      "cell_type": "code",
      "metadata": {
        "id": "577aYVuUMJKb",
        "colab_type": "code",
        "colab": {}
      },
      "source": [
        "# JSON(JavaScript Object Notation)\n",
        "# {key: value, key: value, ...}\n",
        "# Python의 dict 타입과 유사\n",
        "# JSON 형식의 문자열 <===> dict 타입 변환: json 패키지\n",
        "# json.loads(): JSON 형식의 문자열 -> Python의 dict 객체 - deserialize\n",
        "# json.dumps(): Python dict 객체 -> JSON 형식의 문자열 - serialize"
      ],
      "execution_count": 0,
      "outputs": []
    },
    {
      "cell_type": "code",
      "metadata": {
        "id": "AaO692NgLl5k",
        "colab_type": "code",
        "colab": {}
      },
      "source": [
        "# JSON 파일을 읽어서 dict 객체들의 리스트를 생성\n",
        "f = open(file_path)\n",
        "records = [json.loads(line) for line in f]\n",
        "f.close()"
      ],
      "execution_count": 0,
      "outputs": []
    },
    {
      "cell_type": "code",
      "metadata": {
        "id": "6Jhzx0HyQE_P",
        "colab_type": "code",
        "outputId": "6a87b612-be48-498d-e289-94825f97f151",
        "colab": {
          "base_uri": "https://localhost:8080/",
          "height": 34
        }
      },
      "source": [
        "len(records)"
      ],
      "execution_count": 0,
      "outputs": [
        {
          "output_type": "execute_result",
          "data": {
            "text/plain": [
              "3560"
            ]
          },
          "metadata": {
            "tags": []
          },
          "execution_count": 15
        }
      ]
    },
    {
      "cell_type": "code",
      "metadata": {
        "id": "KxPmc68HQKZ_",
        "colab_type": "code",
        "outputId": "60f56907-dee3-4c7c-816c-e01f703c99bb",
        "colab": {
          "base_uri": "https://localhost:8080/",
          "height": 314
        }
      },
      "source": [
        "records[0]"
      ],
      "execution_count": 0,
      "outputs": [
        {
          "output_type": "execute_result",
          "data": {
            "text/plain": [
              "{'a': 'Mozilla/5.0 (Windows NT 6.1; WOW64) AppleWebKit/535.11 (KHTML, like Gecko) Chrome/17.0.963.78 Safari/535.11',\n",
              " 'al': 'en-US,en;q=0.8',\n",
              " 'c': 'US',\n",
              " 'cy': 'Danvers',\n",
              " 'g': 'A6qOVH',\n",
              " 'gr': 'MA',\n",
              " 'h': 'wfLQtf',\n",
              " 'hc': 1331822918,\n",
              " 'hh': '1.usa.gov',\n",
              " 'l': 'orofrog',\n",
              " 'll': [42.576698, -70.954903],\n",
              " 'nk': 1,\n",
              " 'r': 'http://www.facebook.com/l/7AQEFzjSi/1.usa.gov/wfLQtf',\n",
              " 't': 1331923247,\n",
              " 'tz': 'America/New_York',\n",
              " 'u': 'http://www.ncbi.nlm.nih.gov/pubmed/22415991'}"
            ]
          },
          "metadata": {
            "tags": []
          },
          "execution_count": 18
        }
      ]
    },
    {
      "cell_type": "code",
      "metadata": {
        "id": "qaKwaptHRIoy",
        "colab_type": "code",
        "outputId": "c33a6e2b-b767-4e91-f067-36879a7da7f1",
        "colab": {
          "base_uri": "https://localhost:8080/",
          "height": 190
        }
      },
      "source": [
        "# 가장 빈도가 높은 시간대(tz)\n",
        "# 데이터들 중에는 'tz' 키가 없는 데이터도 있기 때문에\n",
        "# 'tz' 키가 있는 것만 선택해야 함.\n",
        "time_zones = [rec['tz'] for rec in records if 'tz' in rec]\n",
        "time_zones[:10]"
      ],
      "execution_count": 0,
      "outputs": [
        {
          "output_type": "execute_result",
          "data": {
            "text/plain": [
              "['America/New_York',\n",
              " 'America/Denver',\n",
              " 'America/New_York',\n",
              " 'America/Sao_Paulo',\n",
              " 'America/New_York',\n",
              " 'America/New_York',\n",
              " 'Europe/Warsaw',\n",
              " '',\n",
              " '',\n",
              " '']"
            ]
          },
          "metadata": {
            "tags": []
          },
          "execution_count": 22
        }
      ]
    },
    {
      "cell_type": "code",
      "metadata": {
        "id": "JlDoqPb6Rsj5",
        "colab_type": "code",
        "colab": {}
      },
      "source": [
        "from collections import defaultdict  # 파이썬 기본 모듈\n",
        "counts = defaultdict(int)  \n",
        "# int 타입 값(value)을 저장하는 defaultdict 객체 생성\n",
        "for x in time_zones:\n",
        "    counts[x] += 1\n"
      ],
      "execution_count": 0,
      "outputs": []
    },
    {
      "cell_type": "code",
      "metadata": {
        "id": "4Gi4YtBgTsN8",
        "colab_type": "code",
        "outputId": "874193ac-3a99-41b5-dcfb-6326587085f9",
        "colab": {
          "base_uri": "https://localhost:8080/",
          "height": 34
        }
      },
      "source": [
        "counts['America/New_York']"
      ],
      "execution_count": 0,
      "outputs": [
        {
          "output_type": "execute_result",
          "data": {
            "text/plain": [
              "1251"
            ]
          },
          "metadata": {
            "tags": []
          },
          "execution_count": 25
        }
      ]
    },
    {
      "cell_type": "code",
      "metadata": {
        "id": "7QJ8nKvhUvvE",
        "colab_type": "code",
        "outputId": "bb524ebe-3192-46b3-9de4-f7b3c46f55d4",
        "colab": {
          "base_uri": "https://localhost:8080/",
          "height": 34
        }
      },
      "source": [
        "counts['America/Sao_Paulo']"
      ],
      "execution_count": 0,
      "outputs": [
        {
          "output_type": "execute_result",
          "data": {
            "text/plain": [
              "33"
            ]
          },
          "metadata": {
            "tags": []
          },
          "execution_count": 26
        }
      ]
    },
    {
      "cell_type": "code",
      "metadata": {
        "id": "V96giOE1X0hK",
        "colab_type": "code",
        "colab": {}
      },
      "source": [
        "# dict들의 리스트(records)를 pandas 데이터프레임으로 변환\n",
        "df = pd.DataFrame(records)"
      ],
      "execution_count": 0,
      "outputs": []
    },
    {
      "cell_type": "code",
      "metadata": {
        "id": "AE3y3xlBYM8f",
        "colab_type": "code",
        "outputId": "a455f4d4-b54a-4bef-b794-778c5f438f7e",
        "colab": {
          "base_uri": "https://localhost:8080/",
          "height": 450
        }
      },
      "source": [
        "df.info()"
      ],
      "execution_count": 0,
      "outputs": [
        {
          "output_type": "stream",
          "text": [
            "<class 'pandas.core.frame.DataFrame'>\n",
            "RangeIndex: 3560 entries, 0 to 3559\n",
            "Data columns (total 18 columns):\n",
            " #   Column       Non-Null Count  Dtype  \n",
            "---  ------       --------------  -----  \n",
            " 0   a            3440 non-null   object \n",
            " 1   c            2919 non-null   object \n",
            " 2   nk           3440 non-null   float64\n",
            " 3   tz           3440 non-null   object \n",
            " 4   gr           2919 non-null   object \n",
            " 5   g            3440 non-null   object \n",
            " 6   h            3440 non-null   object \n",
            " 7   l            3440 non-null   object \n",
            " 8   al           3094 non-null   object \n",
            " 9   hh           3440 non-null   object \n",
            " 10  r            3440 non-null   object \n",
            " 11  u            3440 non-null   object \n",
            " 12  t            3440 non-null   float64\n",
            " 13  hc           3440 non-null   float64\n",
            " 14  cy           2919 non-null   object \n",
            " 15  ll           2919 non-null   object \n",
            " 16  _heartbeat_  120 non-null    float64\n",
            " 17  kw           93 non-null     object \n",
            "dtypes: float64(4), object(14)\n",
            "memory usage: 500.8+ KB\n"
          ],
          "name": "stdout"
        }
      ]
    },
    {
      "cell_type": "code",
      "metadata": {
        "id": "gs1MLvrAZTI_",
        "colab_type": "code",
        "outputId": "e62258ce-2a94-4293-ca27-52a0ac383cd8",
        "colab": {
          "base_uri": "https://localhost:8080/",
          "height": 382
        }
      },
      "source": [
        "df.iloc[:5]"
      ],
      "execution_count": 0,
      "outputs": [
        {
          "output_type": "execute_result",
          "data": {
            "text/html": [
              "<div>\n",
              "<style scoped>\n",
              "    .dataframe tbody tr th:only-of-type {\n",
              "        vertical-align: middle;\n",
              "    }\n",
              "\n",
              "    .dataframe tbody tr th {\n",
              "        vertical-align: top;\n",
              "    }\n",
              "\n",
              "    .dataframe thead th {\n",
              "        text-align: right;\n",
              "    }\n",
              "</style>\n",
              "<table border=\"1\" class=\"dataframe\">\n",
              "  <thead>\n",
              "    <tr style=\"text-align: right;\">\n",
              "      <th></th>\n",
              "      <th>a</th>\n",
              "      <th>c</th>\n",
              "      <th>nk</th>\n",
              "      <th>tz</th>\n",
              "      <th>gr</th>\n",
              "      <th>g</th>\n",
              "      <th>h</th>\n",
              "      <th>l</th>\n",
              "      <th>al</th>\n",
              "      <th>hh</th>\n",
              "      <th>r</th>\n",
              "      <th>u</th>\n",
              "      <th>t</th>\n",
              "      <th>hc</th>\n",
              "      <th>cy</th>\n",
              "      <th>ll</th>\n",
              "      <th>_heartbeat_</th>\n",
              "      <th>kw</th>\n",
              "    </tr>\n",
              "  </thead>\n",
              "  <tbody>\n",
              "    <tr>\n",
              "      <th>0</th>\n",
              "      <td>Mozilla/5.0 (Windows NT 6.1; WOW64) AppleWebKi...</td>\n",
              "      <td>US</td>\n",
              "      <td>1.0</td>\n",
              "      <td>America/New_York</td>\n",
              "      <td>MA</td>\n",
              "      <td>A6qOVH</td>\n",
              "      <td>wfLQtf</td>\n",
              "      <td>orofrog</td>\n",
              "      <td>en-US,en;q=0.8</td>\n",
              "      <td>1.usa.gov</td>\n",
              "      <td>http://www.facebook.com/l/7AQEFzjSi/1.usa.gov/...</td>\n",
              "      <td>http://www.ncbi.nlm.nih.gov/pubmed/22415991</td>\n",
              "      <td>1.331923e+09</td>\n",
              "      <td>1.331823e+09</td>\n",
              "      <td>Danvers</td>\n",
              "      <td>[42.576698, -70.954903]</td>\n",
              "      <td>NaN</td>\n",
              "      <td>NaN</td>\n",
              "    </tr>\n",
              "    <tr>\n",
              "      <th>1</th>\n",
              "      <td>GoogleMaps/RochesterNY</td>\n",
              "      <td>US</td>\n",
              "      <td>0.0</td>\n",
              "      <td>America/Denver</td>\n",
              "      <td>UT</td>\n",
              "      <td>mwszkS</td>\n",
              "      <td>mwszkS</td>\n",
              "      <td>bitly</td>\n",
              "      <td>NaN</td>\n",
              "      <td>j.mp</td>\n",
              "      <td>http://www.AwareMap.com/</td>\n",
              "      <td>http://www.monroecounty.gov/etc/911/rss.php</td>\n",
              "      <td>1.331923e+09</td>\n",
              "      <td>1.308262e+09</td>\n",
              "      <td>Provo</td>\n",
              "      <td>[40.218102, -111.613297]</td>\n",
              "      <td>NaN</td>\n",
              "      <td>NaN</td>\n",
              "    </tr>\n",
              "    <tr>\n",
              "      <th>2</th>\n",
              "      <td>Mozilla/4.0 (compatible; MSIE 8.0; Windows NT ...</td>\n",
              "      <td>US</td>\n",
              "      <td>1.0</td>\n",
              "      <td>America/New_York</td>\n",
              "      <td>DC</td>\n",
              "      <td>xxr3Qb</td>\n",
              "      <td>xxr3Qb</td>\n",
              "      <td>bitly</td>\n",
              "      <td>en-US</td>\n",
              "      <td>1.usa.gov</td>\n",
              "      <td>http://t.co/03elZC4Q</td>\n",
              "      <td>http://boxer.senate.gov/en/press/releases/0316...</td>\n",
              "      <td>1.331923e+09</td>\n",
              "      <td>1.331920e+09</td>\n",
              "      <td>Washington</td>\n",
              "      <td>[38.9007, -77.043098]</td>\n",
              "      <td>NaN</td>\n",
              "      <td>NaN</td>\n",
              "    </tr>\n",
              "    <tr>\n",
              "      <th>3</th>\n",
              "      <td>Mozilla/5.0 (Macintosh; Intel Mac OS X 10_6_8)...</td>\n",
              "      <td>BR</td>\n",
              "      <td>0.0</td>\n",
              "      <td>America/Sao_Paulo</td>\n",
              "      <td>27</td>\n",
              "      <td>zCaLwp</td>\n",
              "      <td>zUtuOu</td>\n",
              "      <td>alelex88</td>\n",
              "      <td>pt-br</td>\n",
              "      <td>1.usa.gov</td>\n",
              "      <td>direct</td>\n",
              "      <td>http://apod.nasa.gov/apod/ap120312.html</td>\n",
              "      <td>1.331923e+09</td>\n",
              "      <td>1.331923e+09</td>\n",
              "      <td>Braz</td>\n",
              "      <td>[-23.549999, -46.616699]</td>\n",
              "      <td>NaN</td>\n",
              "      <td>NaN</td>\n",
              "    </tr>\n",
              "    <tr>\n",
              "      <th>4</th>\n",
              "      <td>Mozilla/5.0 (Windows NT 6.1; WOW64) AppleWebKi...</td>\n",
              "      <td>US</td>\n",
              "      <td>0.0</td>\n",
              "      <td>America/New_York</td>\n",
              "      <td>MA</td>\n",
              "      <td>9b6kNl</td>\n",
              "      <td>9b6kNl</td>\n",
              "      <td>bitly</td>\n",
              "      <td>en-US,en;q=0.8</td>\n",
              "      <td>bit.ly</td>\n",
              "      <td>http://www.shrewsbury-ma.gov/selco/</td>\n",
              "      <td>http://www.shrewsbury-ma.gov/egov/gallery/1341...</td>\n",
              "      <td>1.331923e+09</td>\n",
              "      <td>1.273672e+09</td>\n",
              "      <td>Shrewsbury</td>\n",
              "      <td>[42.286499, -71.714699]</td>\n",
              "      <td>NaN</td>\n",
              "      <td>NaN</td>\n",
              "    </tr>\n",
              "  </tbody>\n",
              "</table>\n",
              "</div>"
            ],
            "text/plain": [
              "                                                   a   c  ...  _heartbeat_   kw\n",
              "0  Mozilla/5.0 (Windows NT 6.1; WOW64) AppleWebKi...  US  ...          NaN  NaN\n",
              "1                             GoogleMaps/RochesterNY  US  ...          NaN  NaN\n",
              "2  Mozilla/4.0 (compatible; MSIE 8.0; Windows NT ...  US  ...          NaN  NaN\n",
              "3  Mozilla/5.0 (Macintosh; Intel Mac OS X 10_6_8)...  BR  ...          NaN  NaN\n",
              "4  Mozilla/5.0 (Windows NT 6.1; WOW64) AppleWebKi...  US  ...          NaN  NaN\n",
              "\n",
              "[5 rows x 18 columns]"
            ]
          },
          "metadata": {
            "tags": []
          },
          "execution_count": 30
        }
      ]
    },
    {
      "cell_type": "code",
      "metadata": {
        "id": "aV6fPJ3nZpvX",
        "colab_type": "code",
        "outputId": "1472986d-0409-4177-9b48-7866e13bc0d5",
        "colab": {
          "base_uri": "https://localhost:8080/",
          "height": 225
        }
      },
      "source": [
        "df.loc[:10, 'tz']"
      ],
      "execution_count": 0,
      "outputs": [
        {
          "output_type": "execute_result",
          "data": {
            "text/plain": [
              "0        America/New_York\n",
              "1          America/Denver\n",
              "2        America/New_York\n",
              "3       America/Sao_Paulo\n",
              "4        America/New_York\n",
              "5        America/New_York\n",
              "6           Europe/Warsaw\n",
              "7                        \n",
              "8                        \n",
              "9                        \n",
              "10    America/Los_Angeles\n",
              "Name: tz, dtype: object"
            ]
          },
          "metadata": {
            "tags": []
          },
          "execution_count": 31
        }
      ]
    },
    {
      "cell_type": "code",
      "metadata": {
        "id": "5x0vfRXcaH-P",
        "colab_type": "code",
        "outputId": "e762ce3b-b675-4070-f338-1691cc43d6eb",
        "colab": {
          "base_uri": "https://localhost:8080/",
          "height": 207
        }
      },
      "source": [
        "# tz 컬럼 데이터들의 빈도수 세기\n",
        "tz_counts = df['tz'].value_counts()\n",
        "tz_counts[:10]"
      ],
      "execution_count": 0,
      "outputs": [
        {
          "output_type": "execute_result",
          "data": {
            "text/plain": [
              "America/New_York       1251\n",
              "                        521\n",
              "America/Chicago         400\n",
              "America/Los_Angeles     382\n",
              "America/Denver          191\n",
              "Europe/London            74\n",
              "Asia/Tokyo               37\n",
              "Pacific/Honolulu         36\n",
              "Europe/Madrid            35\n",
              "America/Sao_Paulo        33\n",
              "Name: tz, dtype: int64"
            ]
          },
          "metadata": {
            "tags": []
          },
          "execution_count": 32
        }
      ]
    },
    {
      "cell_type": "code",
      "metadata": {
        "id": "7Zxn_PLWa-Yg",
        "colab_type": "code",
        "colab": {}
      },
      "source": [
        "# NA(null)를 'Missing' 대체\n",
        "clean_tz = df['tz'].fillna('Missing')\n",
        "# 'tz'의 값이 비어있는 문자열('')이면 'Unknown'으로 대체\n",
        "clean_tz[clean_tz == ''] = 'Unkonwn'\n",
        "\n",
        "tz_counts = clean_tz.value_counts()"
      ],
      "execution_count": 0,
      "outputs": []
    },
    {
      "cell_type": "code",
      "metadata": {
        "id": "NlOmah2Zb1Qk",
        "colab_type": "code",
        "outputId": "f93241e5-e01d-4ac1-edaa-196b461b09b6",
        "colab": {
          "base_uri": "https://localhost:8080/",
          "height": 207
        }
      },
      "source": [
        "tz_counts[:10]"
      ],
      "execution_count": 0,
      "outputs": [
        {
          "output_type": "execute_result",
          "data": {
            "text/plain": [
              "America/New_York       1251\n",
              "Unkonwn                 521\n",
              "America/Chicago         400\n",
              "America/Los_Angeles     382\n",
              "America/Denver          191\n",
              "Missing                 120\n",
              "Europe/London            74\n",
              "Asia/Tokyo               37\n",
              "Pacific/Honolulu         36\n",
              "Europe/Madrid            35\n",
              "Name: tz, dtype: int64"
            ]
          },
          "metadata": {
            "tags": []
          },
          "execution_count": 35
        }
      ]
    },
    {
      "cell_type": "code",
      "metadata": {
        "id": "mW211ThwciSH",
        "colab_type": "code",
        "outputId": "f3457b83-7a6c-415e-aede-af576fa77c9e",
        "colab": {
          "base_uri": "https://localhost:8080/",
          "height": 265
        }
      },
      "source": [
        "# timezone의 빈도수 상위 10개 지역을 막대 그래프로 작성\n",
        "top10_tz = tz_counts[:10]  # pandas.Series 객체\n",
        "sns.barplot(x=top10_tz.values, y=top10_tz.index)\n",
        "plt.show()"
      ],
      "execution_count": 0,
      "outputs": [
        {
          "output_type": "display_data",
          "data": {
            "image/png": "[encoded data removed]",
            "text/plain": [
              "<Figure size 432x288 with 1 Axes>"
            ]
          },
          "metadata": {
            "tags": [],
            "needs_background": "light"
          }
        }
      ]
    },
    {
      "cell_type": "code",
      "metadata": {
        "id": "54LKp9BVb3HS",
        "colab_type": "code",
        "outputId": "0b4ccb66-ca04-4cc7-feb7-e4002c96e4db",
        "colab": {
          "base_uri": "https://localhost:8080/",
          "height": 54
        }
      },
      "source": [
        "df.loc[51, 'a']  # agent: 브라우저 종류, OS 종류"
      ],
      "execution_count": 0,
      "outputs": [
        {
          "output_type": "execute_result",
          "data": {
            "text/plain": [
              "'Mozilla/5.0 (Linux; U; Android 2.2.2; en-us; LG-P925/V10e Build/FRG83G) AppleWebKit/533.1 (KHTML, like Gecko) Version/4.0 Mobile Safari/533.1'"
            ]
          },
          "metadata": {
            "tags": []
          },
          "execution_count": 40
        }
      ]
    },
    {
      "cell_type": "code",
      "metadata": {
        "id": "0AkXMfyXfyWA",
        "colab_type": "code",
        "outputId": "75305c53-1e91-43f0-97f6-0eebb3ad4c76",
        "colab": {
          "base_uri": "https://localhost:8080/",
          "height": 738
        }
      },
      "source": [
        "# Windodws 계열/ 비Windows 계열 접속 현황\n",
        "# -> 데이터 프레임의 에이전트 컬럼('a')에 Windows 포함되어 있는지\n",
        "clean_df = df[df['a'].notnull()]  # 'a' 컬럼이 Null인 경우 제외\n",
        "clean_df"
      ],
      "execution_count": 0,
      "outputs": [
        {
          "output_type": "execute_result",
          "data": {
            "text/html": [
              "<div>\n",
              "<style scoped>\n",
              "    .dataframe tbody tr th:only-of-type {\n",
              "        vertical-align: middle;\n",
              "    }\n",
              "\n",
              "    .dataframe tbody tr th {\n",
              "        vertical-align: top;\n",
              "    }\n",
              "\n",
              "    .dataframe thead th {\n",
              "        text-align: right;\n",
              "    }\n",
              "</style>\n",
              "<table border=\"1\" class=\"dataframe\">\n",
              "  <thead>\n",
              "    <tr style=\"text-align: right;\">\n",
              "      <th></th>\n",
              "      <th>a</th>\n",
              "      <th>c</th>\n",
              "      <th>nk</th>\n",
              "      <th>tz</th>\n",
              "      <th>gr</th>\n",
              "      <th>g</th>\n",
              "      <th>h</th>\n",
              "      <th>l</th>\n",
              "      <th>al</th>\n",
              "      <th>hh</th>\n",
              "      <th>r</th>\n",
              "      <th>u</th>\n",
              "      <th>t</th>\n",
              "      <th>hc</th>\n",
              "      <th>cy</th>\n",
              "      <th>ll</th>\n",
              "      <th>_heartbeat_</th>\n",
              "      <th>kw</th>\n",
              "    </tr>\n",
              "  </thead>\n",
              "  <tbody>\n",
              "    <tr>\n",
              "      <th>0</th>\n",
              "      <td>Mozilla/5.0 (Windows NT 6.1; WOW64) AppleWebKi...</td>\n",
              "      <td>US</td>\n",
              "      <td>1.0</td>\n",
              "      <td>America/New_York</td>\n",
              "      <td>MA</td>\n",
              "      <td>A6qOVH</td>\n",
              "      <td>wfLQtf</td>\n",
              "      <td>orofrog</td>\n",
              "      <td>en-US,en;q=0.8</td>\n",
              "      <td>1.usa.gov</td>\n",
              "      <td>http://www.facebook.com/l/7AQEFzjSi/1.usa.gov/...</td>\n",
              "      <td>http://www.ncbi.nlm.nih.gov/pubmed/22415991</td>\n",
              "      <td>1.331923e+09</td>\n",
              "      <td>1.331823e+09</td>\n",
              "      <td>Danvers</td>\n",
              "      <td>[42.576698, -70.954903]</td>\n",
              "      <td>NaN</td>\n",
              "      <td>NaN</td>\n",
              "    </tr>\n",
              "    <tr>\n",
              "      <th>1</th>\n",
              "      <td>GoogleMaps/RochesterNY</td>\n",
              "      <td>US</td>\n",
              "      <td>0.0</td>\n",
              "      <td>America/Denver</td>\n",
              "      <td>UT</td>\n",
              "      <td>mwszkS</td>\n",
              "      <td>mwszkS</td>\n",
              "      <td>bitly</td>\n",
              "      <td>NaN</td>\n",
              "      <td>j.mp</td>\n",
              "      <td>http://www.AwareMap.com/</td>\n",
              "      <td>http://www.monroecounty.gov/etc/911/rss.php</td>\n",
              "      <td>1.331923e+09</td>\n",
              "      <td>1.308262e+09</td>\n",
              "      <td>Provo</td>\n",
              "      <td>[40.218102, -111.613297]</td>\n",
              "      <td>NaN</td>\n",
              "      <td>NaN</td>\n",
              "    </tr>\n",
              "    <tr>\n",
              "      <th>2</th>\n",
              "      <td>Mozilla/4.0 (compatible; MSIE 8.0; Windows NT ...</td>\n",
              "      <td>US</td>\n",
              "      <td>1.0</td>\n",
              "      <td>America/New_York</td>\n",
              "      <td>DC</td>\n",
              "      <td>xxr3Qb</td>\n",
              "      <td>xxr3Qb</td>\n",
              "      <td>bitly</td>\n",
              "      <td>en-US</td>\n",
              "      <td>1.usa.gov</td>\n",
              "      <td>http://t.co/03elZC4Q</td>\n",
              "      <td>http://boxer.senate.gov/en/press/releases/0316...</td>\n",
              "      <td>1.331923e+09</td>\n",
              "      <td>1.331920e+09</td>\n",
              "      <td>Washington</td>\n",
              "      <td>[38.9007, -77.043098]</td>\n",
              "      <td>NaN</td>\n",
              "      <td>NaN</td>\n",
              "    </tr>\n",
              "    <tr>\n",
              "      <th>3</th>\n",
              "      <td>Mozilla/5.0 (Macintosh; Intel Mac OS X 10_6_8)...</td>\n",
              "      <td>BR</td>\n",
              "      <td>0.0</td>\n",
              "      <td>America/Sao_Paulo</td>\n",
              "      <td>27</td>\n",
              "      <td>zCaLwp</td>\n",
              "      <td>zUtuOu</td>\n",
              "      <td>alelex88</td>\n",
              "      <td>pt-br</td>\n",
              "      <td>1.usa.gov</td>\n",
              "      <td>direct</td>\n",
              "      <td>http://apod.nasa.gov/apod/ap120312.html</td>\n",
              "      <td>1.331923e+09</td>\n",
              "      <td>1.331923e+09</td>\n",
              "      <td>Braz</td>\n",
              "      <td>[-23.549999, -46.616699]</td>\n",
              "      <td>NaN</td>\n",
              "      <td>NaN</td>\n",
              "    </tr>\n",
              "    <tr>\n",
              "      <th>4</th>\n",
              "      <td>Mozilla/5.0 (Windows NT 6.1; WOW64) AppleWebKi...</td>\n",
              "      <td>US</td>\n",
              "      <td>0.0</td>\n",
              "      <td>America/New_York</td>\n",
              "      <td>MA</td>\n",
              "      <td>9b6kNl</td>\n",
              "      <td>9b6kNl</td>\n",
              "      <td>bitly</td>\n",
              "      <td>en-US,en;q=0.8</td>\n",
              "      <td>bit.ly</td>\n",
              "      <td>http://www.shrewsbury-ma.gov/selco/</td>\n",
              "      <td>http://www.shrewsbury-ma.gov/egov/gallery/1341...</td>\n",
              "      <td>1.331923e+09</td>\n",
              "      <td>1.273672e+09</td>\n",
              "      <td>Shrewsbury</td>\n",
              "      <td>[42.286499, -71.714699]</td>\n",
              "      <td>NaN</td>\n",
              "      <td>NaN</td>\n",
              "    </tr>\n",
              "    <tr>\n",
              "      <th>...</th>\n",
              "      <td>...</td>\n",
              "      <td>...</td>\n",
              "      <td>...</td>\n",
              "      <td>...</td>\n",
              "      <td>...</td>\n",
              "      <td>...</td>\n",
              "      <td>...</td>\n",
              "      <td>...</td>\n",
              "      <td>...</td>\n",
              "      <td>...</td>\n",
              "      <td>...</td>\n",
              "      <td>...</td>\n",
              "      <td>...</td>\n",
              "      <td>...</td>\n",
              "      <td>...</td>\n",
              "      <td>...</td>\n",
              "      <td>...</td>\n",
              "      <td>...</td>\n",
              "    </tr>\n",
              "    <tr>\n",
              "      <th>3555</th>\n",
              "      <td>Mozilla/4.0 (compatible; MSIE 9.0; Windows NT ...</td>\n",
              "      <td>US</td>\n",
              "      <td>1.0</td>\n",
              "      <td>America/New_York</td>\n",
              "      <td>NJ</td>\n",
              "      <td>e5SvKE</td>\n",
              "      <td>fqPSr9</td>\n",
              "      <td>tweetdeckapi</td>\n",
              "      <td>en</td>\n",
              "      <td>1.usa.gov</td>\n",
              "      <td>direct</td>\n",
              "      <td>http://www.fda.gov/AdvisoryCommittees/Committe...</td>\n",
              "      <td>1.331927e+09</td>\n",
              "      <td>1.301298e+09</td>\n",
              "      <td>Paramus</td>\n",
              "      <td>[40.9445, -74.07]</td>\n",
              "      <td>NaN</td>\n",
              "      <td>NaN</td>\n",
              "    </tr>\n",
              "    <tr>\n",
              "      <th>3556</th>\n",
              "      <td>Mozilla/5.0 (Windows NT 5.1) AppleWebKit/535.1...</td>\n",
              "      <td>US</td>\n",
              "      <td>0.0</td>\n",
              "      <td>America/Chicago</td>\n",
              "      <td>OK</td>\n",
              "      <td>jQLtP4</td>\n",
              "      <td>jQLtP4</td>\n",
              "      <td>bitly</td>\n",
              "      <td>en-US,en;q=0.8</td>\n",
              "      <td>1.usa.gov</td>\n",
              "      <td>http://www.facebook.com/l.php?u=http%3A%2F%2F1...</td>\n",
              "      <td>http://www.okc.gov/PublicNotificationSystem/Fo...</td>\n",
              "      <td>1.331927e+09</td>\n",
              "      <td>1.307530e+09</td>\n",
              "      <td>Oklahoma City</td>\n",
              "      <td>[35.4715, -97.518997]</td>\n",
              "      <td>NaN</td>\n",
              "      <td>NaN</td>\n",
              "    </tr>\n",
              "    <tr>\n",
              "      <th>3557</th>\n",
              "      <td>GoogleMaps/RochesterNY</td>\n",
              "      <td>US</td>\n",
              "      <td>0.0</td>\n",
              "      <td>America/Denver</td>\n",
              "      <td>UT</td>\n",
              "      <td>mwszkS</td>\n",
              "      <td>mwszkS</td>\n",
              "      <td>bitly</td>\n",
              "      <td>NaN</td>\n",
              "      <td>j.mp</td>\n",
              "      <td>http://www.AwareMap.com/</td>\n",
              "      <td>http://www.monroecounty.gov/etc/911/rss.php</td>\n",
              "      <td>1.331927e+09</td>\n",
              "      <td>1.308262e+09</td>\n",
              "      <td>Provo</td>\n",
              "      <td>[40.218102, -111.613297]</td>\n",
              "      <td>NaN</td>\n",
              "      <td>NaN</td>\n",
              "    </tr>\n",
              "    <tr>\n",
              "      <th>3558</th>\n",
              "      <td>GoogleProducer</td>\n",
              "      <td>US</td>\n",
              "      <td>0.0</td>\n",
              "      <td>America/Los_Angeles</td>\n",
              "      <td>CA</td>\n",
              "      <td>zjtI4X</td>\n",
              "      <td>zjtI4X</td>\n",
              "      <td>bitly</td>\n",
              "      <td>NaN</td>\n",
              "      <td>1.usa.gov</td>\n",
              "      <td>direct</td>\n",
              "      <td>http://www.ahrq.gov/qual/qitoolkit/</td>\n",
              "      <td>1.331927e+09</td>\n",
              "      <td>1.327529e+09</td>\n",
              "      <td>Mountain View</td>\n",
              "      <td>[37.419201, -122.057404]</td>\n",
              "      <td>NaN</td>\n",
              "      <td>NaN</td>\n",
              "    </tr>\n",
              "    <tr>\n",
              "      <th>3559</th>\n",
              "      <td>Mozilla/4.0 (compatible; MSIE 8.0; Windows NT ...</td>\n",
              "      <td>US</td>\n",
              "      <td>0.0</td>\n",
              "      <td>America/New_York</td>\n",
              "      <td>VA</td>\n",
              "      <td>qxKrTK</td>\n",
              "      <td>qxKrTK</td>\n",
              "      <td>bitly</td>\n",
              "      <td>en-US</td>\n",
              "      <td>1.usa.gov</td>\n",
              "      <td>http://t.co/OEEEvwjU</td>\n",
              "      <td>http://herndon-va.gov/Content/public_safety/Pu...</td>\n",
              "      <td>1.331927e+09</td>\n",
              "      <td>1.312898e+09</td>\n",
              "      <td>Mc Lean</td>\n",
              "      <td>[38.935799, -77.162102]</td>\n",
              "      <td>NaN</td>\n",
              "      <td>NaN</td>\n",
              "    </tr>\n",
              "  </tbody>\n",
              "</table>\n",
              "<p>3440 rows × 18 columns</p>\n",
              "</div>"
            ],
            "text/plain": [
              "                                                      a   c  ...  _heartbeat_   kw\n",
              "0     Mozilla/5.0 (Windows NT 6.1; WOW64) AppleWebKi...  US  ...          NaN  NaN\n",
              "1                                GoogleMaps/RochesterNY  US  ...          NaN  NaN\n",
              "2     Mozilla/4.0 (compatible; MSIE 8.0; Windows NT ...  US  ...          NaN  NaN\n",
              "3     Mozilla/5.0 (Macintosh; Intel Mac OS X 10_6_8)...  BR  ...          NaN  NaN\n",
              "4     Mozilla/5.0 (Windows NT 6.1; WOW64) AppleWebKi...  US  ...          NaN  NaN\n",
              "...                                                 ...  ..  ...          ...  ...\n",
              "3555  Mozilla/4.0 (compatible; MSIE 9.0; Windows NT ...  US  ...          NaN  NaN\n",
              "3556  Mozilla/5.0 (Windows NT 5.1) AppleWebKit/535.1...  US  ...          NaN  NaN\n",
              "3557                             GoogleMaps/RochesterNY  US  ...          NaN  NaN\n",
              "3558                                     GoogleProducer  US  ...          NaN  NaN\n",
              "3559  Mozilla/4.0 (compatible; MSIE 8.0; Windows NT ...  US  ...          NaN  NaN\n",
              "\n",
              "[3440 rows x 18 columns]"
            ]
          },
          "metadata": {
            "tags": []
          },
          "execution_count": 41
        }
      ]
    },
    {
      "cell_type": "code",
      "metadata": {
        "id": "2MdXSsQcg0no",
        "colab_type": "code",
        "outputId": "0ea88a7c-adc3-42f6-bb8e-db1c30c312cf",
        "colab": {
          "base_uri": "https://localhost:8080/",
          "height": 262
        }
      },
      "source": [
        "# clean_df에 'os' 컬럼 추가\n",
        "clean_df['os'] = np.where(clean_df['a'].str.contains('Windows'),\n",
        "                          'Windows', 'Not Windows')\n",
        "clean_df.loc[:5, 'os']"
      ],
      "execution_count": 0,
      "outputs": [
        {
          "output_type": "stream",
          "text": [
            "/usr/local/lib/python3.6/dist-packages/ipykernel_launcher.py:2: SettingWithCopyWarning: \n",
            "A value is trying to be set on a copy of a slice from a DataFrame.\n",
            "Try using .loc[row_indexer,col_indexer] = value instead\n",
            "\n",
            "See the caveats in the documentation: https://pandas.pydata.org/pandas-docs/stable/user_guide/indexing.html#returning-a-view-versus-a-copy\n",
            "  \n"
          ],
          "name": "stderr"
        },
        {
          "output_type": "execute_result",
          "data": {
            "text/plain": [
              "0        Windows\n",
              "1    Not Windows\n",
              "2        Windows\n",
              "3    Not Windows\n",
              "4        Windows\n",
              "5        Windows\n",
              "Name: os, dtype: object"
            ]
          },
          "metadata": {
            "tags": []
          },
          "execution_count": 42
        }
      ]
    },
    {
      "cell_type": "code",
      "metadata": {
        "id": "J1zaUG4niBam",
        "colab_type": "code",
        "colab": {}
      },
      "source": [
        "s = clean_df.groupby(['tz', 'os']).size()"
      ],
      "execution_count": 0,
      "outputs": []
    },
    {
      "cell_type": "code",
      "metadata": {
        "id": "72ZUBt6-hMap",
        "colab_type": "code",
        "outputId": "7380a1f4-578b-4604-90c8-f74ae498f108",
        "colab": {
          "base_uri": "https://localhost:8080/",
          "height": 34
        }
      },
      "source": [
        "type(s)"
      ],
      "execution_count": 0,
      "outputs": [
        {
          "output_type": "execute_result",
          "data": {
            "text/plain": [
              "pandas.core.series.Series"
            ]
          },
          "metadata": {
            "tags": []
          },
          "execution_count": 46
        }
      ]
    },
    {
      "cell_type": "code",
      "metadata": {
        "id": "VB7V2IKfjj0w",
        "colab_type": "code",
        "outputId": "6653a013-750b-4b24-8f83-4275b75de668",
        "colab": {
          "base_uri": "https://localhost:8080/",
          "height": 398
        }
      },
      "source": [
        "s.index"
      ],
      "execution_count": 0,
      "outputs": [
        {
          "output_type": "execute_result",
          "data": {
            "text/plain": [
              "MultiIndex([(                              '', 'Not Windows'),\n",
              "            (                              '',     'Windows'),\n",
              "            (                  'Africa/Cairo',     'Windows'),\n",
              "            (             'Africa/Casablanca',     'Windows'),\n",
              "            (                  'Africa/Ceuta',     'Windows'),\n",
              "            (           'Africa/Johannesburg',     'Windows'),\n",
              "            (                 'Africa/Lusaka',     'Windows'),\n",
              "            (             'America/Anchorage', 'Not Windows'),\n",
              "            (             'America/Anchorage',     'Windows'),\n",
              "            ('America/Argentina/Buenos_Aires', 'Not Windows'),\n",
              "            ...\n",
              "            (                 'Europe/Vienna', 'Not Windows'),\n",
              "            (                 'Europe/Vienna',     'Windows'),\n",
              "            (                'Europe/Vilnius',     'Windows'),\n",
              "            (              'Europe/Volgograd',     'Windows'),\n",
              "            (                 'Europe/Warsaw', 'Not Windows'),\n",
              "            (                 'Europe/Warsaw',     'Windows'),\n",
              "            (                 'Europe/Zurich', 'Not Windows'),\n",
              "            (              'Pacific/Auckland', 'Not Windows'),\n",
              "            (              'Pacific/Auckland',     'Windows'),\n",
              "            (              'Pacific/Honolulu',     'Windows')],\n",
              "           names=['tz', 'os'], length=149)"
            ]
          },
          "metadata": {
            "tags": []
          },
          "execution_count": 47
        }
      ]
    },
    {
      "cell_type": "code",
      "metadata": {
        "id": "Iqzbl81bjyiG",
        "colab_type": "code",
        "outputId": "778de9af-a9e4-4bdf-d8d6-bb0c34b05479",
        "colab": {
          "base_uri": "https://localhost:8080/",
          "height": 242
        }
      },
      "source": [
        "s\n"
      ],
      "execution_count": 0,
      "outputs": [
        {
          "output_type": "execute_result",
          "data": {
            "text/plain": [
              "tz                 os         \n",
              "                   Not Windows    245\n",
              "                   Windows        276\n",
              "Africa/Cairo       Windows          3\n",
              "Africa/Casablanca  Windows          1\n",
              "Africa/Ceuta       Windows          2\n",
              "                                 ... \n",
              "Europe/Warsaw      Windows         15\n",
              "Europe/Zurich      Not Windows      4\n",
              "Pacific/Auckland   Not Windows      3\n",
              "                   Windows          8\n",
              "Pacific/Honolulu   Windows         36\n",
              "Length: 149, dtype: int64"
            ]
          },
          "metadata": {
            "tags": []
          },
          "execution_count": 48
        }
      ]
    }
  ]
}