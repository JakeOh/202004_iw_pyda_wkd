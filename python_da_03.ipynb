{
  "nbformat": 4,
  "nbformat_minor": 0,
  "metadata": {
    "colab": {
      "name": "python_da_03.ipynb",
      "provenance": [],
      "collapsed_sections": [],
      "authorship_tag": "ABX9TyP1E21O6KbBpuRSj75sNqPB",
      "include_colab_link": true
    },
    "kernelspec": {
      "name": "python3",
      "display_name": "Python 3"
    }
  },
  "cells": [
    {
      "cell_type": "markdown",
      "metadata": {
        "id": "view-in-github",
        "colab_type": "text"
      },
      "source": [
        "<a href=\"https://colab.research.google.com/github/JakeOh/202004_iw_pyda_wkd/blob/master/python_da_03.ipynb\" target=\"_parent\"><img src=\"https://colab.research.google.com/assets/colab-badge.svg\" alt=\"Open In Colab\"/></a>"
      ]
    },
    {
      "cell_type": "code",
      "metadata": {
        "id": "UcYk-YjK3R8X",
        "colab_type": "code",
        "colab": {
          "base_uri": "https://localhost:8080/",
          "height": 86
        },
        "outputId": "275dcce8-e222-4518-a46c-21b4027c3e85"
      },
      "source": [
        "\"\"\"\n",
        "while 조건식:\n",
        "    조건식이 참일 때 실행할 문장들\n",
        "    (조건을 변경할 수 있는 문장)\n",
        "\"\"\"\n",
        "\n",
        "n = 1\n",
        "while n < 5:  # n의 값이 5보다 작은 동안에\n",
        "    print(n)\n",
        "    n += 1  # n = n + 1\n",
        "    # n -= 1 (n = n - 1), n *= 2 (n = n * 2), ..."
      ],
      "execution_count": 1,
      "outputs": [
        {
          "output_type": "stream",
          "text": [
            "1\n",
            "2\n",
            "3\n",
            "4\n"
          ],
          "name": "stdout"
        }
      ]
    },
    {
      "cell_type": "code",
      "metadata": {
        "id": "5tELWOJ66Juh",
        "colab_type": "code",
        "colab": {
          "base_uri": "https://localhost:8080/",
          "height": 34
        },
        "outputId": "acc3abd8-93b2-4e76-8342-8a7e300afb48"
      },
      "source": [
        "# 반복하는 횟수가 정해져 있지 않은 경우 while loop를 사용할 수 있다.\n",
        "\n",
        "# 1 + 2 + ... + 99 + 100\n",
        "_sum = 0\n",
        "for x in range(1, 101):\n",
        "    _sum += x\n",
        "print('sum =', _sum)\n"
      ],
      "execution_count": 3,
      "outputs": [
        {
          "output_type": "stream",
          "text": [
            "sum = 5050\n"
          ],
          "name": "stdout"
        }
      ]
    },
    {
      "cell_type": "code",
      "metadata": {
        "id": "AMhtAGkg7eNZ",
        "colab_type": "code",
        "colab": {
          "base_uri": "https://localhost:8080/",
          "height": 34
        },
        "outputId": "c6110a6e-96e4-42b2-8a75-8bea87f2fb14"
      },
      "source": [
        "# 1 + 2 + ... + 99 + 100\n",
        "_sum = 0\n",
        "n = 1\n",
        "while n <= 100:\n",
        "    _sum += n\n",
        "    n += 1\n",
        "print('sum =', _sum)"
      ],
      "execution_count": 4,
      "outputs": [
        {
          "output_type": "stream",
          "text": [
            "sum = 5050\n"
          ],
          "name": "stdout"
        }
      ]
    },
    {
      "cell_type": "code",
      "metadata": {
        "id": "3VXpFf8V8aWh",
        "colab_type": "code",
        "colab": {
          "base_uri": "https://localhost:8080/",
          "height": 34
        },
        "outputId": "8e2679cb-a4cb-4eed-f226-1e489fb9fecc"
      },
      "source": [
        "# 1 + 2 + ... + x >= 100을 만족하는 가장 작은 x 찾기\n",
        "_sum = 0\n",
        "x = 1\n",
        "while True:  # 무한 루프\n",
        "    _sum += x\n",
        "    if _sum >= 100:  # 1부터 차례로 더하던 합(_sum)이 100 이상이 되면,\n",
        "        break  # 무한 루프를 종료\n",
        "    x += 1  # x를 1 증가시켜서 다음에 더할 수 있도록 함.\n",
        "print('x =', x)"
      ],
      "execution_count": 5,
      "outputs": [
        {
          "output_type": "stream",
          "text": [
            "x = 14\n"
          ],
          "name": "stdout"
        }
      ]
    },
    {
      "cell_type": "code",
      "metadata": {
        "id": "_Qr5DrPPAvVC",
        "colab_type": "code",
        "colab": {
          "base_uri": "https://localhost:8080/",
          "height": 69
        },
        "outputId": "6d3e85a6-5eb2-41b9-be06-9362b58066da"
      },
      "source": [
        "# 10개 난수(random number)를 생성해서 리스트에 저장\n",
        "import random  # random 패키지의 기능(함수), 데이터(변수)를 사용\n",
        "\n",
        "print(random.random())  # random.random(): 0 <= r < 1 난수 생성\n",
        "print(random.randint(1, 10))  # random.randint(a, b): a <= r <= b 정수 난수 생성\n",
        "\n",
        "scores = []  # 난수들을 저장하기 위한 빈 리스트(empty list)\n",
        "for _ in range(10):  # 10번 반복\n",
        "    scores.append(random.randint(0, 10))  # scores 리스트에 난수를 추가(append)\n",
        "print(scores)"
      ],
      "execution_count": 14,
      "outputs": [
        {
          "output_type": "stream",
          "text": [
            "0.33959103069814967\n",
            "1\n",
            "[9, 8, 10, 10, 7, 5, 10, 0, 7, 0]\n"
          ],
          "name": "stdout"
        }
      ]
    },
    {
      "cell_type": "code",
      "metadata": {
        "id": "f-MxA_yqEWQC",
        "colab_type": "code",
        "colab": {
          "base_uri": "https://localhost:8080/",
          "height": 34
        },
        "outputId": "b1632478-b0e3-42db-e11b-ab3175d18040"
      },
      "source": [
        "# List Comprehension\n",
        "# [표현식 for 변수 in 컬렉션 (if 조건식)]\n",
        "scores = [random.randint(0, 10) for _ in range(10)]\n",
        "print(scores)"
      ],
      "execution_count": 18,
      "outputs": [
        {
          "output_type": "stream",
          "text": [
            "[0, 3, 6, 10, 2, 0, 4, 9, 0, 6]\n"
          ],
          "name": "stdout"
        }
      ]
    },
    {
      "cell_type": "code",
      "metadata": {
        "id": "_-Dh_7RjGK8a",
        "colab_type": "code",
        "colab": {
          "base_uri": "https://localhost:8080/",
          "height": 51
        },
        "outputId": "d1aa5fcb-c1aa-40b1-c4c0-8a2b029cb924"
      },
      "source": [
        "cities = ['seoul', 'jeju', 'dokdo']\n",
        "# cities의 원소들(문자열)을 모두 대문자로 변경한 문자열들을 갖는 리스트를 생성\n",
        "cities_upper = []\n",
        "for city in cities:  # cities의 모든 원소들에 대해서 반복(iteration)\n",
        "    cities_upper.append(city.upper())\n",
        "print(cities_upper)\n",
        "\n",
        "cities_upper2 = [city.upper() for city in cities]\n",
        "print(cities_upper2)"
      ],
      "execution_count": 20,
      "outputs": [
        {
          "output_type": "stream",
          "text": [
            "['SEOUL', 'JEJU', 'DOKDO']\n",
            "['SEOUL', 'JEJU', 'DOKDO']\n"
          ],
          "name": "stdout"
        }
      ]
    },
    {
      "cell_type": "code",
      "metadata": {
        "id": "QlbmQb3KIwIJ",
        "colab_type": "code",
        "colab": {
          "base_uri": "https://localhost:8080/",
          "height": 51
        },
        "outputId": "26062f7e-7fa7-4805-a268-aee22b55b230"
      },
      "source": [
        "list1 = []\n",
        "for city in cities:\n",
        "    if len(city) >= 5:\n",
        "        list1.append(city.upper())\n",
        "print(list1)\n",
        "\n",
        "list2 = [city.upper() for city in cities if len(city) >= 5]\n",
        "print(list2)"
      ],
      "execution_count": 22,
      "outputs": [
        {
          "output_type": "stream",
          "text": [
            "['SEOUL', 'DOKDO']\n",
            "['SEOUL', 'DOKDO']\n"
          ],
          "name": "stdout"
        }
      ]
    },
    {
      "cell_type": "code",
      "metadata": {
        "id": "7vStGHtKMJHZ",
        "colab_type": "code",
        "colab": {
          "base_uri": "https://localhost:8080/",
          "height": 34
        },
        "outputId": "58bf2892-4067-4580-a9e1-688fd666eb3a"
      },
      "source": [
        "# set comprehension\n",
        "# {표현식 for 변수 in 컬렉션 (if 조건식)}\n",
        "\n",
        "# dictionary comprehension\n",
        "# {k: v for 변수 in 컬렉션 (if 조건식)}\n",
        "\n",
        "dict1 = {city: len(city) for city in cities}\n",
        "print(dict1)"
      ],
      "execution_count": 23,
      "outputs": [
        {
          "output_type": "stream",
          "text": [
            "{'seoul': 5, 'jeju': 4, 'dokdo': 5}\n"
          ],
          "name": "stdout"
        }
      ]
    },
    {
      "cell_type": "code",
      "metadata": {
        "id": "nr_feUpZNmT5",
        "colab_type": "code",
        "colab": {
          "base_uri": "https://localhost:8080/",
          "height": 34
        },
        "outputId": "e231b25d-ddcd-4450-c212-9801c83f92cd"
      },
      "source": [
        "numbers = [1, 2, 11, 22, 30]\n",
        "names = ['a', 'b', 'c', 'd', 'e']\n",
        "\n",
        "products = {num: name for num, name in zip(numbers, names)}\n",
        "print(products)"
      ],
      "execution_count": 24,
      "outputs": [
        {
          "output_type": "stream",
          "text": [
            "{1: 'a', 2: 'b', 11: 'c', 22: 'd', 30: 'e'}\n"
          ],
          "name": "stdout"
        }
      ]
    },
    {
      "cell_type": "code",
      "metadata": {
        "id": "xKWdFglYPRSI",
        "colab_type": "code",
        "colab": {
          "base_uri": "https://localhost:8080/",
          "height": 89
        },
        "outputId": "298a2527-6bdd-4ed1-b64f-9dd24fb51bc3"
      },
      "source": [
        "# 주사위 2개를 던졌을 때 가능한 숫자들의 조합\n",
        "# [(1, 1), (1, 2), ..., (6, 5), (6, 6)]\n",
        "dice = []\n",
        "for x in range(1, 7):\n",
        "    for y in range(1, 7):\n",
        "        dice.append((x, y))\n",
        "print(dice)\n",
        "\n",
        "dice2 = [(x, y) for x in range(1, 7) for y in range(1, 7)]\n",
        "print(dice2)\n",
        "\n",
        "dice3 = [(x, y) for x in range(1, 7) for y in range(1, 7) if x >= y]\n",
        "print(dice3)"
      ],
      "execution_count": 27,
      "outputs": [
        {
          "output_type": "stream",
          "text": [
            "[(1, 1), (1, 2), (1, 3), (1, 4), (1, 5), (1, 6), (2, 1), (2, 2), (2, 3), (2, 4), (2, 5), (2, 6), (3, 1), (3, 2), (3, 3), (3, 4), (3, 5), (3, 6), (4, 1), (4, 2), (4, 3), (4, 4), (4, 5), (4, 6), (5, 1), (5, 2), (5, 3), (5, 4), (5, 5), (5, 6), (6, 1), (6, 2), (6, 3), (6, 4), (6, 5), (6, 6)]\n",
            "[(1, 1), (1, 2), (1, 3), (1, 4), (1, 5), (1, 6), (2, 1), (2, 2), (2, 3), (2, 4), (2, 5), (2, 6), (3, 1), (3, 2), (3, 3), (3, 4), (3, 5), (3, 6), (4, 1), (4, 2), (4, 3), (4, 4), (4, 5), (4, 6), (5, 1), (5, 2), (5, 3), (5, 4), (5, 5), (5, 6), (6, 1), (6, 2), (6, 3), (6, 4), (6, 5), (6, 6)]\n",
            "[(1, 1), (2, 1), (2, 2), (3, 1), (3, 2), (3, 3), (4, 1), (4, 2), (4, 3), (4, 4), (5, 1), (5, 2), (5, 3), (5, 4), (5, 5), (6, 1), (6, 2), (6, 3), (6, 4), (6, 5), (6, 6)]\n"
          ],
          "name": "stdout"
        }
      ]
    }
  ]
}